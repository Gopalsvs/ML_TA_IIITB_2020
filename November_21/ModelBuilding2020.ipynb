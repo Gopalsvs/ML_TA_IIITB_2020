{
  "nbformat": 4,
  "nbformat_minor": 0,
  "metadata": {
    "kernelspec": {
      "display_name": "Python 3",
      "language": "python",
      "name": "python3"
    },
    "language_info": {
      "codemirror_mode": {
        "name": "ipython",
        "version": 3
      },
      "file_extension": ".py",
      "mimetype": "text/x-python",
      "name": "python",
      "nbconvert_exporter": "python",
      "pygments_lexer": "ipython3",
      "version": "3.6.7"
    },
    "colab": {
      "name": "ModelBuilding2020.ipynb",
      "provenance": [],
      "collapsed_sections": [
        "ahIklih-CtSh",
        "G1c_6Li4CtSs",
        "DMyKxaaMCtS1",
        "RKpPF_zOCtS-",
        "D8o6yuYDCtTR",
        "LRuu338ACtTb",
        "3Unb7WPbCtTk",
        "BN4QbF1PCtTv",
        "L-FDqvpPCtUA",
        "T2H7SsJCCtUJ",
        "Fafs-kGLCtUT",
        "5OYZ0yVqCtUd"
      ],
      "toc_visible": true
    }
  },
  "cells": [
    {
      "cell_type": "code",
      "metadata": {
        "colab": {
          "base_uri": "https://localhost:8080/"
        },
        "id": "kMGqPQWTZE1C",
        "outputId": "403bca22-f5a6-42ec-c495-4f94896f392f"
      },
      "source": [
        "!pip install catboost"
      ],
      "execution_count": null,
      "outputs": [
        {
          "output_type": "stream",
          "text": [
            "Collecting catboost\n",
            "\u001b[?25l  Downloading https://files.pythonhosted.org/packages/52/39/128fff65072c8327371e3c594f3c826d29c85b21cb6485980353b168e0e4/catboost-0.24.2-cp36-none-manylinux1_x86_64.whl (66.1MB)\n",
            "\u001b[K     |████████████████████████████████| 66.2MB 61kB/s \n",
            "\u001b[?25hRequirement already satisfied: graphviz in /usr/local/lib/python3.6/dist-packages (from catboost) (0.10.1)\n",
            "Requirement already satisfied: six in /usr/local/lib/python3.6/dist-packages (from catboost) (1.15.0)\n",
            "Requirement already satisfied: pandas>=0.24.0 in /usr/local/lib/python3.6/dist-packages (from catboost) (1.1.4)\n",
            "Requirement already satisfied: matplotlib in /usr/local/lib/python3.6/dist-packages (from catboost) (3.2.2)\n",
            "Requirement already satisfied: numpy>=1.16.0 in /usr/local/lib/python3.6/dist-packages (from catboost) (1.18.5)\n",
            "Requirement already satisfied: scipy in /usr/local/lib/python3.6/dist-packages (from catboost) (1.4.1)\n",
            "Requirement already satisfied: plotly in /usr/local/lib/python3.6/dist-packages (from catboost) (4.4.1)\n",
            "Requirement already satisfied: python-dateutil>=2.7.3 in /usr/local/lib/python3.6/dist-packages (from pandas>=0.24.0->catboost) (2.8.1)\n",
            "Requirement already satisfied: pytz>=2017.2 in /usr/local/lib/python3.6/dist-packages (from pandas>=0.24.0->catboost) (2018.9)\n",
            "Requirement already satisfied: cycler>=0.10 in /usr/local/lib/python3.6/dist-packages (from matplotlib->catboost) (0.10.0)\n",
            "Requirement already satisfied: pyparsing!=2.0.4,!=2.1.2,!=2.1.6,>=2.0.1 in /usr/local/lib/python3.6/dist-packages (from matplotlib->catboost) (2.4.7)\n",
            "Requirement already satisfied: kiwisolver>=1.0.1 in /usr/local/lib/python3.6/dist-packages (from matplotlib->catboost) (1.3.1)\n",
            "Requirement already satisfied: retrying>=1.3.3 in /usr/local/lib/python3.6/dist-packages (from plotly->catboost) (1.3.3)\n",
            "Installing collected packages: catboost\n",
            "Successfully installed catboost-0.24.2\n"
          ],
          "name": "stdout"
        }
      ]
    },
    {
      "cell_type": "code",
      "metadata": {
        "id": "sFMFWza0CtQf"
      },
      "source": [
        "import numpy as np\n",
        "import pandas as pd\n",
        "from sklearn.preprocessing import LabelEncoder\n",
        "from sklearn.model_selection import train_test_split\n",
        "from sklearn.linear_model import LogisticRegression\n",
        "from sklearn.ensemble import BaggingClassifier\n",
        "from sklearn import tree\n",
        "from sklearn.ensemble import BaggingClassifier\n",
        "from sklearn.ensemble import RandomForestClassifier\n",
        "from sklearn.ensemble import AdaBoostClassifier\n",
        "from sklearn.ensemble import GradientBoostingClassifier\n",
        "import xgboost as xgb\n",
        "import lightgbm as lgb\n",
        "from catboost import CatBoostClassifier\n",
        "from sklearn.ensemble import VotingClassifier\n",
        "from sklearn import svm\n",
        "from sklearn.naive_bayes import GaussianNB\n",
        "from sklearn.metrics import accuracy_score\n",
        "from sklearn.model_selection import StratifiedKFold"
      ],
      "execution_count": null,
      "outputs": []
    },
    {
      "cell_type": "markdown",
      "metadata": {
        "id": "GW6wFXHcCtQt"
      },
      "source": [
        "Dataset link: https://datahack.analyticsvidhya.com/contest/practice-problem-loan-prediction-iii/"
      ]
    },
    {
      "cell_type": "code",
      "metadata": {
        "id": "fS4eNUUnCtQv",
        "colab": {
          "base_uri": "https://localhost:8080/",
          "height": 241
        },
        "outputId": "9b3a4e4a-4085-40f1-c37e-66d349e3456e"
      },
      "source": [
        "#reading the dataset\n",
        "df=pd.read_csv(\"train.csv\")\n",
        "df.head()"
      ],
      "execution_count": null,
      "outputs": [
        {
          "output_type": "execute_result",
          "data": {
            "text/html": [
              "<div>\n",
              "<style scoped>\n",
              "    .dataframe tbody tr th:only-of-type {\n",
              "        vertical-align: middle;\n",
              "    }\n",
              "\n",
              "    .dataframe tbody tr th {\n",
              "        vertical-align: top;\n",
              "    }\n",
              "\n",
              "    .dataframe thead th {\n",
              "        text-align: right;\n",
              "    }\n",
              "</style>\n",
              "<table border=\"1\" class=\"dataframe\">\n",
              "  <thead>\n",
              "    <tr style=\"text-align: right;\">\n",
              "      <th></th>\n",
              "      <th>Loan_ID</th>\n",
              "      <th>Gender</th>\n",
              "      <th>Married</th>\n",
              "      <th>Dependents</th>\n",
              "      <th>Education</th>\n",
              "      <th>Self_Employed</th>\n",
              "      <th>ApplicantIncome</th>\n",
              "      <th>CoapplicantIncome</th>\n",
              "      <th>LoanAmount</th>\n",
              "      <th>Loan_Amount_Term</th>\n",
              "      <th>Credit_History</th>\n",
              "      <th>Property_Area</th>\n",
              "      <th>Loan_Status</th>\n",
              "    </tr>\n",
              "  </thead>\n",
              "  <tbody>\n",
              "    <tr>\n",
              "      <th>0</th>\n",
              "      <td>LP001002</td>\n",
              "      <td>Male</td>\n",
              "      <td>No</td>\n",
              "      <td>0</td>\n",
              "      <td>Graduate</td>\n",
              "      <td>No</td>\n",
              "      <td>5849</td>\n",
              "      <td>0.0</td>\n",
              "      <td>NaN</td>\n",
              "      <td>360.0</td>\n",
              "      <td>1.0</td>\n",
              "      <td>Urban</td>\n",
              "      <td>Y</td>\n",
              "    </tr>\n",
              "    <tr>\n",
              "      <th>1</th>\n",
              "      <td>LP001003</td>\n",
              "      <td>Male</td>\n",
              "      <td>Yes</td>\n",
              "      <td>1</td>\n",
              "      <td>Graduate</td>\n",
              "      <td>No</td>\n",
              "      <td>4583</td>\n",
              "      <td>1508.0</td>\n",
              "      <td>128.0</td>\n",
              "      <td>360.0</td>\n",
              "      <td>1.0</td>\n",
              "      <td>Rural</td>\n",
              "      <td>N</td>\n",
              "    </tr>\n",
              "    <tr>\n",
              "      <th>2</th>\n",
              "      <td>LP001005</td>\n",
              "      <td>Male</td>\n",
              "      <td>Yes</td>\n",
              "      <td>0</td>\n",
              "      <td>Graduate</td>\n",
              "      <td>Yes</td>\n",
              "      <td>3000</td>\n",
              "      <td>0.0</td>\n",
              "      <td>66.0</td>\n",
              "      <td>360.0</td>\n",
              "      <td>1.0</td>\n",
              "      <td>Urban</td>\n",
              "      <td>Y</td>\n",
              "    </tr>\n",
              "    <tr>\n",
              "      <th>3</th>\n",
              "      <td>LP001006</td>\n",
              "      <td>Male</td>\n",
              "      <td>Yes</td>\n",
              "      <td>0</td>\n",
              "      <td>Not Graduate</td>\n",
              "      <td>No</td>\n",
              "      <td>2583</td>\n",
              "      <td>2358.0</td>\n",
              "      <td>120.0</td>\n",
              "      <td>360.0</td>\n",
              "      <td>1.0</td>\n",
              "      <td>Urban</td>\n",
              "      <td>Y</td>\n",
              "    </tr>\n",
              "    <tr>\n",
              "      <th>4</th>\n",
              "      <td>LP001008</td>\n",
              "      <td>Male</td>\n",
              "      <td>No</td>\n",
              "      <td>0</td>\n",
              "      <td>Graduate</td>\n",
              "      <td>No</td>\n",
              "      <td>6000</td>\n",
              "      <td>0.0</td>\n",
              "      <td>141.0</td>\n",
              "      <td>360.0</td>\n",
              "      <td>1.0</td>\n",
              "      <td>Urban</td>\n",
              "      <td>Y</td>\n",
              "    </tr>\n",
              "  </tbody>\n",
              "</table>\n",
              "</div>"
            ],
            "text/plain": [
              "    Loan_ID Gender Married  ... Credit_History Property_Area Loan_Status\n",
              "0  LP001002   Male      No  ...            1.0         Urban           Y\n",
              "1  LP001003   Male     Yes  ...            1.0         Rural           N\n",
              "2  LP001005   Male     Yes  ...            1.0         Urban           Y\n",
              "3  LP001006   Male     Yes  ...            1.0         Urban           Y\n",
              "4  LP001008   Male      No  ...            1.0         Urban           Y\n",
              "\n",
              "[5 rows x 13 columns]"
            ]
          },
          "metadata": {
            "tags": []
          },
          "execution_count": 5
        }
      ]
    },
    {
      "cell_type": "code",
      "metadata": {
        "id": "6bZ0GPD6CtQ6",
        "colab": {
          "base_uri": "https://localhost:8080/"
        },
        "outputId": "7640078e-338d-4114-9ac2-0439bd14b2b5"
      },
      "source": [
        "df.info()"
      ],
      "execution_count": null,
      "outputs": [
        {
          "output_type": "stream",
          "text": [
            "<class 'pandas.core.frame.DataFrame'>\n",
            "RangeIndex: 614 entries, 0 to 613\n",
            "Data columns (total 13 columns):\n",
            " #   Column             Non-Null Count  Dtype  \n",
            "---  ------             --------------  -----  \n",
            " 0   Loan_ID            614 non-null    object \n",
            " 1   Gender             601 non-null    object \n",
            " 2   Married            611 non-null    object \n",
            " 3   Dependents         599 non-null    object \n",
            " 4   Education          614 non-null    object \n",
            " 5   Self_Employed      582 non-null    object \n",
            " 6   ApplicantIncome    614 non-null    int64  \n",
            " 7   CoapplicantIncome  614 non-null    float64\n",
            " 8   LoanAmount         592 non-null    float64\n",
            " 9   Loan_Amount_Term   600 non-null    float64\n",
            " 10  Credit_History     564 non-null    float64\n",
            " 11  Property_Area      614 non-null    object \n",
            " 12  Loan_Status        614 non-null    object \n",
            "dtypes: float64(4), int64(1), object(8)\n",
            "memory usage: 62.5+ KB\n"
          ],
          "name": "stdout"
        }
      ]
    },
    {
      "cell_type": "code",
      "metadata": {
        "id": "WbuCPUesCtRC",
        "colab": {
          "base_uri": "https://localhost:8080/"
        },
        "outputId": "fe7f499b-69b8-4079-ba08-f55427f10cc3"
      },
      "source": [
        "df.columns"
      ],
      "execution_count": null,
      "outputs": [
        {
          "output_type": "execute_result",
          "data": {
            "text/plain": [
              "Index(['Loan_ID', 'Gender', 'Married', 'Dependents', 'Education',\n",
              "       'Self_Employed', 'ApplicantIncome', 'CoapplicantIncome', 'LoanAmount',\n",
              "       'Loan_Amount_Term', 'Credit_History', 'Property_Area', 'Loan_Status'],\n",
              "      dtype='object')"
            ]
          },
          "metadata": {
            "tags": []
          },
          "execution_count": 7
        }
      ]
    },
    {
      "cell_type": "code",
      "metadata": {
        "id": "1lel536jCtRO",
        "colab": {
          "base_uri": "https://localhost:8080/"
        },
        "outputId": "acb2299e-6d7c-44a6-e840-a8182bbf3239"
      },
      "source": [
        "cols = df.columns\n",
        "\n",
        "for i in cols:\n",
        "    if df[i].isnull().sum() != 0:\n",
        "        print(\"Column name is:\", i)\n",
        "        print(df[i].isnull().sum())"
      ],
      "execution_count": null,
      "outputs": [
        {
          "output_type": "stream",
          "text": [
            "Column name is: Gender\n",
            "13\n",
            "Column name is: Married\n",
            "3\n",
            "Column name is: Dependents\n",
            "15\n",
            "Column name is: Self_Employed\n",
            "32\n",
            "Column name is: LoanAmount\n",
            "22\n",
            "Column name is: Loan_Amount_Term\n",
            "14\n",
            "Column name is: Credit_History\n",
            "50\n"
          ],
          "name": "stdout"
        }
      ]
    },
    {
      "cell_type": "code",
      "metadata": {
        "id": "bQGgzfCLCtRX",
        "colab": {
          "base_uri": "https://localhost:8080/"
        },
        "outputId": "4b3a1d84-9b6e-45e8-eb57-16097dd8bd63"
      },
      "source": [
        "df.dtypes"
      ],
      "execution_count": null,
      "outputs": [
        {
          "output_type": "execute_result",
          "data": {
            "text/plain": [
              "Loan_ID               object\n",
              "Gender                object\n",
              "Married               object\n",
              "Dependents            object\n",
              "Education             object\n",
              "Self_Employed         object\n",
              "ApplicantIncome        int64\n",
              "CoapplicantIncome    float64\n",
              "LoanAmount           float64\n",
              "Loan_Amount_Term     float64\n",
              "Credit_History       float64\n",
              "Property_Area         object\n",
              "Loan_Status           object\n",
              "dtype: object"
            ]
          },
          "metadata": {
            "tags": []
          },
          "execution_count": 9
        }
      ]
    },
    {
      "cell_type": "code",
      "metadata": {
        "id": "UBq4AO_0CtRf",
        "colab": {
          "base_uri": "https://localhost:8080/"
        },
        "outputId": "7c731018-b5fd-4288-9f4e-556bb0541923"
      },
      "source": [
        "#filling missing values\n",
        "print(df['Gender'].value_counts())\n",
        "df['Gender'].fillna('Male', inplace=True)\n",
        "\n",
        "print(df['Married'].value_counts())\n",
        "df['Married'].fillna('Yes', inplace=True)\n",
        "\n",
        "print(df['Dependents'].value_counts())\n",
        "df['Dependents'].fillna('0', inplace=True)\n",
        "\n",
        "print(df['Self_Employed'].value_counts())\n",
        "df['Self_Employed'].fillna('No', inplace=True)\n",
        "\n",
        "print(df.LoanAmount.describe())\n",
        "df['LoanAmount'].fillna(df.LoanAmount.mean(), inplace = True)\n",
        "\n",
        "print(df['Loan_Amount_Term'].value_counts())\n",
        "df['Loan_Amount_Term'].fillna(512, inplace=True)\n",
        "\n",
        "print(df['Credit_History'].value_counts())\n",
        "df['Credit_History'].fillna(1.0, inplace=True)"
      ],
      "execution_count": null,
      "outputs": [
        {
          "output_type": "stream",
          "text": [
            "Male      489\n",
            "Female    112\n",
            "Name: Gender, dtype: int64\n",
            "Yes    398\n",
            "No     213\n",
            "Name: Married, dtype: int64\n",
            "0     345\n",
            "1     102\n",
            "2     101\n",
            "3+     51\n",
            "Name: Dependents, dtype: int64\n",
            "No     500\n",
            "Yes     82\n",
            "Name: Self_Employed, dtype: int64\n",
            "count    592.000000\n",
            "mean     146.412162\n",
            "std       85.587325\n",
            "min        9.000000\n",
            "25%      100.000000\n",
            "50%      128.000000\n",
            "75%      168.000000\n",
            "max      700.000000\n",
            "Name: LoanAmount, dtype: float64\n",
            "360.0    512\n",
            "180.0     44\n",
            "480.0     15\n",
            "300.0     13\n",
            "84.0       4\n",
            "240.0      4\n",
            "120.0      3\n",
            "36.0       2\n",
            "60.0       2\n",
            "12.0       1\n",
            "Name: Loan_Amount_Term, dtype: int64\n",
            "1.0    475\n",
            "0.0     89\n",
            "Name: Credit_History, dtype: int64\n"
          ],
          "name": "stdout"
        }
      ]
    },
    {
      "cell_type": "code",
      "metadata": {
        "id": "LPtbFl2NCtRl",
        "colab": {
          "base_uri": "https://localhost:8080/"
        },
        "outputId": "6c295f0d-2957-4114-b3fc-bc7b68365e20"
      },
      "source": [
        "# Get categorical columns\n",
        "cat_cols = []\n",
        "for i in cols:\n",
        "    if df[i].dtypes == 'object' and i!= 'Loan_ID':\n",
        "        print(i)\n",
        "        cat_cols.append(i)\n",
        "\n",
        "# Do label encoding for categorical columns\n",
        "le = LabelEncoder()\n",
        "for i in cat_cols:\n",
        "    df[i] = le.fit_transform(df[i])"
      ],
      "execution_count": null,
      "outputs": [
        {
          "output_type": "stream",
          "text": [
            "Gender\n",
            "Married\n",
            "Dependents\n",
            "Education\n",
            "Self_Employed\n",
            "Property_Area\n",
            "Loan_Status\n"
          ],
          "name": "stdout"
        }
      ]
    },
    {
      "cell_type": "code",
      "metadata": {
        "id": "nHZcUVnMCtR4"
      },
      "source": [
        "#split dataset into train and test\n",
        "\n",
        "train, test = train_test_split(df, test_size=0.3, random_state=0)\n",
        "\n",
        "x_train=train.drop(['Loan_Status', 'Loan_ID'], axis=1)\n",
        "y_train=train['Loan_Status']\n",
        "\n",
        "x_test=test.drop(['Loan_Status', 'Loan_ID'], axis=1)\n",
        "y_test=test['Loan_Status']"
      ],
      "execution_count": null,
      "outputs": []
    },
    {
      "cell_type": "markdown",
      "metadata": {
        "id": "hPWHS424CtR_"
      },
      "source": [
        "#### LogisticRegression "
      ]
    },
    {
      "cell_type": "code",
      "metadata": {
        "id": "A6E07WlhCtSB",
        "colab": {
          "base_uri": "https://localhost:8080/"
        },
        "outputId": "1bf7fd4c-b49f-4119-e4ba-a4c1fefd62c7"
      },
      "source": [
        "model = LogisticRegression(random_state=1)\n",
        "model.fit(x_train, y_train)\n",
        "model.score(x_test, y_test)"
      ],
      "execution_count": null,
      "outputs": [
        {
          "output_type": "stream",
          "text": [
            "/usr/local/lib/python3.6/dist-packages/sklearn/linear_model/_logistic.py:940: ConvergenceWarning: lbfgs failed to converge (status=1):\n",
            "STOP: TOTAL NO. of ITERATIONS REACHED LIMIT.\n",
            "\n",
            "Increase the number of iterations (max_iter) or scale the data as shown in:\n",
            "    https://scikit-learn.org/stable/modules/preprocessing.html\n",
            "Please also refer to the documentation for alternative solver options:\n",
            "    https://scikit-learn.org/stable/modules/linear_model.html#logistic-regression\n",
            "  extra_warning_msg=_LOGISTIC_SOLVER_CONVERGENCE_MSG)\n"
          ],
          "name": "stderr"
        },
        {
          "output_type": "execute_result",
          "data": {
            "text/plain": [
              "0.8324324324324325"
            ]
          },
          "metadata": {
            "tags": []
          },
          "execution_count": 13
        }
      ]
    },
    {
      "cell_type": "markdown",
      "metadata": {
        "id": "9vt1Z1_gCtSY"
      },
      "source": [
        "#### NaiveBayes "
      ]
    },
    {
      "cell_type": "code",
      "metadata": {
        "id": "mcsVksmxCtSZ",
        "outputId": "2455a410-ddf3-47d2-91e3-a1b5cdc7cf9d"
      },
      "source": [
        "model = GaussianNB()\n",
        "model.fit(x_train, y_train)\n",
        "model.score(x_test,y_test)"
      ],
      "execution_count": null,
      "outputs": [
        {
          "output_type": "execute_result",
          "data": {
            "text/plain": [
              "0.8216216216216217"
            ]
          },
          "metadata": {
            "tags": []
          },
          "execution_count": 11
        }
      ]
    },
    {
      "cell_type": "markdown",
      "metadata": {
        "id": "ahIklih-CtSh"
      },
      "source": [
        "#### SVM "
      ]
    },
    {
      "cell_type": "code",
      "metadata": {
        "id": "wom66zA8CtSj",
        "outputId": "f645a90c-7e03-4a54-943d-abaab80fcfff"
      },
      "source": [
        "model = svm.SVC()\n",
        "model.fit(x_train, y_train)\n",
        "model.score(x_test, y_test)"
      ],
      "execution_count": null,
      "outputs": [
        {
          "output_type": "execute_result",
          "data": {
            "text/plain": [
              "0.7297297297297297"
            ]
          },
          "metadata": {
            "tags": []
          },
          "execution_count": 12
        }
      ]
    },
    {
      "cell_type": "markdown",
      "metadata": {
        "id": "G1c_6Li4CtSs"
      },
      "source": [
        "#### Decission Tree "
      ]
    },
    {
      "cell_type": "code",
      "metadata": {
        "id": "6MbCiN44CtSt",
        "colab": {
          "base_uri": "https://localhost:8080/"
        },
        "outputId": "90b63c01-bbe4-4ece-d031-5ae7d7dad149"
      },
      "source": [
        "model = tree.DecisionTreeClassifier(random_state=1)\n",
        "model.fit(x_train, y_train)\n",
        "model.score(x_test, y_test)"
      ],
      "execution_count": null,
      "outputs": [
        {
          "output_type": "execute_result",
          "data": {
            "text/plain": [
              "0.7621621621621621"
            ]
          },
          "metadata": {
            "tags": []
          },
          "execution_count": 15
        }
      ]
    },
    {
      "cell_type": "markdown",
      "metadata": {
        "collapsed": true,
        "id": "DMyKxaaMCtS1"
      },
      "source": [
        "#### Bagging Classifier "
      ]
    },
    {
      "cell_type": "code",
      "metadata": {
        "id": "XNzcsj-3CtS2",
        "colab": {
          "base_uri": "https://localhost:8080/"
        },
        "outputId": "85287dd2-0bbe-4a75-b31b-19af3c26ab42"
      },
      "source": [
        "model = BaggingClassifier(tree.DecisionTreeClassifier(random_state=1))\n",
        "model.fit(x_train, y_train)\n",
        "model.score(x_test,y_test)"
      ],
      "execution_count": null,
      "outputs": [
        {
          "output_type": "execute_result",
          "data": {
            "text/plain": [
              "0.7189189189189189"
            ]
          },
          "metadata": {
            "tags": []
          },
          "execution_count": 14
        }
      ]
    },
    {
      "cell_type": "markdown",
      "metadata": {
        "id": "RKpPF_zOCtS-"
      },
      "source": [
        "#### Random Forest "
      ]
    },
    {
      "cell_type": "code",
      "metadata": {
        "id": "Ce2Z5mQHCtTA",
        "colab": {
          "base_uri": "https://localhost:8080/"
        },
        "outputId": "d20ba178-d3bb-4f2c-eeeb-c9a7bc8e57a0"
      },
      "source": [
        "model= RandomForestClassifier(random_state=1)\n",
        "model.fit(x_train, y_train)\n",
        "model.score(x_test,y_test)"
      ],
      "execution_count": null,
      "outputs": [
        {
          "output_type": "execute_result",
          "data": {
            "text/plain": [
              "0.7945945945945946"
            ]
          },
          "metadata": {
            "tags": []
          },
          "execution_count": 16
        }
      ]
    },
    {
      "cell_type": "code",
      "metadata": {
        "id": "R7wzIdd3CtTK",
        "colab": {
          "base_uri": "https://localhost:8080/"
        },
        "outputId": "f8850730-4fa9-4be8-955b-92159fc10ec8"
      },
      "source": [
        "# Get feature importance\n",
        "for i, j in sorted(zip(x_train.columns, model.feature_importances_)):\n",
        "    print(i, j)"
      ],
      "execution_count": null,
      "outputs": [
        {
          "output_type": "stream",
          "text": [
            "ApplicantIncome 0.19748399810004863\n",
            "CoapplicantIncome 0.11872820931486824\n",
            "Credit_History 0.2613040128071408\n",
            "Dependents 0.05134989642175094\n",
            "Education 0.024437887453173667\n",
            "Gender 0.020308953705222458\n",
            "LoanAmount 0.18829346004307884\n",
            "Loan_Amount_Term 0.03561738164859797\n",
            "Married 0.025545664769708782\n",
            "Property_Area 0.05676534088493939\n",
            "Self_Employed 0.020165194851470426\n"
          ],
          "name": "stdout"
        }
      ]
    },
    {
      "cell_type": "markdown",
      "metadata": {
        "id": "D8o6yuYDCtTR"
      },
      "source": [
        "#### Adaboost "
      ]
    },
    {
      "cell_type": "code",
      "metadata": {
        "id": "qod7yMkMCtTS",
        "colab": {
          "base_uri": "https://localhost:8080/"
        },
        "outputId": "78b61706-fc66-4659-f520-0218cb6cbd0b"
      },
      "source": [
        "model = AdaBoostClassifier(random_state=1)\n",
        "model.fit(x_train, y_train)\n",
        "model.score(x_test,y_test)"
      ],
      "execution_count": null,
      "outputs": [
        {
          "output_type": "execute_result",
          "data": {
            "text/plain": [
              "0.8162162162162162"
            ]
          },
          "metadata": {
            "tags": []
          },
          "execution_count": 18
        }
      ]
    },
    {
      "cell_type": "markdown",
      "metadata": {
        "id": "LRuu338ACtTb"
      },
      "source": [
        "#### Gradient boosting classifier "
      ]
    },
    {
      "cell_type": "code",
      "metadata": {
        "id": "Fy-oDcg-CtTd",
        "colab": {
          "base_uri": "https://localhost:8080/"
        },
        "outputId": "38e18b45-38a4-4822-8142-13ddbbc16304"
      },
      "source": [
        "model= GradientBoostingClassifier(learning_rate=0.01,random_state=1)\n",
        "model.fit(x_train, y_train)\n",
        "model.score(x_test,y_test)"
      ],
      "execution_count": null,
      "outputs": [
        {
          "output_type": "execute_result",
          "data": {
            "text/plain": [
              "0.827027027027027"
            ]
          },
          "metadata": {
            "tags": []
          },
          "execution_count": 19
        }
      ]
    },
    {
      "cell_type": "markdown",
      "metadata": {
        "id": "3Unb7WPbCtTk"
      },
      "source": [
        "#### XGBoost "
      ]
    },
    {
      "cell_type": "code",
      "metadata": {
        "id": "eAUIr_S7CtTl",
        "colab": {
          "base_uri": "https://localhost:8080/"
        },
        "outputId": "f08cd7b8-77c6-4c78-c7f5-4b6df1de33ff"
      },
      "source": [
        "model=xgb.XGBClassifier(random_state=1,learning_rate=0.01)\n",
        "model.fit(x_train, y_train)\n",
        "model.score(x_test,y_test)"
      ],
      "execution_count": null,
      "outputs": [
        {
          "output_type": "execute_result",
          "data": {
            "text/plain": [
              "0.827027027027027"
            ]
          },
          "metadata": {
            "tags": []
          },
          "execution_count": 20
        }
      ]
    },
    {
      "cell_type": "markdown",
      "metadata": {
        "id": "BN4QbF1PCtTv"
      },
      "source": [
        "#### LightGBM "
      ]
    },
    {
      "cell_type": "code",
      "metadata": {
        "id": "r1xFp6cUCtTx",
        "colab": {
          "base_uri": "https://localhost:8080/"
        },
        "outputId": "deb3d4e1-407b-4769-f8e7-4c0779d81bd3"
      },
      "source": [
        "train_data=lgb.Dataset(x_train,label=y_train)\n",
        "#define parameters\n",
        "params = {'learning_rate':0.001}\n",
        "model= lgb.train(params, train_data, 100) \n",
        "y_pred=model.predict(x_test)\n",
        "for i in range(0,185):\n",
        "    if y_pred[i]>=0.5: \n",
        "        y_pred[i]=1\n",
        "else: \n",
        "    y_pred[i]=0\n",
        "accuracy_score(y_test, y_pred)"
      ],
      "execution_count": null,
      "outputs": [
        {
          "output_type": "execute_result",
          "data": {
            "text/plain": [
              "0.7189189189189189"
            ]
          },
          "metadata": {
            "tags": []
          },
          "execution_count": 21
        }
      ]
    },
    {
      "cell_type": "markdown",
      "metadata": {
        "id": "L-FDqvpPCtUA"
      },
      "source": [
        "#### CatBoost "
      ]
    },
    {
      "cell_type": "code",
      "metadata": {
        "id": "Njh10L9oCtUB",
        "colab": {
          "base_uri": "https://localhost:8080/"
        },
        "outputId": "06442cf4-94f9-4fdb-c614-a5da00c9cadb"
      },
      "source": [
        "model=CatBoostClassifier()\n",
        "categorical_features_indices = np.where(df.dtypes != np.float)[0]\n",
        "model.fit(x_train,y_train,cat_features=([ 0,  1, 2, 3, 4, 10]),eval_set=(x_test, y_test))\n",
        "model.score(x_test,y_test)"
      ],
      "execution_count": null,
      "outputs": [
        {
          "output_type": "stream",
          "text": [
            "Learning rate set to 0.025711\n",
            "0:\tlearn: 0.6794857\ttest: 0.6808164\tbest: 0.6808164 (0)\ttotal: 53.3ms\tremaining: 53.3s\n",
            "1:\tlearn: 0.6686164\ttest: 0.6694985\tbest: 0.6694985 (1)\ttotal: 54.7ms\tremaining: 27.3s\n",
            "2:\tlearn: 0.6580962\ttest: 0.6584226\tbest: 0.6584226 (2)\ttotal: 55.9ms\tremaining: 18.6s\n",
            "3:\tlearn: 0.6466061\ttest: 0.6481062\tbest: 0.6481062 (3)\ttotal: 58.5ms\tremaining: 14.6s\n",
            "4:\tlearn: 0.6361742\ttest: 0.6382075\tbest: 0.6382075 (4)\ttotal: 61ms\tremaining: 12.1s\n",
            "5:\tlearn: 0.6267725\ttest: 0.6280762\tbest: 0.6280762 (5)\ttotal: 62.5ms\tremaining: 10.4s\n",
            "6:\tlearn: 0.6176542\ttest: 0.6189313\tbest: 0.6189313 (6)\ttotal: 65ms\tremaining: 9.21s\n",
            "7:\tlearn: 0.6088622\ttest: 0.6105600\tbest: 0.6105600 (7)\ttotal: 67.4ms\tremaining: 8.36s\n",
            "8:\tlearn: 0.5994512\ttest: 0.6021100\tbest: 0.6021100 (8)\ttotal: 69.8ms\tremaining: 7.68s\n",
            "9:\tlearn: 0.5926521\ttest: 0.5948715\tbest: 0.5948715 (9)\ttotal: 70.7ms\tremaining: 7s\n",
            "10:\tlearn: 0.5846648\ttest: 0.5867226\tbest: 0.5867226 (10)\ttotal: 73.1ms\tremaining: 6.57s\n",
            "11:\tlearn: 0.5771967\ttest: 0.5806666\tbest: 0.5806666 (11)\ttotal: 75.5ms\tremaining: 6.22s\n",
            "12:\tlearn: 0.5708917\ttest: 0.5744300\tbest: 0.5744300 (12)\ttotal: 77.8ms\tremaining: 5.9s\n",
            "13:\tlearn: 0.5637138\ttest: 0.5682043\tbest: 0.5682043 (13)\ttotal: 80.1ms\tremaining: 5.64s\n",
            "14:\tlearn: 0.5580792\ttest: 0.5634450\tbest: 0.5634450 (14)\ttotal: 82.4ms\tremaining: 5.41s\n",
            "15:\tlearn: 0.5530160\ttest: 0.5584008\tbest: 0.5584008 (15)\ttotal: 84.8ms\tremaining: 5.21s\n",
            "16:\tlearn: 0.5484927\ttest: 0.5536344\tbest: 0.5536344 (16)\ttotal: 86.2ms\tremaining: 4.98s\n",
            "17:\tlearn: 0.5434731\ttest: 0.5488482\tbest: 0.5488482 (17)\ttotal: 88.4ms\tremaining: 4.82s\n",
            "18:\tlearn: 0.5395199\ttest: 0.5444950\tbest: 0.5444950 (18)\ttotal: 89.3ms\tremaining: 4.61s\n",
            "19:\tlearn: 0.5342036\ttest: 0.5394836\tbest: 0.5394836 (19)\ttotal: 91.6ms\tremaining: 4.49s\n",
            "20:\tlearn: 0.5293801\ttest: 0.5347588\tbest: 0.5347588 (20)\ttotal: 93.7ms\tremaining: 4.37s\n",
            "21:\tlearn: 0.5245606\ttest: 0.5310587\tbest: 0.5310587 (21)\ttotal: 96.9ms\tremaining: 4.31s\n",
            "22:\tlearn: 0.5214636\ttest: 0.5275489\tbest: 0.5275489 (22)\ttotal: 97.9ms\tremaining: 4.16s\n",
            "23:\tlearn: 0.5184864\ttest: 0.5242435\tbest: 0.5242435 (23)\ttotal: 99.1ms\tremaining: 4.03s\n",
            "24:\tlearn: 0.5157320\ttest: 0.5210857\tbest: 0.5210857 (24)\ttotal: 100ms\tremaining: 3.9s\n",
            "25:\tlearn: 0.5126797\ttest: 0.5180382\tbest: 0.5180382 (25)\ttotal: 101ms\tremaining: 3.79s\n",
            "26:\tlearn: 0.5091724\ttest: 0.5144077\tbest: 0.5144077 (26)\ttotal: 104ms\tremaining: 3.73s\n",
            "27:\tlearn: 0.5068708\ttest: 0.5117138\tbest: 0.5117138 (27)\ttotal: 104ms\tremaining: 3.63s\n",
            "28:\tlearn: 0.5047070\ttest: 0.5091625\tbest: 0.5091625 (28)\ttotal: 106ms\tremaining: 3.53s\n",
            "29:\tlearn: 0.5023800\ttest: 0.5064905\tbest: 0.5064905 (29)\ttotal: 107ms\tremaining: 3.46s\n",
            "30:\tlearn: 0.5002135\ttest: 0.5039617\tbest: 0.5039617 (30)\ttotal: 108ms\tremaining: 3.38s\n",
            "31:\tlearn: 0.4995497\ttest: 0.5029056\tbest: 0.5029056 (31)\ttotal: 109ms\tremaining: 3.3s\n",
            "32:\tlearn: 0.4968749\ttest: 0.5006248\tbest: 0.5006248 (32)\ttotal: 111ms\tremaining: 3.27s\n",
            "33:\tlearn: 0.4935247\ttest: 0.4986765\tbest: 0.4986765 (33)\ttotal: 114ms\tremaining: 3.23s\n",
            "34:\tlearn: 0.4900679\ttest: 0.4956811\tbest: 0.4956811 (34)\ttotal: 116ms\tremaining: 3.21s\n",
            "35:\tlearn: 0.4875198\ttest: 0.4933732\tbest: 0.4933732 (35)\ttotal: 118ms\tremaining: 3.17s\n",
            "36:\tlearn: 0.4846539\ttest: 0.4912641\tbest: 0.4912641 (36)\ttotal: 121ms\tremaining: 3.14s\n",
            "37:\tlearn: 0.4838387\ttest: 0.4905844\tbest: 0.4905844 (37)\ttotal: 122ms\tremaining: 3.09s\n",
            "38:\tlearn: 0.4825822\ttest: 0.4896023\tbest: 0.4896023 (38)\ttotal: 124ms\tremaining: 3.05s\n",
            "39:\tlearn: 0.4812579\ttest: 0.4879700\tbest: 0.4879700 (39)\ttotal: 125ms\tremaining: 3s\n",
            "40:\tlearn: 0.4785913\ttest: 0.4864660\tbest: 0.4864660 (40)\ttotal: 127ms\tremaining: 2.98s\n",
            "41:\tlearn: 0.4774260\ttest: 0.4850104\tbest: 0.4850104 (41)\ttotal: 128ms\tremaining: 2.92s\n",
            "42:\tlearn: 0.4752542\ttest: 0.4829685\tbest: 0.4829685 (42)\ttotal: 130ms\tremaining: 2.9s\n",
            "43:\tlearn: 0.4735061\ttest: 0.4809869\tbest: 0.4809869 (43)\ttotal: 133ms\tremaining: 2.88s\n",
            "44:\tlearn: 0.4716025\ttest: 0.4800366\tbest: 0.4800366 (44)\ttotal: 135ms\tremaining: 2.87s\n",
            "45:\tlearn: 0.4702042\ttest: 0.4789655\tbest: 0.4789655 (45)\ttotal: 138ms\tremaining: 2.86s\n",
            "46:\tlearn: 0.4678128\ttest: 0.4773754\tbest: 0.4773754 (46)\ttotal: 140ms\tremaining: 2.85s\n",
            "47:\tlearn: 0.4662497\ttest: 0.4766385\tbest: 0.4766385 (47)\ttotal: 143ms\tremaining: 2.83s\n",
            "48:\tlearn: 0.4654116\ttest: 0.4760872\tbest: 0.4760872 (48)\ttotal: 145ms\tremaining: 2.81s\n",
            "49:\tlearn: 0.4651627\ttest: 0.4756026\tbest: 0.4756026 (49)\ttotal: 146ms\tremaining: 2.77s\n",
            "50:\tlearn: 0.4643275\ttest: 0.4745652\tbest: 0.4745652 (50)\ttotal: 147ms\tremaining: 2.73s\n",
            "51:\tlearn: 0.4641024\ttest: 0.4741159\tbest: 0.4741159 (51)\ttotal: 148ms\tremaining: 2.69s\n",
            "52:\tlearn: 0.4626548\ttest: 0.4741982\tbest: 0.4741159 (51)\ttotal: 150ms\tremaining: 2.68s\n",
            "53:\tlearn: 0.4623584\ttest: 0.4738632\tbest: 0.4738632 (53)\ttotal: 151ms\tremaining: 2.65s\n",
            "54:\tlearn: 0.4621672\ttest: 0.4734642\tbest: 0.4734642 (54)\ttotal: 152ms\tremaining: 2.61s\n",
            "55:\tlearn: 0.4603352\ttest: 0.4733157\tbest: 0.4733157 (55)\ttotal: 154ms\tremaining: 2.6s\n",
            "56:\tlearn: 0.4583642\ttest: 0.4730629\tbest: 0.4730629 (56)\ttotal: 157ms\tremaining: 2.6s\n",
            "57:\tlearn: 0.4573016\ttest: 0.4718638\tbest: 0.4718638 (57)\ttotal: 159ms\tremaining: 2.59s\n",
            "58:\tlearn: 0.4549458\ttest: 0.4717286\tbest: 0.4717286 (58)\ttotal: 162ms\tremaining: 2.58s\n",
            "59:\tlearn: 0.4537233\ttest: 0.4712570\tbest: 0.4712570 (59)\ttotal: 164ms\tremaining: 2.57s\n",
            "60:\tlearn: 0.4529366\ttest: 0.4711520\tbest: 0.4711520 (60)\ttotal: 167ms\tremaining: 2.57s\n",
            "61:\tlearn: 0.4508144\ttest: 0.4701496\tbest: 0.4701496 (61)\ttotal: 169ms\tremaining: 2.56s\n",
            "62:\tlearn: 0.4503786\ttest: 0.4696211\tbest: 0.4696211 (62)\ttotal: 171ms\tremaining: 2.55s\n",
            "63:\tlearn: 0.4494722\ttest: 0.4694095\tbest: 0.4694095 (63)\ttotal: 174ms\tremaining: 2.54s\n",
            "64:\tlearn: 0.4465960\ttest: 0.4686691\tbest: 0.4686691 (64)\ttotal: 176ms\tremaining: 2.53s\n",
            "65:\tlearn: 0.4445562\ttest: 0.4675529\tbest: 0.4675529 (65)\ttotal: 179ms\tremaining: 2.53s\n",
            "66:\tlearn: 0.4427500\ttest: 0.4671407\tbest: 0.4671407 (66)\ttotal: 181ms\tremaining: 2.53s\n",
            "67:\tlearn: 0.4426654\ttest: 0.4669205\tbest: 0.4669205 (67)\ttotal: 182ms\tremaining: 2.5s\n",
            "68:\tlearn: 0.4419506\ttest: 0.4660617\tbest: 0.4660617 (68)\ttotal: 185ms\tremaining: 2.5s\n",
            "69:\tlearn: 0.4404406\ttest: 0.4652696\tbest: 0.4652696 (69)\ttotal: 189ms\tremaining: 2.51s\n",
            "70:\tlearn: 0.4390810\ttest: 0.4645921\tbest: 0.4645921 (70)\ttotal: 192ms\tremaining: 2.51s\n",
            "71:\tlearn: 0.4366189\ttest: 0.4638973\tbest: 0.4638973 (71)\ttotal: 195ms\tremaining: 2.51s\n",
            "72:\tlearn: 0.4362555\ttest: 0.4634060\tbest: 0.4634060 (72)\ttotal: 196ms\tremaining: 2.48s\n",
            "73:\tlearn: 0.4348363\ttest: 0.4632938\tbest: 0.4632938 (73)\ttotal: 198ms\tremaining: 2.48s\n",
            "74:\tlearn: 0.4335663\ttest: 0.4632011\tbest: 0.4632011 (74)\ttotal: 201ms\tremaining: 2.47s\n",
            "75:\tlearn: 0.4327894\ttest: 0.4631469\tbest: 0.4631469 (75)\ttotal: 203ms\tremaining: 2.47s\n",
            "76:\tlearn: 0.4324550\ttest: 0.4626965\tbest: 0.4626965 (76)\ttotal: 204ms\tremaining: 2.45s\n",
            "77:\tlearn: 0.4301792\ttest: 0.4621568\tbest: 0.4621568 (77)\ttotal: 207ms\tremaining: 2.44s\n",
            "78:\tlearn: 0.4301354\ttest: 0.4620150\tbest: 0.4620150 (78)\ttotal: 208ms\tremaining: 2.42s\n",
            "79:\tlearn: 0.4281667\ttest: 0.4615414\tbest: 0.4615414 (79)\ttotal: 210ms\tremaining: 2.42s\n",
            "80:\tlearn: 0.4281287\ttest: 0.4614133\tbest: 0.4614133 (80)\ttotal: 211ms\tremaining: 2.39s\n",
            "81:\tlearn: 0.4271547\ttest: 0.4611493\tbest: 0.4611493 (81)\ttotal: 213ms\tremaining: 2.39s\n",
            "82:\tlearn: 0.4255613\ttest: 0.4607830\tbest: 0.4607830 (82)\ttotal: 216ms\tremaining: 2.38s\n",
            "83:\tlearn: 0.4239268\ttest: 0.4606280\tbest: 0.4606280 (83)\ttotal: 218ms\tremaining: 2.38s\n",
            "84:\tlearn: 0.4228740\ttest: 0.4599964\tbest: 0.4599964 (84)\ttotal: 221ms\tremaining: 2.38s\n",
            "85:\tlearn: 0.4220615\ttest: 0.4598980\tbest: 0.4598980 (85)\ttotal: 223ms\tremaining: 2.37s\n",
            "86:\tlearn: 0.4202771\ttest: 0.4601545\tbest: 0.4598980 (85)\ttotal: 225ms\tremaining: 2.37s\n",
            "87:\tlearn: 0.4189030\ttest: 0.4596837\tbest: 0.4596837 (87)\ttotal: 228ms\tremaining: 2.36s\n",
            "88:\tlearn: 0.4177392\ttest: 0.4594956\tbest: 0.4594956 (88)\ttotal: 230ms\tremaining: 2.36s\n",
            "89:\tlearn: 0.4167346\ttest: 0.4595314\tbest: 0.4594956 (88)\ttotal: 233ms\tremaining: 2.36s\n",
            "90:\tlearn: 0.4154177\ttest: 0.4588151\tbest: 0.4588151 (90)\ttotal: 236ms\tremaining: 2.36s\n",
            "91:\tlearn: 0.4151551\ttest: 0.4587821\tbest: 0.4587821 (91)\ttotal: 238ms\tremaining: 2.35s\n",
            "92:\tlearn: 0.4149949\ttest: 0.4587663\tbest: 0.4587663 (92)\ttotal: 240ms\tremaining: 2.34s\n",
            "93:\tlearn: 0.4140466\ttest: 0.4581968\tbest: 0.4581968 (93)\ttotal: 242ms\tremaining: 2.33s\n",
            "94:\tlearn: 0.4136927\ttest: 0.4582919\tbest: 0.4581968 (93)\ttotal: 245ms\tremaining: 2.33s\n",
            "95:\tlearn: 0.4125261\ttest: 0.4579507\tbest: 0.4579507 (95)\ttotal: 247ms\tremaining: 2.33s\n",
            "96:\tlearn: 0.4111999\ttest: 0.4585064\tbest: 0.4579507 (95)\ttotal: 250ms\tremaining: 2.32s\n",
            "97:\tlearn: 0.4097397\ttest: 0.4579989\tbest: 0.4579507 (95)\ttotal: 252ms\tremaining: 2.32s\n",
            "98:\tlearn: 0.4088647\ttest: 0.4575733\tbest: 0.4575733 (98)\ttotal: 254ms\tremaining: 2.31s\n",
            "99:\tlearn: 0.4086794\ttest: 0.4576720\tbest: 0.4575733 (98)\ttotal: 256ms\tremaining: 2.3s\n",
            "100:\tlearn: 0.4066949\ttest: 0.4571424\tbest: 0.4571424 (100)\ttotal: 258ms\tremaining: 2.3s\n",
            "101:\tlearn: 0.4053050\ttest: 0.4569259\tbest: 0.4569259 (101)\ttotal: 261ms\tremaining: 2.3s\n",
            "102:\tlearn: 0.4046744\ttest: 0.4567340\tbest: 0.4567340 (102)\ttotal: 263ms\tremaining: 2.29s\n",
            "103:\tlearn: 0.4046299\ttest: 0.4567734\tbest: 0.4567340 (102)\ttotal: 265ms\tremaining: 2.28s\n",
            "104:\tlearn: 0.4036785\ttest: 0.4566681\tbest: 0.4566681 (104)\ttotal: 267ms\tremaining: 2.28s\n",
            "105:\tlearn: 0.4032840\ttest: 0.4564564\tbest: 0.4564564 (105)\ttotal: 270ms\tremaining: 2.28s\n",
            "106:\tlearn: 0.4031498\ttest: 0.4565087\tbest: 0.4564564 (105)\ttotal: 271ms\tremaining: 2.26s\n",
            "107:\tlearn: 0.4021764\ttest: 0.4564696\tbest: 0.4564564 (105)\ttotal: 274ms\tremaining: 2.26s\n",
            "108:\tlearn: 0.4018649\ttest: 0.4566322\tbest: 0.4564564 (105)\ttotal: 276ms\tremaining: 2.25s\n",
            "109:\tlearn: 0.4013906\ttest: 0.4565621\tbest: 0.4564564 (105)\ttotal: 278ms\tremaining: 2.25s\n",
            "110:\tlearn: 0.4000498\ttest: 0.4562825\tbest: 0.4562825 (110)\ttotal: 281ms\tremaining: 2.25s\n",
            "111:\tlearn: 0.3989978\ttest: 0.4560869\tbest: 0.4560869 (111)\ttotal: 283ms\tremaining: 2.25s\n",
            "112:\tlearn: 0.3982656\ttest: 0.4559751\tbest: 0.4559751 (112)\ttotal: 286ms\tremaining: 2.24s\n",
            "113:\tlearn: 0.3978879\ttest: 0.4559269\tbest: 0.4559269 (113)\ttotal: 288ms\tremaining: 2.24s\n",
            "114:\tlearn: 0.3975840\ttest: 0.4558487\tbest: 0.4558487 (114)\ttotal: 290ms\tremaining: 2.23s\n",
            "115:\tlearn: 0.3970515\ttest: 0.4561417\tbest: 0.4558487 (114)\ttotal: 292ms\tremaining: 2.23s\n",
            "116:\tlearn: 0.3958890\ttest: 0.4559398\tbest: 0.4558487 (114)\ttotal: 295ms\tremaining: 2.23s\n",
            "117:\tlearn: 0.3942361\ttest: 0.4560028\tbest: 0.4558487 (114)\ttotal: 298ms\tremaining: 2.22s\n",
            "118:\tlearn: 0.3942343\ttest: 0.4559816\tbest: 0.4558487 (114)\ttotal: 298ms\tremaining: 2.21s\n",
            "119:\tlearn: 0.3934699\ttest: 0.4557985\tbest: 0.4557985 (119)\ttotal: 301ms\tremaining: 2.21s\n",
            "120:\tlearn: 0.3931339\ttest: 0.4555664\tbest: 0.4555664 (120)\ttotal: 303ms\tremaining: 2.2s\n",
            "121:\tlearn: 0.3926553\ttest: 0.4555441\tbest: 0.4555441 (121)\ttotal: 305ms\tremaining: 2.2s\n",
            "122:\tlearn: 0.3920174\ttest: 0.4553972\tbest: 0.4553972 (122)\ttotal: 308ms\tremaining: 2.2s\n",
            "123:\tlearn: 0.3915642\ttest: 0.4556314\tbest: 0.4553972 (122)\ttotal: 310ms\tremaining: 2.19s\n",
            "124:\tlearn: 0.3909222\ttest: 0.4554592\tbest: 0.4553972 (122)\ttotal: 312ms\tremaining: 2.18s\n",
            "125:\tlearn: 0.3903170\ttest: 0.4558883\tbest: 0.4553972 (122)\ttotal: 315ms\tremaining: 2.18s\n",
            "126:\tlearn: 0.3892311\ttest: 0.4560263\tbest: 0.4553972 (122)\ttotal: 317ms\tremaining: 2.18s\n",
            "127:\tlearn: 0.3877389\ttest: 0.4556877\tbest: 0.4553972 (122)\ttotal: 320ms\tremaining: 2.18s\n",
            "128:\tlearn: 0.3875272\ttest: 0.4555553\tbest: 0.4553972 (122)\ttotal: 323ms\tremaining: 2.18s\n",
            "129:\tlearn: 0.3873512\ttest: 0.4556557\tbest: 0.4553972 (122)\ttotal: 325ms\tremaining: 2.17s\n",
            "130:\tlearn: 0.3864889\ttest: 0.4550677\tbest: 0.4550677 (130)\ttotal: 327ms\tremaining: 2.17s\n",
            "131:\tlearn: 0.3860931\ttest: 0.4549377\tbest: 0.4549377 (131)\ttotal: 330ms\tremaining: 2.17s\n",
            "132:\tlearn: 0.3854819\ttest: 0.4552460\tbest: 0.4549377 (131)\ttotal: 332ms\tremaining: 2.17s\n",
            "133:\tlearn: 0.3854138\ttest: 0.4553345\tbest: 0.4549377 (131)\ttotal: 333ms\tremaining: 2.15s\n",
            "134:\tlearn: 0.3845186\ttest: 0.4549205\tbest: 0.4549205 (134)\ttotal: 336ms\tremaining: 2.15s\n",
            "135:\tlearn: 0.3837233\ttest: 0.4550089\tbest: 0.4549205 (134)\ttotal: 339ms\tremaining: 2.15s\n",
            "136:\tlearn: 0.3836993\ttest: 0.4550278\tbest: 0.4549205 (134)\ttotal: 341ms\tremaining: 2.15s\n",
            "137:\tlearn: 0.3831657\ttest: 0.4550062\tbest: 0.4549205 (134)\ttotal: 343ms\tremaining: 2.14s\n",
            "138:\tlearn: 0.3825818\ttest: 0.4552012\tbest: 0.4549205 (134)\ttotal: 346ms\tremaining: 2.14s\n",
            "139:\tlearn: 0.3821350\ttest: 0.4553983\tbest: 0.4549205 (134)\ttotal: 348ms\tremaining: 2.14s\n",
            "140:\tlearn: 0.3818615\ttest: 0.4552431\tbest: 0.4549205 (134)\ttotal: 350ms\tremaining: 2.13s\n",
            "141:\tlearn: 0.3813871\ttest: 0.4556817\tbest: 0.4549205 (134)\ttotal: 352ms\tremaining: 2.13s\n",
            "142:\tlearn: 0.3812784\ttest: 0.4557486\tbest: 0.4549205 (134)\ttotal: 353ms\tremaining: 2.12s\n",
            "143:\tlearn: 0.3812784\ttest: 0.4557461\tbest: 0.4549205 (134)\ttotal: 354ms\tremaining: 2.1s\n",
            "144:\tlearn: 0.3811138\ttest: 0.4557121\tbest: 0.4549205 (134)\ttotal: 355ms\tremaining: 2.1s\n",
            "145:\tlearn: 0.3802984\ttest: 0.4559536\tbest: 0.4549205 (134)\ttotal: 358ms\tremaining: 2.09s\n",
            "146:\tlearn: 0.3796378\ttest: 0.4557067\tbest: 0.4549205 (134)\ttotal: 361ms\tremaining: 2.1s\n",
            "147:\tlearn: 0.3795440\ttest: 0.4557678\tbest: 0.4549205 (134)\ttotal: 363ms\tremaining: 2.09s\n",
            "148:\tlearn: 0.3793523\ttest: 0.4558258\tbest: 0.4549205 (134)\ttotal: 364ms\tremaining: 2.08s\n",
            "149:\tlearn: 0.3785828\ttest: 0.4557940\tbest: 0.4549205 (134)\ttotal: 366ms\tremaining: 2.08s\n",
            "150:\tlearn: 0.3779769\ttest: 0.4555138\tbest: 0.4549205 (134)\ttotal: 369ms\tremaining: 2.07s\n",
            "151:\tlearn: 0.3775042\ttest: 0.4555212\tbest: 0.4549205 (134)\ttotal: 373ms\tremaining: 2.08s\n",
            "152:\tlearn: 0.3774301\ttest: 0.4555605\tbest: 0.4549205 (134)\ttotal: 376ms\tremaining: 2.08s\n",
            "153:\tlearn: 0.3759717\ttest: 0.4553223\tbest: 0.4549205 (134)\ttotal: 379ms\tremaining: 2.08s\n",
            "154:\tlearn: 0.3757494\ttest: 0.4554819\tbest: 0.4549205 (134)\ttotal: 380ms\tremaining: 2.07s\n",
            "155:\tlearn: 0.3755305\ttest: 0.4553306\tbest: 0.4549205 (134)\ttotal: 383ms\tremaining: 2.07s\n",
            "156:\tlearn: 0.3747301\ttest: 0.4554920\tbest: 0.4549205 (134)\ttotal: 385ms\tremaining: 2.07s\n",
            "157:\tlearn: 0.3735820\ttest: 0.4551640\tbest: 0.4549205 (134)\ttotal: 387ms\tremaining: 2.06s\n",
            "158:\tlearn: 0.3728867\ttest: 0.4551471\tbest: 0.4549205 (134)\ttotal: 390ms\tremaining: 2.06s\n",
            "159:\tlearn: 0.3716512\ttest: 0.4546364\tbest: 0.4546364 (159)\ttotal: 392ms\tremaining: 2.06s\n",
            "160:\tlearn: 0.3704963\ttest: 0.4554418\tbest: 0.4546364 (159)\ttotal: 394ms\tremaining: 2.06s\n",
            "161:\tlearn: 0.3699529\ttest: 0.4553398\tbest: 0.4546364 (159)\ttotal: 396ms\tremaining: 2.05s\n",
            "162:\tlearn: 0.3697078\ttest: 0.4551641\tbest: 0.4546364 (159)\ttotal: 399ms\tremaining: 2.05s\n",
            "163:\tlearn: 0.3691560\ttest: 0.4548087\tbest: 0.4546364 (159)\ttotal: 401ms\tremaining: 2.04s\n",
            "164:\tlearn: 0.3688974\ttest: 0.4548753\tbest: 0.4546364 (159)\ttotal: 403ms\tremaining: 2.04s\n",
            "165:\tlearn: 0.3681917\ttest: 0.4547948\tbest: 0.4546364 (159)\ttotal: 406ms\tremaining: 2.04s\n",
            "166:\tlearn: 0.3672470\ttest: 0.4549966\tbest: 0.4546364 (159)\ttotal: 408ms\tremaining: 2.03s\n",
            "167:\tlearn: 0.3664236\ttest: 0.4548987\tbest: 0.4546364 (159)\ttotal: 410ms\tremaining: 2.03s\n",
            "168:\tlearn: 0.3658541\ttest: 0.4551831\tbest: 0.4546364 (159)\ttotal: 412ms\tremaining: 2.03s\n",
            "169:\tlearn: 0.3647380\ttest: 0.4552959\tbest: 0.4546364 (159)\ttotal: 414ms\tremaining: 2.02s\n",
            "170:\tlearn: 0.3644756\ttest: 0.4552190\tbest: 0.4546364 (159)\ttotal: 416ms\tremaining: 2.02s\n",
            "171:\tlearn: 0.3640889\ttest: 0.4550503\tbest: 0.4546364 (159)\ttotal: 418ms\tremaining: 2.01s\n",
            "172:\tlearn: 0.3634872\ttest: 0.4553821\tbest: 0.4546364 (159)\ttotal: 421ms\tremaining: 2.01s\n",
            "173:\tlearn: 0.3632435\ttest: 0.4553144\tbest: 0.4546364 (159)\ttotal: 423ms\tremaining: 2.01s\n",
            "174:\tlearn: 0.3622517\ttest: 0.4553339\tbest: 0.4546364 (159)\ttotal: 425ms\tremaining: 2s\n",
            "175:\tlearn: 0.3615829\ttest: 0.4551881\tbest: 0.4546364 (159)\ttotal: 428ms\tremaining: 2s\n",
            "176:\tlearn: 0.3607914\ttest: 0.4552007\tbest: 0.4546364 (159)\ttotal: 430ms\tremaining: 2s\n",
            "177:\tlearn: 0.3599746\ttest: 0.4553005\tbest: 0.4546364 (159)\ttotal: 432ms\tremaining: 2s\n",
            "178:\tlearn: 0.3594824\ttest: 0.4550830\tbest: 0.4546364 (159)\ttotal: 434ms\tremaining: 1.99s\n",
            "179:\tlearn: 0.3590969\ttest: 0.4550712\tbest: 0.4546364 (159)\ttotal: 437ms\tremaining: 1.99s\n",
            "180:\tlearn: 0.3579063\ttest: 0.4555880\tbest: 0.4546364 (159)\ttotal: 439ms\tremaining: 1.99s\n",
            "181:\tlearn: 0.3574841\ttest: 0.4553690\tbest: 0.4546364 (159)\ttotal: 442ms\tremaining: 1.98s\n",
            "182:\tlearn: 0.3574838\ttest: 0.4553761\tbest: 0.4546364 (159)\ttotal: 443ms\tremaining: 1.98s\n",
            "183:\tlearn: 0.3572200\ttest: 0.4556495\tbest: 0.4546364 (159)\ttotal: 445ms\tremaining: 1.97s\n",
            "184:\tlearn: 0.3562458\ttest: 0.4551876\tbest: 0.4546364 (159)\ttotal: 447ms\tremaining: 1.97s\n",
            "185:\tlearn: 0.3555749\ttest: 0.4553293\tbest: 0.4546364 (159)\ttotal: 450ms\tremaining: 1.97s\n",
            "186:\tlearn: 0.3550845\ttest: 0.4552711\tbest: 0.4546364 (159)\ttotal: 452ms\tremaining: 1.96s\n",
            "187:\tlearn: 0.3548319\ttest: 0.4553699\tbest: 0.4546364 (159)\ttotal: 454ms\tremaining: 1.96s\n",
            "188:\tlearn: 0.3548289\ttest: 0.4553777\tbest: 0.4546364 (159)\ttotal: 455ms\tremaining: 1.95s\n",
            "189:\tlearn: 0.3544752\ttest: 0.4553009\tbest: 0.4546364 (159)\ttotal: 457ms\tremaining: 1.95s\n",
            "190:\tlearn: 0.3543743\ttest: 0.4552117\tbest: 0.4546364 (159)\ttotal: 458ms\tremaining: 1.94s\n",
            "191:\tlearn: 0.3543172\ttest: 0.4552611\tbest: 0.4546364 (159)\ttotal: 459ms\tremaining: 1.93s\n",
            "192:\tlearn: 0.3538286\ttest: 0.4551602\tbest: 0.4546364 (159)\ttotal: 461ms\tremaining: 1.93s\n",
            "193:\tlearn: 0.3531355\ttest: 0.4554826\tbest: 0.4546364 (159)\ttotal: 464ms\tremaining: 1.93s\n",
            "194:\tlearn: 0.3525138\ttest: 0.4556142\tbest: 0.4546364 (159)\ttotal: 466ms\tremaining: 1.92s\n",
            "195:\tlearn: 0.3518358\ttest: 0.4553671\tbest: 0.4546364 (159)\ttotal: 468ms\tremaining: 1.92s\n",
            "196:\tlearn: 0.3516752\ttest: 0.4555256\tbest: 0.4546364 (159)\ttotal: 471ms\tremaining: 1.92s\n",
            "197:\tlearn: 0.3515895\ttest: 0.4556575\tbest: 0.4546364 (159)\ttotal: 473ms\tremaining: 1.92s\n",
            "198:\tlearn: 0.3509572\ttest: 0.4553155\tbest: 0.4546364 (159)\ttotal: 475ms\tremaining: 1.91s\n",
            "199:\tlearn: 0.3507586\ttest: 0.4552998\tbest: 0.4546364 (159)\ttotal: 477ms\tremaining: 1.91s\n",
            "200:\tlearn: 0.3505973\ttest: 0.4551757\tbest: 0.4546364 (159)\ttotal: 479ms\tremaining: 1.91s\n",
            "201:\tlearn: 0.3500280\ttest: 0.4548551\tbest: 0.4546364 (159)\ttotal: 482ms\tremaining: 1.9s\n",
            "202:\tlearn: 0.3498033\ttest: 0.4549927\tbest: 0.4546364 (159)\ttotal: 484ms\tremaining: 1.9s\n",
            "203:\tlearn: 0.3494558\ttest: 0.4550333\tbest: 0.4546364 (159)\ttotal: 487ms\tremaining: 1.9s\n",
            "204:\tlearn: 0.3487630\ttest: 0.4552607\tbest: 0.4546364 (159)\ttotal: 489ms\tremaining: 1.9s\n",
            "205:\tlearn: 0.3478410\ttest: 0.4555331\tbest: 0.4546364 (159)\ttotal: 491ms\tremaining: 1.89s\n",
            "206:\tlearn: 0.3472678\ttest: 0.4552701\tbest: 0.4546364 (159)\ttotal: 494ms\tremaining: 1.89s\n",
            "207:\tlearn: 0.3467260\ttest: 0.4553183\tbest: 0.4546364 (159)\ttotal: 496ms\tremaining: 1.89s\n",
            "208:\tlearn: 0.3466556\ttest: 0.4552064\tbest: 0.4546364 (159)\ttotal: 497ms\tremaining: 1.88s\n",
            "209:\tlearn: 0.3461182\ttest: 0.4550035\tbest: 0.4546364 (159)\ttotal: 499ms\tremaining: 1.88s\n",
            "210:\tlearn: 0.3460068\ttest: 0.4549240\tbest: 0.4546364 (159)\ttotal: 500ms\tremaining: 1.87s\n",
            "211:\tlearn: 0.3452576\ttest: 0.4548905\tbest: 0.4546364 (159)\ttotal: 503ms\tremaining: 1.87s\n",
            "212:\tlearn: 0.3446999\ttest: 0.4550541\tbest: 0.4546364 (159)\ttotal: 505ms\tremaining: 1.87s\n",
            "213:\tlearn: 0.3435557\ttest: 0.4544090\tbest: 0.4544090 (213)\ttotal: 508ms\tremaining: 1.86s\n",
            "214:\tlearn: 0.3432421\ttest: 0.4543002\tbest: 0.4543002 (214)\ttotal: 510ms\tremaining: 1.86s\n",
            "215:\tlearn: 0.3431781\ttest: 0.4541943\tbest: 0.4541943 (215)\ttotal: 511ms\tremaining: 1.85s\n",
            "216:\tlearn: 0.3423287\ttest: 0.4544928\tbest: 0.4541943 (215)\ttotal: 513ms\tremaining: 1.85s\n",
            "217:\tlearn: 0.3418813\ttest: 0.4542321\tbest: 0.4541943 (215)\ttotal: 516ms\tremaining: 1.85s\n",
            "218:\tlearn: 0.3417788\ttest: 0.4542525\tbest: 0.4541943 (215)\ttotal: 518ms\tremaining: 1.85s\n",
            "219:\tlearn: 0.3414272\ttest: 0.4539314\tbest: 0.4539314 (219)\ttotal: 520ms\tremaining: 1.84s\n",
            "220:\tlearn: 0.3405653\ttest: 0.4537975\tbest: 0.4537975 (220)\ttotal: 523ms\tremaining: 1.84s\n",
            "221:\tlearn: 0.3403941\ttest: 0.4537474\tbest: 0.4537474 (221)\ttotal: 525ms\tremaining: 1.84s\n",
            "222:\tlearn: 0.3393907\ttest: 0.4536861\tbest: 0.4536861 (222)\ttotal: 527ms\tremaining: 1.83s\n",
            "223:\tlearn: 0.3384863\ttest: 0.4536785\tbest: 0.4536785 (223)\ttotal: 529ms\tremaining: 1.83s\n",
            "224:\tlearn: 0.3378072\ttest: 0.4538397\tbest: 0.4536785 (223)\ttotal: 531ms\tremaining: 1.83s\n",
            "225:\tlearn: 0.3369794\ttest: 0.4534295\tbest: 0.4534295 (225)\ttotal: 533ms\tremaining: 1.83s\n",
            "226:\tlearn: 0.3367959\ttest: 0.4537222\tbest: 0.4534295 (225)\ttotal: 535ms\tremaining: 1.82s\n",
            "227:\tlearn: 0.3367959\ttest: 0.4537225\tbest: 0.4534295 (225)\ttotal: 536ms\tremaining: 1.82s\n",
            "228:\tlearn: 0.3361689\ttest: 0.4535432\tbest: 0.4534295 (225)\ttotal: 539ms\tremaining: 1.81s\n",
            "229:\tlearn: 0.3355946\ttest: 0.4532043\tbest: 0.4532043 (229)\ttotal: 541ms\tremaining: 1.81s\n",
            "230:\tlearn: 0.3354282\ttest: 0.4531607\tbest: 0.4531607 (230)\ttotal: 542ms\tremaining: 1.8s\n",
            "231:\tlearn: 0.3353515\ttest: 0.4532738\tbest: 0.4531607 (230)\ttotal: 543ms\tremaining: 1.8s\n",
            "232:\tlearn: 0.3346113\ttest: 0.4532677\tbest: 0.4531607 (230)\ttotal: 545ms\tremaining: 1.79s\n",
            "233:\tlearn: 0.3339071\ttest: 0.4534807\tbest: 0.4531607 (230)\ttotal: 548ms\tremaining: 1.79s\n",
            "234:\tlearn: 0.3338658\ttest: 0.4534823\tbest: 0.4531607 (230)\ttotal: 548ms\tremaining: 1.78s\n",
            "235:\tlearn: 0.3333804\ttest: 0.4533047\tbest: 0.4531607 (230)\ttotal: 551ms\tremaining: 1.78s\n",
            "236:\tlearn: 0.3329984\ttest: 0.4530482\tbest: 0.4530482 (236)\ttotal: 553ms\tremaining: 1.78s\n",
            "237:\tlearn: 0.3321862\ttest: 0.4529633\tbest: 0.4529633 (237)\ttotal: 555ms\tremaining: 1.78s\n",
            "238:\tlearn: 0.3306226\ttest: 0.4528654\tbest: 0.4528654 (238)\ttotal: 558ms\tremaining: 1.77s\n",
            "239:\tlearn: 0.3290492\ttest: 0.4527228\tbest: 0.4527228 (239)\ttotal: 568ms\tremaining: 1.8s\n",
            "240:\tlearn: 0.3279271\ttest: 0.4521024\tbest: 0.4521024 (240)\ttotal: 570ms\tremaining: 1.79s\n",
            "241:\tlearn: 0.3275085\ttest: 0.4519349\tbest: 0.4519349 (241)\ttotal: 572ms\tremaining: 1.79s\n",
            "242:\tlearn: 0.3268210\ttest: 0.4513304\tbest: 0.4513304 (242)\ttotal: 574ms\tremaining: 1.79s\n",
            "243:\tlearn: 0.3262512\ttest: 0.4516310\tbest: 0.4513304 (242)\ttotal: 577ms\tremaining: 1.79s\n",
            "244:\tlearn: 0.3261977\ttest: 0.4516772\tbest: 0.4513304 (242)\ttotal: 578ms\tremaining: 1.78s\n",
            "245:\tlearn: 0.3253940\ttest: 0.4513780\tbest: 0.4513304 (242)\ttotal: 581ms\tremaining: 1.78s\n",
            "246:\tlearn: 0.3253746\ttest: 0.4514407\tbest: 0.4513304 (242)\ttotal: 582ms\tremaining: 1.77s\n",
            "247:\tlearn: 0.3244699\ttest: 0.4512033\tbest: 0.4512033 (247)\ttotal: 584ms\tremaining: 1.77s\n",
            "248:\tlearn: 0.3233993\ttest: 0.4513999\tbest: 0.4512033 (247)\ttotal: 586ms\tremaining: 1.77s\n",
            "249:\tlearn: 0.3233980\ttest: 0.4514109\tbest: 0.4512033 (247)\ttotal: 587ms\tremaining: 1.76s\n",
            "250:\tlearn: 0.3223531\ttest: 0.4513620\tbest: 0.4512033 (247)\ttotal: 589ms\tremaining: 1.76s\n",
            "251:\tlearn: 0.3212738\ttest: 0.4503421\tbest: 0.4503421 (251)\ttotal: 592ms\tremaining: 1.76s\n",
            "252:\tlearn: 0.3200350\ttest: 0.4507241\tbest: 0.4503421 (251)\ttotal: 594ms\tremaining: 1.75s\n",
            "253:\tlearn: 0.3196868\ttest: 0.4507379\tbest: 0.4503421 (251)\ttotal: 596ms\tremaining: 1.75s\n",
            "254:\tlearn: 0.3196823\ttest: 0.4507613\tbest: 0.4503421 (251)\ttotal: 598ms\tremaining: 1.75s\n",
            "255:\tlearn: 0.3194210\ttest: 0.4509431\tbest: 0.4503421 (251)\ttotal: 601ms\tremaining: 1.75s\n",
            "256:\tlearn: 0.3188996\ttest: 0.4509160\tbest: 0.4503421 (251)\ttotal: 603ms\tremaining: 1.74s\n",
            "257:\tlearn: 0.3182913\ttest: 0.4505731\tbest: 0.4503421 (251)\ttotal: 606ms\tremaining: 1.74s\n",
            "258:\tlearn: 0.3177158\ttest: 0.4506664\tbest: 0.4503421 (251)\ttotal: 608ms\tremaining: 1.74s\n",
            "259:\tlearn: 0.3171668\ttest: 0.4506287\tbest: 0.4503421 (251)\ttotal: 610ms\tremaining: 1.74s\n",
            "260:\tlearn: 0.3162681\ttest: 0.4506631\tbest: 0.4503421 (251)\ttotal: 613ms\tremaining: 1.74s\n",
            "261:\tlearn: 0.3162175\ttest: 0.4506935\tbest: 0.4503421 (251)\ttotal: 616ms\tremaining: 1.73s\n",
            "262:\tlearn: 0.3158477\ttest: 0.4506819\tbest: 0.4503421 (251)\ttotal: 618ms\tremaining: 1.73s\n",
            "263:\tlearn: 0.3155837\ttest: 0.4508020\tbest: 0.4503421 (251)\ttotal: 621ms\tremaining: 1.73s\n",
            "264:\tlearn: 0.3145962\ttest: 0.4507999\tbest: 0.4503421 (251)\ttotal: 623ms\tremaining: 1.73s\n",
            "265:\tlearn: 0.3133306\ttest: 0.4510614\tbest: 0.4503421 (251)\ttotal: 626ms\tremaining: 1.73s\n",
            "266:\tlearn: 0.3129380\ttest: 0.4512158\tbest: 0.4503421 (251)\ttotal: 629ms\tremaining: 1.73s\n",
            "267:\tlearn: 0.3120658\ttest: 0.4505414\tbest: 0.4503421 (251)\ttotal: 631ms\tremaining: 1.72s\n",
            "268:\tlearn: 0.3114153\ttest: 0.4500813\tbest: 0.4500813 (268)\ttotal: 633ms\tremaining: 1.72s\n",
            "269:\tlearn: 0.3112933\ttest: 0.4501420\tbest: 0.4500813 (268)\ttotal: 636ms\tremaining: 1.72s\n",
            "270:\tlearn: 0.3109734\ttest: 0.4497783\tbest: 0.4497783 (270)\ttotal: 638ms\tremaining: 1.72s\n",
            "271:\tlearn: 0.3105540\ttest: 0.4494547\tbest: 0.4494547 (271)\ttotal: 640ms\tremaining: 1.71s\n",
            "272:\tlearn: 0.3098625\ttest: 0.4495232\tbest: 0.4494547 (271)\ttotal: 643ms\tremaining: 1.71s\n",
            "273:\tlearn: 0.3088052\ttest: 0.4493358\tbest: 0.4493358 (273)\ttotal: 645ms\tremaining: 1.71s\n",
            "274:\tlearn: 0.3079695\ttest: 0.4497363\tbest: 0.4493358 (273)\ttotal: 648ms\tremaining: 1.71s\n",
            "275:\tlearn: 0.3077958\ttest: 0.4497613\tbest: 0.4493358 (273)\ttotal: 650ms\tremaining: 1.71s\n",
            "276:\tlearn: 0.3073948\ttest: 0.4500631\tbest: 0.4493358 (273)\ttotal: 653ms\tremaining: 1.7s\n",
            "277:\tlearn: 0.3062905\ttest: 0.4506065\tbest: 0.4493358 (273)\ttotal: 655ms\tremaining: 1.7s\n",
            "278:\tlearn: 0.3056336\ttest: 0.4502367\tbest: 0.4493358 (273)\ttotal: 658ms\tremaining: 1.7s\n",
            "279:\tlearn: 0.3051436\ttest: 0.4503958\tbest: 0.4493358 (273)\ttotal: 660ms\tremaining: 1.7s\n",
            "280:\tlearn: 0.3049957\ttest: 0.4503546\tbest: 0.4493358 (273)\ttotal: 663ms\tremaining: 1.7s\n",
            "281:\tlearn: 0.3040205\ttest: 0.4502810\tbest: 0.4493358 (273)\ttotal: 665ms\tremaining: 1.69s\n",
            "282:\tlearn: 0.3035278\ttest: 0.4505091\tbest: 0.4493358 (273)\ttotal: 667ms\tremaining: 1.69s\n",
            "283:\tlearn: 0.3028722\ttest: 0.4501335\tbest: 0.4493358 (273)\ttotal: 670ms\tremaining: 1.69s\n",
            "284:\tlearn: 0.3022840\ttest: 0.4499008\tbest: 0.4493358 (273)\ttotal: 672ms\tremaining: 1.69s\n",
            "285:\tlearn: 0.3022123\ttest: 0.4499566\tbest: 0.4493358 (273)\ttotal: 674ms\tremaining: 1.68s\n",
            "286:\tlearn: 0.3019436\ttest: 0.4500511\tbest: 0.4493358 (273)\ttotal: 677ms\tremaining: 1.68s\n",
            "287:\tlearn: 0.3009744\ttest: 0.4501292\tbest: 0.4493358 (273)\ttotal: 681ms\tremaining: 1.68s\n",
            "288:\tlearn: 0.3006234\ttest: 0.4506243\tbest: 0.4493358 (273)\ttotal: 684ms\tremaining: 1.68s\n",
            "289:\tlearn: 0.3002120\ttest: 0.4509741\tbest: 0.4493358 (273)\ttotal: 686ms\tremaining: 1.68s\n",
            "290:\tlearn: 0.3001063\ttest: 0.4509737\tbest: 0.4493358 (273)\ttotal: 689ms\tremaining: 1.68s\n",
            "291:\tlearn: 0.2989175\ttest: 0.4511042\tbest: 0.4493358 (273)\ttotal: 691ms\tremaining: 1.68s\n",
            "292:\tlearn: 0.2988042\ttest: 0.4510247\tbest: 0.4493358 (273)\ttotal: 694ms\tremaining: 1.68s\n",
            "293:\tlearn: 0.2984881\ttest: 0.4509496\tbest: 0.4493358 (273)\ttotal: 697ms\tremaining: 1.67s\n",
            "294:\tlearn: 0.2982928\ttest: 0.4509541\tbest: 0.4493358 (273)\ttotal: 699ms\tremaining: 1.67s\n",
            "295:\tlearn: 0.2977409\ttest: 0.4515216\tbest: 0.4493358 (273)\ttotal: 701ms\tremaining: 1.67s\n",
            "296:\tlearn: 0.2973062\ttest: 0.4516338\tbest: 0.4493358 (273)\ttotal: 703ms\tremaining: 1.66s\n",
            "297:\tlearn: 0.2971983\ttest: 0.4516945\tbest: 0.4493358 (273)\ttotal: 705ms\tremaining: 1.66s\n",
            "298:\tlearn: 0.2954314\ttest: 0.4516165\tbest: 0.4493358 (273)\ttotal: 708ms\tremaining: 1.66s\n",
            "299:\tlearn: 0.2949628\ttest: 0.4515347\tbest: 0.4493358 (273)\ttotal: 710ms\tremaining: 1.66s\n",
            "300:\tlearn: 0.2948163\ttest: 0.4515481\tbest: 0.4493358 (273)\ttotal: 712ms\tremaining: 1.65s\n",
            "301:\tlearn: 0.2941816\ttest: 0.4516832\tbest: 0.4493358 (273)\ttotal: 715ms\tremaining: 1.65s\n",
            "302:\tlearn: 0.2929393\ttest: 0.4524050\tbest: 0.4493358 (273)\ttotal: 718ms\tremaining: 1.65s\n",
            "303:\tlearn: 0.2926252\ttest: 0.4527933\tbest: 0.4493358 (273)\ttotal: 720ms\tremaining: 1.65s\n",
            "304:\tlearn: 0.2925404\ttest: 0.4528420\tbest: 0.4493358 (273)\ttotal: 722ms\tremaining: 1.65s\n",
            "305:\tlearn: 0.2923264\ttest: 0.4530740\tbest: 0.4493358 (273)\ttotal: 725ms\tremaining: 1.64s\n",
            "306:\tlearn: 0.2919691\ttest: 0.4530602\tbest: 0.4493358 (273)\ttotal: 727ms\tremaining: 1.64s\n",
            "307:\tlearn: 0.2918653\ttest: 0.4530836\tbest: 0.4493358 (273)\ttotal: 729ms\tremaining: 1.64s\n",
            "308:\tlearn: 0.2907962\ttest: 0.4533796\tbest: 0.4493358 (273)\ttotal: 732ms\tremaining: 1.64s\n",
            "309:\tlearn: 0.2900002\ttest: 0.4531190\tbest: 0.4493358 (273)\ttotal: 734ms\tremaining: 1.63s\n",
            "310:\tlearn: 0.2893437\ttest: 0.4534999\tbest: 0.4493358 (273)\ttotal: 737ms\tremaining: 1.63s\n",
            "311:\tlearn: 0.2890062\ttest: 0.4533978\tbest: 0.4493358 (273)\ttotal: 739ms\tremaining: 1.63s\n",
            "312:\tlearn: 0.2884825\ttest: 0.4533069\tbest: 0.4493358 (273)\ttotal: 741ms\tremaining: 1.63s\n",
            "313:\tlearn: 0.2878772\ttest: 0.4532766\tbest: 0.4493358 (273)\ttotal: 744ms\tremaining: 1.62s\n",
            "314:\tlearn: 0.2875680\ttest: 0.4532643\tbest: 0.4493358 (273)\ttotal: 746ms\tremaining: 1.62s\n",
            "315:\tlearn: 0.2873428\ttest: 0.4533415\tbest: 0.4493358 (273)\ttotal: 749ms\tremaining: 1.62s\n",
            "316:\tlearn: 0.2872753\ttest: 0.4532671\tbest: 0.4493358 (273)\ttotal: 751ms\tremaining: 1.62s\n",
            "317:\tlearn: 0.2868904\ttest: 0.4531984\tbest: 0.4493358 (273)\ttotal: 753ms\tremaining: 1.61s\n",
            "318:\tlearn: 0.2857556\ttest: 0.4531731\tbest: 0.4493358 (273)\ttotal: 756ms\tremaining: 1.61s\n",
            "319:\tlearn: 0.2855166\ttest: 0.4529607\tbest: 0.4493358 (273)\ttotal: 760ms\tremaining: 1.61s\n",
            "320:\tlearn: 0.2850830\ttest: 0.4528479\tbest: 0.4493358 (273)\ttotal: 765ms\tremaining: 1.62s\n",
            "321:\tlearn: 0.2844735\ttest: 0.4528025\tbest: 0.4493358 (273)\ttotal: 767ms\tremaining: 1.61s\n",
            "322:\tlearn: 0.2840501\ttest: 0.4528165\tbest: 0.4493358 (273)\ttotal: 770ms\tremaining: 1.61s\n",
            "323:\tlearn: 0.2835409\ttest: 0.4529926\tbest: 0.4493358 (273)\ttotal: 772ms\tremaining: 1.61s\n",
            "324:\tlearn: 0.2834361\ttest: 0.4529351\tbest: 0.4493358 (273)\ttotal: 774ms\tremaining: 1.61s\n",
            "325:\tlearn: 0.2823906\ttest: 0.4531953\tbest: 0.4493358 (273)\ttotal: 777ms\tremaining: 1.61s\n",
            "326:\tlearn: 0.2819751\ttest: 0.4533654\tbest: 0.4493358 (273)\ttotal: 779ms\tremaining: 1.6s\n",
            "327:\tlearn: 0.2817359\ttest: 0.4534086\tbest: 0.4493358 (273)\ttotal: 782ms\tremaining: 1.6s\n",
            "328:\tlearn: 0.2802862\ttest: 0.4537558\tbest: 0.4493358 (273)\ttotal: 784ms\tremaining: 1.6s\n",
            "329:\tlearn: 0.2796425\ttest: 0.4536861\tbest: 0.4493358 (273)\ttotal: 787ms\tremaining: 1.6s\n",
            "330:\tlearn: 0.2786718\ttest: 0.4534995\tbest: 0.4493358 (273)\ttotal: 790ms\tremaining: 1.6s\n",
            "331:\tlearn: 0.2774062\ttest: 0.4541379\tbest: 0.4493358 (273)\ttotal: 793ms\tremaining: 1.59s\n",
            "332:\tlearn: 0.2766694\ttest: 0.4541230\tbest: 0.4493358 (273)\ttotal: 795ms\tremaining: 1.59s\n",
            "333:\tlearn: 0.2754205\ttest: 0.4541762\tbest: 0.4493358 (273)\ttotal: 798ms\tremaining: 1.59s\n",
            "334:\tlearn: 0.2750793\ttest: 0.4544350\tbest: 0.4493358 (273)\ttotal: 801ms\tremaining: 1.59s\n",
            "335:\tlearn: 0.2743951\ttest: 0.4548385\tbest: 0.4493358 (273)\ttotal: 803ms\tremaining: 1.59s\n",
            "336:\tlearn: 0.2740736\ttest: 0.4550998\tbest: 0.4493358 (273)\ttotal: 806ms\tremaining: 1.58s\n",
            "337:\tlearn: 0.2736888\ttest: 0.4549354\tbest: 0.4493358 (273)\ttotal: 808ms\tremaining: 1.58s\n",
            "338:\tlearn: 0.2733963\ttest: 0.4549550\tbest: 0.4493358 (273)\ttotal: 810ms\tremaining: 1.58s\n",
            "339:\tlearn: 0.2725939\ttest: 0.4551845\tbest: 0.4493358 (273)\ttotal: 813ms\tremaining: 1.58s\n",
            "340:\tlearn: 0.2719425\ttest: 0.4549614\tbest: 0.4493358 (273)\ttotal: 816ms\tremaining: 1.58s\n",
            "341:\tlearn: 0.2713622\ttest: 0.4548526\tbest: 0.4493358 (273)\ttotal: 818ms\tremaining: 1.57s\n",
            "342:\tlearn: 0.2706332\ttest: 0.4549314\tbest: 0.4493358 (273)\ttotal: 821ms\tremaining: 1.57s\n",
            "343:\tlearn: 0.2697344\ttest: 0.4545652\tbest: 0.4493358 (273)\ttotal: 824ms\tremaining: 1.57s\n",
            "344:\tlearn: 0.2690260\ttest: 0.4543673\tbest: 0.4493358 (273)\ttotal: 826ms\tremaining: 1.57s\n",
            "345:\tlearn: 0.2689575\ttest: 0.4544767\tbest: 0.4493358 (273)\ttotal: 829ms\tremaining: 1.57s\n",
            "346:\tlearn: 0.2681014\ttest: 0.4545743\tbest: 0.4493358 (273)\ttotal: 831ms\tremaining: 1.56s\n",
            "347:\tlearn: 0.2670135\ttest: 0.4541075\tbest: 0.4493358 (273)\ttotal: 834ms\tremaining: 1.56s\n",
            "348:\tlearn: 0.2665769\ttest: 0.4541371\tbest: 0.4493358 (273)\ttotal: 837ms\tremaining: 1.56s\n",
            "349:\tlearn: 0.2661177\ttest: 0.4542866\tbest: 0.4493358 (273)\ttotal: 839ms\tremaining: 1.56s\n",
            "350:\tlearn: 0.2660378\ttest: 0.4542462\tbest: 0.4493358 (273)\ttotal: 841ms\tremaining: 1.55s\n",
            "351:\tlearn: 0.2651751\ttest: 0.4548052\tbest: 0.4493358 (273)\ttotal: 844ms\tremaining: 1.55s\n",
            "352:\tlearn: 0.2645678\ttest: 0.4544566\tbest: 0.4493358 (273)\ttotal: 846ms\tremaining: 1.55s\n",
            "353:\tlearn: 0.2645315\ttest: 0.4544624\tbest: 0.4493358 (273)\ttotal: 848ms\tremaining: 1.55s\n",
            "354:\tlearn: 0.2640377\ttest: 0.4541673\tbest: 0.4493358 (273)\ttotal: 851ms\tremaining: 1.55s\n",
            "355:\tlearn: 0.2639914\ttest: 0.4542073\tbest: 0.4493358 (273)\ttotal: 852ms\tremaining: 1.54s\n",
            "356:\tlearn: 0.2633877\ttest: 0.4547739\tbest: 0.4493358 (273)\ttotal: 855ms\tremaining: 1.54s\n",
            "357:\tlearn: 0.2630355\ttest: 0.4551761\tbest: 0.4493358 (273)\ttotal: 858ms\tremaining: 1.54s\n",
            "358:\tlearn: 0.2626813\ttest: 0.4553620\tbest: 0.4493358 (273)\ttotal: 862ms\tremaining: 1.54s\n",
            "359:\tlearn: 0.2623012\ttest: 0.4557366\tbest: 0.4493358 (273)\ttotal: 866ms\tremaining: 1.54s\n",
            "360:\tlearn: 0.2621520\ttest: 0.4558375\tbest: 0.4493358 (273)\ttotal: 871ms\tremaining: 1.54s\n",
            "361:\tlearn: 0.2617621\ttest: 0.4555457\tbest: 0.4493358 (273)\ttotal: 875ms\tremaining: 1.54s\n",
            "362:\tlearn: 0.2611218\ttest: 0.4553401\tbest: 0.4493358 (273)\ttotal: 877ms\tremaining: 1.54s\n",
            "363:\tlearn: 0.2605529\ttest: 0.4554967\tbest: 0.4493358 (273)\ttotal: 880ms\tremaining: 1.54s\n",
            "364:\tlearn: 0.2595340\ttest: 0.4552659\tbest: 0.4493358 (273)\ttotal: 883ms\tremaining: 1.53s\n",
            "365:\tlearn: 0.2584883\ttest: 0.4556013\tbest: 0.4493358 (273)\ttotal: 885ms\tremaining: 1.53s\n",
            "366:\tlearn: 0.2578861\ttest: 0.4561826\tbest: 0.4493358 (273)\ttotal: 888ms\tremaining: 1.53s\n",
            "367:\tlearn: 0.2575467\ttest: 0.4561308\tbest: 0.4493358 (273)\ttotal: 891ms\tremaining: 1.53s\n",
            "368:\tlearn: 0.2572774\ttest: 0.4560053\tbest: 0.4493358 (273)\ttotal: 893ms\tremaining: 1.53s\n",
            "369:\tlearn: 0.2566676\ttest: 0.4561775\tbest: 0.4493358 (273)\ttotal: 896ms\tremaining: 1.52s\n",
            "370:\tlearn: 0.2563577\ttest: 0.4564073\tbest: 0.4493358 (273)\ttotal: 898ms\tremaining: 1.52s\n",
            "371:\tlearn: 0.2555989\ttest: 0.4565512\tbest: 0.4493358 (273)\ttotal: 901ms\tremaining: 1.52s\n",
            "372:\tlearn: 0.2549303\ttest: 0.4559855\tbest: 0.4493358 (273)\ttotal: 903ms\tremaining: 1.52s\n",
            "373:\tlearn: 0.2548805\ttest: 0.4560056\tbest: 0.4493358 (273)\ttotal: 906ms\tremaining: 1.52s\n",
            "374:\tlearn: 0.2543666\ttest: 0.4559831\tbest: 0.4493358 (273)\ttotal: 909ms\tremaining: 1.51s\n",
            "375:\tlearn: 0.2539827\ttest: 0.4561502\tbest: 0.4493358 (273)\ttotal: 911ms\tremaining: 1.51s\n",
            "376:\tlearn: 0.2537658\ttest: 0.4563423\tbest: 0.4493358 (273)\ttotal: 914ms\tremaining: 1.51s\n",
            "377:\tlearn: 0.2524973\ttest: 0.4556110\tbest: 0.4493358 (273)\ttotal: 917ms\tremaining: 1.51s\n",
            "378:\tlearn: 0.2523217\ttest: 0.4557753\tbest: 0.4493358 (273)\ttotal: 919ms\tremaining: 1.5s\n",
            "379:\tlearn: 0.2517049\ttest: 0.4557162\tbest: 0.4493358 (273)\ttotal: 922ms\tremaining: 1.5s\n",
            "380:\tlearn: 0.2505825\ttest: 0.4554475\tbest: 0.4493358 (273)\ttotal: 924ms\tremaining: 1.5s\n",
            "381:\tlearn: 0.2499108\ttest: 0.4554487\tbest: 0.4493358 (273)\ttotal: 927ms\tremaining: 1.5s\n",
            "382:\tlearn: 0.2493603\ttest: 0.4551205\tbest: 0.4493358 (273)\ttotal: 929ms\tremaining: 1.5s\n",
            "383:\tlearn: 0.2492968\ttest: 0.4550830\tbest: 0.4493358 (273)\ttotal: 931ms\tremaining: 1.49s\n",
            "384:\tlearn: 0.2486563\ttest: 0.4548491\tbest: 0.4493358 (273)\ttotal: 934ms\tremaining: 1.49s\n",
            "385:\tlearn: 0.2485217\ttest: 0.4545506\tbest: 0.4493358 (273)\ttotal: 937ms\tremaining: 1.49s\n",
            "386:\tlearn: 0.2479770\ttest: 0.4545291\tbest: 0.4493358 (273)\ttotal: 940ms\tremaining: 1.49s\n",
            "387:\tlearn: 0.2479295\ttest: 0.4545483\tbest: 0.4493358 (273)\ttotal: 943ms\tremaining: 1.49s\n",
            "388:\tlearn: 0.2472206\ttest: 0.4546482\tbest: 0.4493358 (273)\ttotal: 947ms\tremaining: 1.49s\n",
            "389:\tlearn: 0.2459444\ttest: 0.4548035\tbest: 0.4493358 (273)\ttotal: 953ms\tremaining: 1.49s\n",
            "390:\tlearn: 0.2455324\ttest: 0.4553200\tbest: 0.4493358 (273)\ttotal: 956ms\tremaining: 1.49s\n",
            "391:\tlearn: 0.2449850\ttest: 0.4551616\tbest: 0.4493358 (273)\ttotal: 958ms\tremaining: 1.49s\n",
            "392:\tlearn: 0.2449194\ttest: 0.4550795\tbest: 0.4493358 (273)\ttotal: 961ms\tremaining: 1.48s\n",
            "393:\tlearn: 0.2444265\ttest: 0.4554676\tbest: 0.4493358 (273)\ttotal: 964ms\tremaining: 1.48s\n",
            "394:\tlearn: 0.2442563\ttest: 0.4554856\tbest: 0.4493358 (273)\ttotal: 966ms\tremaining: 1.48s\n",
            "395:\tlearn: 0.2428851\ttest: 0.4553632\tbest: 0.4493358 (273)\ttotal: 969ms\tremaining: 1.48s\n",
            "396:\tlearn: 0.2423789\ttest: 0.4551200\tbest: 0.4493358 (273)\ttotal: 972ms\tremaining: 1.48s\n",
            "397:\tlearn: 0.2418483\ttest: 0.4556107\tbest: 0.4493358 (273)\ttotal: 975ms\tremaining: 1.47s\n",
            "398:\tlearn: 0.2413628\ttest: 0.4550917\tbest: 0.4493358 (273)\ttotal: 977ms\tremaining: 1.47s\n",
            "399:\tlearn: 0.2411763\ttest: 0.4552633\tbest: 0.4493358 (273)\ttotal: 980ms\tremaining: 1.47s\n",
            "400:\tlearn: 0.2407602\ttest: 0.4557178\tbest: 0.4493358 (273)\ttotal: 983ms\tremaining: 1.47s\n",
            "401:\tlearn: 0.2403977\ttest: 0.4557376\tbest: 0.4493358 (273)\ttotal: 985ms\tremaining: 1.47s\n",
            "402:\tlearn: 0.2399867\ttest: 0.4559772\tbest: 0.4493358 (273)\ttotal: 988ms\tremaining: 1.46s\n",
            "403:\tlearn: 0.2393883\ttest: 0.4555981\tbest: 0.4493358 (273)\ttotal: 991ms\tremaining: 1.46s\n",
            "404:\tlearn: 0.2386483\ttest: 0.4559306\tbest: 0.4493358 (273)\ttotal: 993ms\tremaining: 1.46s\n",
            "405:\tlearn: 0.2380074\ttest: 0.4561733\tbest: 0.4493358 (273)\ttotal: 996ms\tremaining: 1.46s\n",
            "406:\tlearn: 0.2378688\ttest: 0.4562232\tbest: 0.4493358 (273)\ttotal: 998ms\tremaining: 1.45s\n",
            "407:\tlearn: 0.2373930\ttest: 0.4562688\tbest: 0.4493358 (273)\ttotal: 1s\tremaining: 1.45s\n",
            "408:\tlearn: 0.2368705\ttest: 0.4557848\tbest: 0.4493358 (273)\ttotal: 1s\tremaining: 1.45s\n",
            "409:\tlearn: 0.2365264\ttest: 0.4557189\tbest: 0.4493358 (273)\ttotal: 1s\tremaining: 1.45s\n",
            "410:\tlearn: 0.2352105\ttest: 0.4551653\tbest: 0.4493358 (273)\ttotal: 1.01s\tremaining: 1.45s\n",
            "411:\tlearn: 0.2349137\ttest: 0.4560433\tbest: 0.4493358 (273)\ttotal: 1.01s\tremaining: 1.44s\n",
            "412:\tlearn: 0.2337551\ttest: 0.4564272\tbest: 0.4493358 (273)\ttotal: 1.01s\tremaining: 1.44s\n",
            "413:\tlearn: 0.2331602\ttest: 0.4561543\tbest: 0.4493358 (273)\ttotal: 1.02s\tremaining: 1.44s\n",
            "414:\tlearn: 0.2327779\ttest: 0.4561792\tbest: 0.4493358 (273)\ttotal: 1.02s\tremaining: 1.44s\n",
            "415:\tlearn: 0.2327110\ttest: 0.4562364\tbest: 0.4493358 (273)\ttotal: 1.02s\tremaining: 1.43s\n",
            "416:\tlearn: 0.2323773\ttest: 0.4566358\tbest: 0.4493358 (273)\ttotal: 1.02s\tremaining: 1.43s\n",
            "417:\tlearn: 0.2318285\ttest: 0.4564068\tbest: 0.4493358 (273)\ttotal: 1.03s\tremaining: 1.43s\n",
            "418:\tlearn: 0.2317690\ttest: 0.4564599\tbest: 0.4493358 (273)\ttotal: 1.03s\tremaining: 1.43s\n",
            "419:\tlearn: 0.2315903\ttest: 0.4563620\tbest: 0.4493358 (273)\ttotal: 1.03s\tremaining: 1.42s\n",
            "420:\tlearn: 0.2314427\ttest: 0.4565974\tbest: 0.4493358 (273)\ttotal: 1.03s\tremaining: 1.42s\n",
            "421:\tlearn: 0.2312060\ttest: 0.4566564\tbest: 0.4493358 (273)\ttotal: 1.04s\tremaining: 1.42s\n",
            "422:\tlearn: 0.2307539\ttest: 0.4565992\tbest: 0.4493358 (273)\ttotal: 1.04s\tremaining: 1.42s\n",
            "423:\tlearn: 0.2304354\ttest: 0.4565931\tbest: 0.4493358 (273)\ttotal: 1.04s\tremaining: 1.42s\n",
            "424:\tlearn: 0.2303404\ttest: 0.4566564\tbest: 0.4493358 (273)\ttotal: 1.04s\tremaining: 1.41s\n",
            "425:\tlearn: 0.2302637\ttest: 0.4566277\tbest: 0.4493358 (273)\ttotal: 1.05s\tremaining: 1.41s\n",
            "426:\tlearn: 0.2300850\ttest: 0.4568459\tbest: 0.4493358 (273)\ttotal: 1.05s\tremaining: 1.41s\n",
            "427:\tlearn: 0.2297151\ttest: 0.4566623\tbest: 0.4493358 (273)\ttotal: 1.05s\tremaining: 1.41s\n",
            "428:\tlearn: 0.2290358\ttest: 0.4561679\tbest: 0.4493358 (273)\ttotal: 1.05s\tremaining: 1.4s\n",
            "429:\tlearn: 0.2288365\ttest: 0.4562135\tbest: 0.4493358 (273)\ttotal: 1.06s\tremaining: 1.4s\n",
            "430:\tlearn: 0.2286434\ttest: 0.4562309\tbest: 0.4493358 (273)\ttotal: 1.06s\tremaining: 1.4s\n",
            "431:\tlearn: 0.2278529\ttest: 0.4560561\tbest: 0.4493358 (273)\ttotal: 1.06s\tremaining: 1.4s\n",
            "432:\tlearn: 0.2271418\ttest: 0.4562285\tbest: 0.4493358 (273)\ttotal: 1.06s\tremaining: 1.39s\n",
            "433:\tlearn: 0.2270794\ttest: 0.4561828\tbest: 0.4493358 (273)\ttotal: 1.07s\tremaining: 1.39s\n",
            "434:\tlearn: 0.2268986\ttest: 0.4562116\tbest: 0.4493358 (273)\ttotal: 1.07s\tremaining: 1.39s\n",
            "435:\tlearn: 0.2267162\ttest: 0.4560326\tbest: 0.4493358 (273)\ttotal: 1.07s\tremaining: 1.39s\n",
            "436:\tlearn: 0.2267035\ttest: 0.4560344\tbest: 0.4493358 (273)\ttotal: 1.07s\tremaining: 1.38s\n",
            "437:\tlearn: 0.2266467\ttest: 0.4560470\tbest: 0.4493358 (273)\ttotal: 1.08s\tremaining: 1.38s\n",
            "438:\tlearn: 0.2261602\ttest: 0.4563217\tbest: 0.4493358 (273)\ttotal: 1.08s\tremaining: 1.38s\n",
            "439:\tlearn: 0.2258115\ttest: 0.4560367\tbest: 0.4493358 (273)\ttotal: 1.08s\tremaining: 1.38s\n",
            "440:\tlearn: 0.2246492\ttest: 0.4561676\tbest: 0.4493358 (273)\ttotal: 1.08s\tremaining: 1.37s\n",
            "441:\tlearn: 0.2246242\ttest: 0.4561907\tbest: 0.4493358 (273)\ttotal: 1.09s\tremaining: 1.37s\n",
            "442:\tlearn: 0.2241815\ttest: 0.4562916\tbest: 0.4493358 (273)\ttotal: 1.09s\tremaining: 1.37s\n",
            "443:\tlearn: 0.2235734\ttest: 0.4560364\tbest: 0.4493358 (273)\ttotal: 1.09s\tremaining: 1.37s\n",
            "444:\tlearn: 0.2229335\ttest: 0.4555745\tbest: 0.4493358 (273)\ttotal: 1.09s\tremaining: 1.36s\n",
            "445:\tlearn: 0.2229194\ttest: 0.4555780\tbest: 0.4493358 (273)\ttotal: 1.09s\tremaining: 1.36s\n",
            "446:\tlearn: 0.2228955\ttest: 0.4556011\tbest: 0.4493358 (273)\ttotal: 1.1s\tremaining: 1.36s\n",
            "447:\tlearn: 0.2227644\ttest: 0.4554875\tbest: 0.4493358 (273)\ttotal: 1.1s\tremaining: 1.35s\n",
            "448:\tlearn: 0.2220380\ttest: 0.4557583\tbest: 0.4493358 (273)\ttotal: 1.1s\tremaining: 1.35s\n",
            "449:\tlearn: 0.2219961\ttest: 0.4558842\tbest: 0.4493358 (273)\ttotal: 1.1s\tremaining: 1.35s\n",
            "450:\tlearn: 0.2219535\ttest: 0.4558836\tbest: 0.4493358 (273)\ttotal: 1.11s\tremaining: 1.35s\n",
            "451:\tlearn: 0.2216031\ttest: 0.4558209\tbest: 0.4493358 (273)\ttotal: 1.11s\tremaining: 1.34s\n",
            "452:\tlearn: 0.2215921\ttest: 0.4558226\tbest: 0.4493358 (273)\ttotal: 1.11s\tremaining: 1.34s\n",
            "453:\tlearn: 0.2206383\ttest: 0.4561758\tbest: 0.4493358 (273)\ttotal: 1.11s\tremaining: 1.34s\n",
            "454:\tlearn: 0.2197093\ttest: 0.4564011\tbest: 0.4493358 (273)\ttotal: 1.12s\tremaining: 1.34s\n",
            "455:\tlearn: 0.2195203\ttest: 0.4566168\tbest: 0.4493358 (273)\ttotal: 1.12s\tremaining: 1.33s\n",
            "456:\tlearn: 0.2188352\ttest: 0.4567338\tbest: 0.4493358 (273)\ttotal: 1.12s\tremaining: 1.33s\n",
            "457:\tlearn: 0.2187379\ttest: 0.4567445\tbest: 0.4493358 (273)\ttotal: 1.12s\tremaining: 1.33s\n",
            "458:\tlearn: 0.2187058\ttest: 0.4567215\tbest: 0.4493358 (273)\ttotal: 1.13s\tremaining: 1.33s\n",
            "459:\tlearn: 0.2184352\ttest: 0.4568352\tbest: 0.4493358 (273)\ttotal: 1.13s\tremaining: 1.33s\n",
            "460:\tlearn: 0.2178979\ttest: 0.4570824\tbest: 0.4493358 (273)\ttotal: 1.13s\tremaining: 1.32s\n",
            "461:\tlearn: 0.2178170\ttest: 0.4571991\tbest: 0.4493358 (273)\ttotal: 1.15s\tremaining: 1.34s\n",
            "462:\tlearn: 0.2173145\ttest: 0.4570557\tbest: 0.4493358 (273)\ttotal: 1.15s\tremaining: 1.34s\n",
            "463:\tlearn: 0.2169177\ttest: 0.4567810\tbest: 0.4493358 (273)\ttotal: 1.15s\tremaining: 1.33s\n",
            "464:\tlearn: 0.2162501\ttest: 0.4570060\tbest: 0.4493358 (273)\ttotal: 1.16s\tremaining: 1.33s\n",
            "465:\tlearn: 0.2157619\ttest: 0.4569241\tbest: 0.4493358 (273)\ttotal: 1.16s\tremaining: 1.33s\n",
            "466:\tlearn: 0.2153704\ttest: 0.4569974\tbest: 0.4493358 (273)\ttotal: 1.16s\tremaining: 1.33s\n",
            "467:\tlearn: 0.2147438\ttest: 0.4570664\tbest: 0.4493358 (273)\ttotal: 1.17s\tremaining: 1.32s\n",
            "468:\tlearn: 0.2142153\ttest: 0.4571474\tbest: 0.4493358 (273)\ttotal: 1.17s\tremaining: 1.32s\n",
            "469:\tlearn: 0.2138073\ttest: 0.4570058\tbest: 0.4493358 (273)\ttotal: 1.17s\tremaining: 1.32s\n",
            "470:\tlearn: 0.2133832\ttest: 0.4571403\tbest: 0.4493358 (273)\ttotal: 1.17s\tremaining: 1.32s\n",
            "471:\tlearn: 0.2125293\ttest: 0.4570993\tbest: 0.4493358 (273)\ttotal: 1.18s\tremaining: 1.31s\n",
            "472:\tlearn: 0.2122493\ttest: 0.4573406\tbest: 0.4493358 (273)\ttotal: 1.18s\tremaining: 1.31s\n",
            "473:\tlearn: 0.2118271\ttest: 0.4576340\tbest: 0.4493358 (273)\ttotal: 1.18s\tremaining: 1.31s\n",
            "474:\tlearn: 0.2117181\ttest: 0.4577911\tbest: 0.4493358 (273)\ttotal: 1.18s\tremaining: 1.31s\n",
            "475:\tlearn: 0.2115536\ttest: 0.4578393\tbest: 0.4493358 (273)\ttotal: 1.19s\tremaining: 1.31s\n",
            "476:\tlearn: 0.2110208\ttest: 0.4578103\tbest: 0.4493358 (273)\ttotal: 1.19s\tremaining: 1.3s\n",
            "477:\tlearn: 0.2105455\ttest: 0.4580358\tbest: 0.4493358 (273)\ttotal: 1.19s\tremaining: 1.3s\n",
            "478:\tlearn: 0.2102959\ttest: 0.4580158\tbest: 0.4493358 (273)\ttotal: 1.19s\tremaining: 1.3s\n",
            "479:\tlearn: 0.2100857\ttest: 0.4579894\tbest: 0.4493358 (273)\ttotal: 1.2s\tremaining: 1.29s\n",
            "480:\tlearn: 0.2098599\ttest: 0.4578926\tbest: 0.4493358 (273)\ttotal: 1.2s\tremaining: 1.29s\n",
            "481:\tlearn: 0.2093145\ttest: 0.4576558\tbest: 0.4493358 (273)\ttotal: 1.2s\tremaining: 1.29s\n",
            "482:\tlearn: 0.2089263\ttest: 0.4576356\tbest: 0.4493358 (273)\ttotal: 1.2s\tremaining: 1.29s\n",
            "483:\tlearn: 0.2086315\ttest: 0.4580875\tbest: 0.4493358 (273)\ttotal: 1.21s\tremaining: 1.29s\n",
            "484:\tlearn: 0.2080796\ttest: 0.4588527\tbest: 0.4493358 (273)\ttotal: 1.21s\tremaining: 1.28s\n",
            "485:\tlearn: 0.2074024\ttest: 0.4590162\tbest: 0.4493358 (273)\ttotal: 1.21s\tremaining: 1.28s\n",
            "486:\tlearn: 0.2069175\ttest: 0.4589052\tbest: 0.4493358 (273)\ttotal: 1.21s\tremaining: 1.28s\n",
            "487:\tlearn: 0.2068313\ttest: 0.4588373\tbest: 0.4493358 (273)\ttotal: 1.22s\tremaining: 1.28s\n",
            "488:\tlearn: 0.2067857\ttest: 0.4589427\tbest: 0.4493358 (273)\ttotal: 1.22s\tremaining: 1.27s\n",
            "489:\tlearn: 0.2063109\ttest: 0.4590384\tbest: 0.4493358 (273)\ttotal: 1.22s\tremaining: 1.27s\n",
            "490:\tlearn: 0.2058175\ttest: 0.4592239\tbest: 0.4493358 (273)\ttotal: 1.22s\tremaining: 1.27s\n",
            "491:\tlearn: 0.2057198\ttest: 0.4592572\tbest: 0.4493358 (273)\ttotal: 1.23s\tremaining: 1.27s\n",
            "492:\tlearn: 0.2054009\ttest: 0.4593728\tbest: 0.4493358 (273)\ttotal: 1.23s\tremaining: 1.26s\n",
            "493:\tlearn: 0.2051458\ttest: 0.4592443\tbest: 0.4493358 (273)\ttotal: 1.23s\tremaining: 1.26s\n",
            "494:\tlearn: 0.2049780\ttest: 0.4591898\tbest: 0.4493358 (273)\ttotal: 1.23s\tremaining: 1.26s\n",
            "495:\tlearn: 0.2040728\ttest: 0.4590203\tbest: 0.4493358 (273)\ttotal: 1.24s\tremaining: 1.26s\n",
            "496:\tlearn: 0.2039070\ttest: 0.4588665\tbest: 0.4493358 (273)\ttotal: 1.24s\tremaining: 1.25s\n",
            "497:\tlearn: 0.2033471\ttest: 0.4585192\tbest: 0.4493358 (273)\ttotal: 1.24s\tremaining: 1.25s\n",
            "498:\tlearn: 0.2028114\ttest: 0.4578155\tbest: 0.4493358 (273)\ttotal: 1.24s\tremaining: 1.25s\n",
            "499:\tlearn: 0.2025203\ttest: 0.4579393\tbest: 0.4493358 (273)\ttotal: 1.25s\tremaining: 1.25s\n",
            "500:\tlearn: 0.2020860\ttest: 0.4581874\tbest: 0.4493358 (273)\ttotal: 1.25s\tremaining: 1.24s\n",
            "501:\tlearn: 0.2019906\ttest: 0.4581358\tbest: 0.4493358 (273)\ttotal: 1.25s\tremaining: 1.24s\n",
            "502:\tlearn: 0.2015034\ttest: 0.4583738\tbest: 0.4493358 (273)\ttotal: 1.25s\tremaining: 1.24s\n",
            "503:\tlearn: 0.2014852\ttest: 0.4583920\tbest: 0.4493358 (273)\ttotal: 1.26s\tremaining: 1.24s\n",
            "504:\tlearn: 0.2011597\ttest: 0.4584187\tbest: 0.4493358 (273)\ttotal: 1.26s\tremaining: 1.24s\n",
            "505:\tlearn: 0.2001455\ttest: 0.4587486\tbest: 0.4493358 (273)\ttotal: 1.26s\tremaining: 1.24s\n",
            "506:\tlearn: 0.1999110\ttest: 0.4586596\tbest: 0.4493358 (273)\ttotal: 1.27s\tremaining: 1.23s\n",
            "507:\tlearn: 0.1998506\ttest: 0.4584968\tbest: 0.4493358 (273)\ttotal: 1.27s\tremaining: 1.23s\n",
            "508:\tlearn: 0.1997513\ttest: 0.4584781\tbest: 0.4493358 (273)\ttotal: 1.27s\tremaining: 1.23s\n",
            "509:\tlearn: 0.1991986\ttest: 0.4590529\tbest: 0.4493358 (273)\ttotal: 1.27s\tremaining: 1.23s\n",
            "510:\tlearn: 0.1990789\ttest: 0.4591620\tbest: 0.4493358 (273)\ttotal: 1.28s\tremaining: 1.22s\n",
            "511:\tlearn: 0.1986968\ttest: 0.4592266\tbest: 0.4493358 (273)\ttotal: 1.28s\tremaining: 1.22s\n",
            "512:\tlearn: 0.1986887\ttest: 0.4592263\tbest: 0.4493358 (273)\ttotal: 1.28s\tremaining: 1.22s\n",
            "513:\tlearn: 0.1980792\ttest: 0.4594063\tbest: 0.4493358 (273)\ttotal: 1.29s\tremaining: 1.22s\n",
            "514:\tlearn: 0.1978403\ttest: 0.4591646\tbest: 0.4493358 (273)\ttotal: 1.29s\tremaining: 1.21s\n",
            "515:\tlearn: 0.1976003\ttest: 0.4594264\tbest: 0.4493358 (273)\ttotal: 1.29s\tremaining: 1.21s\n",
            "516:\tlearn: 0.1968438\ttest: 0.4590573\tbest: 0.4493358 (273)\ttotal: 1.29s\tremaining: 1.21s\n",
            "517:\tlearn: 0.1961825\ttest: 0.4592435\tbest: 0.4493358 (273)\ttotal: 1.3s\tremaining: 1.21s\n",
            "518:\tlearn: 0.1961645\ttest: 0.4592465\tbest: 0.4493358 (273)\ttotal: 1.3s\tremaining: 1.21s\n",
            "519:\tlearn: 0.1957076\ttest: 0.4592018\tbest: 0.4493358 (273)\ttotal: 1.3s\tremaining: 1.2s\n",
            "520:\tlearn: 0.1950797\ttest: 0.4593853\tbest: 0.4493358 (273)\ttotal: 1.31s\tremaining: 1.2s\n",
            "521:\tlearn: 0.1945843\ttest: 0.4591959\tbest: 0.4493358 (273)\ttotal: 1.31s\tremaining: 1.2s\n",
            "522:\tlearn: 0.1937798\ttest: 0.4590662\tbest: 0.4493358 (273)\ttotal: 1.31s\tremaining: 1.2s\n",
            "523:\tlearn: 0.1932738\ttest: 0.4593013\tbest: 0.4493358 (273)\ttotal: 1.31s\tremaining: 1.19s\n",
            "524:\tlearn: 0.1927648\ttest: 0.4592253\tbest: 0.4493358 (273)\ttotal: 1.32s\tremaining: 1.19s\n",
            "525:\tlearn: 0.1924780\ttest: 0.4590972\tbest: 0.4493358 (273)\ttotal: 1.32s\tremaining: 1.19s\n",
            "526:\tlearn: 0.1917349\ttest: 0.4593658\tbest: 0.4493358 (273)\ttotal: 1.32s\tremaining: 1.19s\n",
            "527:\tlearn: 0.1912507\ttest: 0.4593779\tbest: 0.4493358 (273)\ttotal: 1.32s\tremaining: 1.18s\n",
            "528:\tlearn: 0.1912335\ttest: 0.4593979\tbest: 0.4493358 (273)\ttotal: 1.33s\tremaining: 1.18s\n",
            "529:\tlearn: 0.1906702\ttest: 0.4593995\tbest: 0.4493358 (273)\ttotal: 1.33s\tremaining: 1.18s\n",
            "530:\tlearn: 0.1902479\ttest: 0.4593514\tbest: 0.4493358 (273)\ttotal: 1.33s\tremaining: 1.18s\n",
            "531:\tlearn: 0.1897884\ttest: 0.4592446\tbest: 0.4493358 (273)\ttotal: 1.33s\tremaining: 1.17s\n",
            "532:\tlearn: 0.1894679\ttest: 0.4591560\tbest: 0.4493358 (273)\ttotal: 1.34s\tremaining: 1.17s\n",
            "533:\tlearn: 0.1891945\ttest: 0.4591957\tbest: 0.4493358 (273)\ttotal: 1.34s\tremaining: 1.17s\n",
            "534:\tlearn: 0.1886718\ttest: 0.4597704\tbest: 0.4493358 (273)\ttotal: 1.34s\tremaining: 1.17s\n",
            "535:\tlearn: 0.1881866\ttest: 0.4600683\tbest: 0.4493358 (273)\ttotal: 1.35s\tremaining: 1.17s\n",
            "536:\tlearn: 0.1877886\ttest: 0.4604443\tbest: 0.4493358 (273)\ttotal: 1.35s\tremaining: 1.17s\n",
            "537:\tlearn: 0.1877759\ttest: 0.4604538\tbest: 0.4493358 (273)\ttotal: 1.35s\tremaining: 1.16s\n",
            "538:\tlearn: 0.1870526\ttest: 0.4599784\tbest: 0.4493358 (273)\ttotal: 1.36s\tremaining: 1.16s\n",
            "539:\tlearn: 0.1864998\ttest: 0.4599409\tbest: 0.4493358 (273)\ttotal: 1.36s\tremaining: 1.16s\n",
            "540:\tlearn: 0.1863713\ttest: 0.4599975\tbest: 0.4493358 (273)\ttotal: 1.36s\tremaining: 1.16s\n",
            "541:\tlearn: 0.1862837\ttest: 0.4600044\tbest: 0.4493358 (273)\ttotal: 1.36s\tremaining: 1.15s\n",
            "542:\tlearn: 0.1860624\ttest: 0.4601802\tbest: 0.4493358 (273)\ttotal: 1.37s\tremaining: 1.15s\n",
            "543:\tlearn: 0.1856419\ttest: 0.4600969\tbest: 0.4493358 (273)\ttotal: 1.37s\tremaining: 1.15s\n",
            "544:\tlearn: 0.1853661\ttest: 0.4600798\tbest: 0.4493358 (273)\ttotal: 1.37s\tremaining: 1.15s\n",
            "545:\tlearn: 0.1850192\ttest: 0.4602784\tbest: 0.4493358 (273)\ttotal: 1.37s\tremaining: 1.14s\n",
            "546:\tlearn: 0.1849483\ttest: 0.4602791\tbest: 0.4493358 (273)\ttotal: 1.38s\tremaining: 1.14s\n",
            "547:\tlearn: 0.1846421\ttest: 0.4600209\tbest: 0.4493358 (273)\ttotal: 1.38s\tremaining: 1.14s\n",
            "548:\tlearn: 0.1845711\ttest: 0.4600479\tbest: 0.4493358 (273)\ttotal: 1.38s\tremaining: 1.14s\n",
            "549:\tlearn: 0.1842435\ttest: 0.4605521\tbest: 0.4493358 (273)\ttotal: 1.38s\tremaining: 1.13s\n",
            "550:\tlearn: 0.1840220\ttest: 0.4610047\tbest: 0.4493358 (273)\ttotal: 1.39s\tremaining: 1.13s\n",
            "551:\tlearn: 0.1834763\ttest: 0.4614619\tbest: 0.4493358 (273)\ttotal: 1.39s\tremaining: 1.13s\n",
            "552:\tlearn: 0.1826817\ttest: 0.4615718\tbest: 0.4493358 (273)\ttotal: 1.39s\tremaining: 1.13s\n",
            "553:\tlearn: 0.1824793\ttest: 0.4613423\tbest: 0.4493358 (273)\ttotal: 1.39s\tremaining: 1.12s\n",
            "554:\tlearn: 0.1818937\ttest: 0.4613173\tbest: 0.4493358 (273)\ttotal: 1.4s\tremaining: 1.12s\n",
            "555:\tlearn: 0.1811846\ttest: 0.4616042\tbest: 0.4493358 (273)\ttotal: 1.4s\tremaining: 1.12s\n",
            "556:\tlearn: 0.1805172\ttest: 0.4615859\tbest: 0.4493358 (273)\ttotal: 1.4s\tremaining: 1.11s\n",
            "557:\tlearn: 0.1802081\ttest: 0.4615250\tbest: 0.4493358 (273)\ttotal: 1.4s\tremaining: 1.11s\n",
            "558:\tlearn: 0.1798308\ttest: 0.4614222\tbest: 0.4493358 (273)\ttotal: 1.41s\tremaining: 1.11s\n",
            "559:\tlearn: 0.1793364\ttest: 0.4613214\tbest: 0.4493358 (273)\ttotal: 1.41s\tremaining: 1.11s\n",
            "560:\tlearn: 0.1788767\ttest: 0.4618990\tbest: 0.4493358 (273)\ttotal: 1.41s\tremaining: 1.1s\n",
            "561:\tlearn: 0.1780449\ttest: 0.4617981\tbest: 0.4493358 (273)\ttotal: 1.41s\tremaining: 1.1s\n",
            "562:\tlearn: 0.1778113\ttest: 0.4622225\tbest: 0.4493358 (273)\ttotal: 1.42s\tremaining: 1.1s\n",
            "563:\tlearn: 0.1774028\ttest: 0.4622835\tbest: 0.4493358 (273)\ttotal: 1.42s\tremaining: 1.1s\n",
            "564:\tlearn: 0.1772596\ttest: 0.4632156\tbest: 0.4493358 (273)\ttotal: 1.42s\tremaining: 1.09s\n",
            "565:\tlearn: 0.1768483\ttest: 0.4633376\tbest: 0.4493358 (273)\ttotal: 1.42s\tremaining: 1.09s\n",
            "566:\tlearn: 0.1767496\ttest: 0.4635982\tbest: 0.4493358 (273)\ttotal: 1.43s\tremaining: 1.09s\n",
            "567:\tlearn: 0.1764577\ttest: 0.4636307\tbest: 0.4493358 (273)\ttotal: 1.43s\tremaining: 1.08s\n",
            "568:\tlearn: 0.1760647\ttest: 0.4631749\tbest: 0.4493358 (273)\ttotal: 1.43s\tremaining: 1.08s\n",
            "569:\tlearn: 0.1758799\ttest: 0.4634031\tbest: 0.4493358 (273)\ttotal: 1.43s\tremaining: 1.08s\n",
            "570:\tlearn: 0.1756716\ttest: 0.4633217\tbest: 0.4493358 (273)\ttotal: 1.43s\tremaining: 1.08s\n",
            "571:\tlearn: 0.1755531\ttest: 0.4634276\tbest: 0.4493358 (273)\ttotal: 1.44s\tremaining: 1.07s\n",
            "572:\tlearn: 0.1752878\ttest: 0.4638207\tbest: 0.4493358 (273)\ttotal: 1.44s\tremaining: 1.07s\n",
            "573:\tlearn: 0.1748245\ttest: 0.4640118\tbest: 0.4493358 (273)\ttotal: 1.44s\tremaining: 1.07s\n",
            "574:\tlearn: 0.1747620\ttest: 0.4640917\tbest: 0.4493358 (273)\ttotal: 1.44s\tremaining: 1.07s\n",
            "575:\tlearn: 0.1746188\ttest: 0.4646639\tbest: 0.4493358 (273)\ttotal: 1.45s\tremaining: 1.06s\n",
            "576:\tlearn: 0.1742321\ttest: 0.4646653\tbest: 0.4493358 (273)\ttotal: 1.45s\tremaining: 1.06s\n",
            "577:\tlearn: 0.1742249\ttest: 0.4646717\tbest: 0.4493358 (273)\ttotal: 1.45s\tremaining: 1.06s\n",
            "578:\tlearn: 0.1739103\ttest: 0.4650521\tbest: 0.4493358 (273)\ttotal: 1.45s\tremaining: 1.06s\n",
            "579:\tlearn: 0.1734798\ttest: 0.4652756\tbest: 0.4493358 (273)\ttotal: 1.46s\tremaining: 1.05s\n",
            "580:\tlearn: 0.1733942\ttest: 0.4654417\tbest: 0.4493358 (273)\ttotal: 1.46s\tremaining: 1.05s\n",
            "581:\tlearn: 0.1731730\ttest: 0.4652993\tbest: 0.4493358 (273)\ttotal: 1.46s\tremaining: 1.05s\n",
            "582:\tlearn: 0.1729021\ttest: 0.4655052\tbest: 0.4493358 (273)\ttotal: 1.46s\tremaining: 1.05s\n",
            "583:\tlearn: 0.1724724\ttest: 0.4652248\tbest: 0.4493358 (273)\ttotal: 1.47s\tremaining: 1.04s\n",
            "584:\tlearn: 0.1722818\ttest: 0.4651535\tbest: 0.4493358 (273)\ttotal: 1.47s\tremaining: 1.04s\n",
            "585:\tlearn: 0.1719636\ttest: 0.4651474\tbest: 0.4493358 (273)\ttotal: 1.47s\tremaining: 1.04s\n",
            "586:\tlearn: 0.1719439\ttest: 0.4651559\tbest: 0.4493358 (273)\ttotal: 1.47s\tremaining: 1.04s\n",
            "587:\tlearn: 0.1716341\ttest: 0.4648630\tbest: 0.4493358 (273)\ttotal: 1.48s\tremaining: 1.03s\n",
            "588:\tlearn: 0.1713656\ttest: 0.4651812\tbest: 0.4493358 (273)\ttotal: 1.48s\tremaining: 1.03s\n",
            "589:\tlearn: 0.1710542\ttest: 0.4652673\tbest: 0.4493358 (273)\ttotal: 1.48s\tremaining: 1.03s\n",
            "590:\tlearn: 0.1706199\ttest: 0.4659077\tbest: 0.4493358 (273)\ttotal: 1.49s\tremaining: 1.03s\n",
            "591:\tlearn: 0.1703651\ttest: 0.4662283\tbest: 0.4493358 (273)\ttotal: 1.49s\tremaining: 1.02s\n",
            "592:\tlearn: 0.1698738\ttest: 0.4657889\tbest: 0.4493358 (273)\ttotal: 1.49s\tremaining: 1.02s\n",
            "593:\tlearn: 0.1694149\ttest: 0.4657860\tbest: 0.4493358 (273)\ttotal: 1.49s\tremaining: 1.02s\n",
            "594:\tlearn: 0.1690753\ttest: 0.4662878\tbest: 0.4493358 (273)\ttotal: 1.5s\tremaining: 1.02s\n",
            "595:\tlearn: 0.1684581\ttest: 0.4665471\tbest: 0.4493358 (273)\ttotal: 1.5s\tremaining: 1.01s\n",
            "596:\tlearn: 0.1684444\ttest: 0.4665641\tbest: 0.4493358 (273)\ttotal: 1.5s\tremaining: 1.01s\n",
            "597:\tlearn: 0.1681699\ttest: 0.4669741\tbest: 0.4493358 (273)\ttotal: 1.5s\tremaining: 1.01s\n",
            "598:\tlearn: 0.1680634\ttest: 0.4669307\tbest: 0.4493358 (273)\ttotal: 1.51s\tremaining: 1.01s\n",
            "599:\tlearn: 0.1680502\ttest: 0.4669474\tbest: 0.4493358 (273)\ttotal: 1.51s\tremaining: 1s\n",
            "600:\tlearn: 0.1672318\ttest: 0.4674726\tbest: 0.4493358 (273)\ttotal: 1.51s\tremaining: 1s\n",
            "601:\tlearn: 0.1671500\ttest: 0.4674082\tbest: 0.4493358 (273)\ttotal: 1.51s\tremaining: 1s\n",
            "602:\tlearn: 0.1670093\ttest: 0.4675090\tbest: 0.4493358 (273)\ttotal: 1.51s\tremaining: 998ms\n",
            "603:\tlearn: 0.1668324\ttest: 0.4678553\tbest: 0.4493358 (273)\ttotal: 1.52s\tremaining: 995ms\n",
            "604:\tlearn: 0.1666864\ttest: 0.4681712\tbest: 0.4493358 (273)\ttotal: 1.52s\tremaining: 992ms\n",
            "605:\tlearn: 0.1664724\ttest: 0.4682772\tbest: 0.4493358 (273)\ttotal: 1.52s\tremaining: 990ms\n",
            "606:\tlearn: 0.1662757\ttest: 0.4686537\tbest: 0.4493358 (273)\ttotal: 1.52s\tremaining: 987ms\n",
            "607:\tlearn: 0.1660217\ttest: 0.4684953\tbest: 0.4493358 (273)\ttotal: 1.53s\tremaining: 985ms\n",
            "608:\tlearn: 0.1657602\ttest: 0.4688064\tbest: 0.4493358 (273)\ttotal: 1.53s\tremaining: 982ms\n",
            "609:\tlearn: 0.1653889\ttest: 0.4691665\tbest: 0.4493358 (273)\ttotal: 1.54s\tremaining: 988ms\n",
            "610:\tlearn: 0.1648650\ttest: 0.4693033\tbest: 0.4493358 (273)\ttotal: 1.55s\tremaining: 986ms\n",
            "611:\tlearn: 0.1647246\ttest: 0.4694495\tbest: 0.4493358 (273)\ttotal: 1.55s\tremaining: 983ms\n",
            "612:\tlearn: 0.1643493\ttest: 0.4698523\tbest: 0.4493358 (273)\ttotal: 1.55s\tremaining: 981ms\n",
            "613:\tlearn: 0.1640007\ttest: 0.4697043\tbest: 0.4493358 (273)\ttotal: 1.56s\tremaining: 978ms\n",
            "614:\tlearn: 0.1636851\ttest: 0.4700987\tbest: 0.4493358 (273)\ttotal: 1.56s\tremaining: 977ms\n",
            "615:\tlearn: 0.1632229\ttest: 0.4699682\tbest: 0.4493358 (273)\ttotal: 1.56s\tremaining: 974ms\n",
            "616:\tlearn: 0.1631236\ttest: 0.4698478\tbest: 0.4493358 (273)\ttotal: 1.56s\tremaining: 972ms\n",
            "617:\tlearn: 0.1628633\ttest: 0.4697452\tbest: 0.4493358 (273)\ttotal: 1.57s\tremaining: 969ms\n",
            "618:\tlearn: 0.1620908\ttest: 0.4696731\tbest: 0.4493358 (273)\ttotal: 1.57s\tremaining: 967ms\n",
            "619:\tlearn: 0.1617170\ttest: 0.4701955\tbest: 0.4493358 (273)\ttotal: 1.57s\tremaining: 964ms\n",
            "620:\tlearn: 0.1611209\ttest: 0.4702505\tbest: 0.4493358 (273)\ttotal: 1.57s\tremaining: 962ms\n",
            "621:\tlearn: 0.1608767\ttest: 0.4703904\tbest: 0.4493358 (273)\ttotal: 1.58s\tremaining: 959ms\n",
            "622:\tlearn: 0.1606757\ttest: 0.4704505\tbest: 0.4493358 (273)\ttotal: 1.58s\tremaining: 956ms\n",
            "623:\tlearn: 0.1603282\ttest: 0.4703351\tbest: 0.4493358 (273)\ttotal: 1.58s\tremaining: 954ms\n",
            "624:\tlearn: 0.1600384\ttest: 0.4701288\tbest: 0.4493358 (273)\ttotal: 1.59s\tremaining: 952ms\n",
            "625:\tlearn: 0.1600044\ttest: 0.4701581\tbest: 0.4493358 (273)\ttotal: 1.59s\tremaining: 949ms\n",
            "626:\tlearn: 0.1598558\ttest: 0.4701392\tbest: 0.4493358 (273)\ttotal: 1.59s\tremaining: 947ms\n",
            "627:\tlearn: 0.1596285\ttest: 0.4705000\tbest: 0.4493358 (273)\ttotal: 1.59s\tremaining: 944ms\n",
            "628:\tlearn: 0.1592317\ttest: 0.4704633\tbest: 0.4493358 (273)\ttotal: 1.6s\tremaining: 941ms\n",
            "629:\tlearn: 0.1591452\ttest: 0.4707454\tbest: 0.4493358 (273)\ttotal: 1.6s\tremaining: 939ms\n",
            "630:\tlearn: 0.1589266\ttest: 0.4705712\tbest: 0.4493358 (273)\ttotal: 1.6s\tremaining: 936ms\n",
            "631:\tlearn: 0.1586195\ttest: 0.4704583\tbest: 0.4493358 (273)\ttotal: 1.6s\tremaining: 934ms\n",
            "632:\tlearn: 0.1584346\ttest: 0.4707573\tbest: 0.4493358 (273)\ttotal: 1.6s\tremaining: 931ms\n",
            "633:\tlearn: 0.1577781\ttest: 0.4703016\tbest: 0.4493358 (273)\ttotal: 1.61s\tremaining: 928ms\n",
            "634:\tlearn: 0.1575731\ttest: 0.4702142\tbest: 0.4493358 (273)\ttotal: 1.61s\tremaining: 926ms\n",
            "635:\tlearn: 0.1571566\ttest: 0.4704042\tbest: 0.4493358 (273)\ttotal: 1.61s\tremaining: 923ms\n",
            "636:\tlearn: 0.1570137\ttest: 0.4702228\tbest: 0.4493358 (273)\ttotal: 1.61s\tremaining: 920ms\n",
            "637:\tlearn: 0.1566151\ttest: 0.4702999\tbest: 0.4493358 (273)\ttotal: 1.62s\tremaining: 918ms\n",
            "638:\tlearn: 0.1562164\ttest: 0.4706415\tbest: 0.4493358 (273)\ttotal: 1.62s\tremaining: 915ms\n",
            "639:\tlearn: 0.1559029\ttest: 0.4708956\tbest: 0.4493358 (273)\ttotal: 1.62s\tremaining: 912ms\n",
            "640:\tlearn: 0.1556728\ttest: 0.4711025\tbest: 0.4493358 (273)\ttotal: 1.62s\tremaining: 910ms\n",
            "641:\tlearn: 0.1552223\ttest: 0.4710800\tbest: 0.4493358 (273)\ttotal: 1.63s\tremaining: 907ms\n",
            "642:\tlearn: 0.1551382\ttest: 0.4711110\tbest: 0.4493358 (273)\ttotal: 1.63s\tremaining: 905ms\n",
            "643:\tlearn: 0.1549833\ttest: 0.4711059\tbest: 0.4493358 (273)\ttotal: 1.63s\tremaining: 902ms\n",
            "644:\tlearn: 0.1546935\ttest: 0.4710824\tbest: 0.4493358 (273)\ttotal: 1.63s\tremaining: 899ms\n",
            "645:\tlearn: 0.1545692\ttest: 0.4711190\tbest: 0.4493358 (273)\ttotal: 1.64s\tremaining: 897ms\n",
            "646:\tlearn: 0.1542813\ttest: 0.4715363\tbest: 0.4493358 (273)\ttotal: 1.64s\tremaining: 894ms\n",
            "647:\tlearn: 0.1541626\ttest: 0.4716067\tbest: 0.4493358 (273)\ttotal: 1.64s\tremaining: 892ms\n",
            "648:\tlearn: 0.1541137\ttest: 0.4715590\tbest: 0.4493358 (273)\ttotal: 1.64s\tremaining: 889ms\n",
            "649:\tlearn: 0.1538418\ttest: 0.4717940\tbest: 0.4493358 (273)\ttotal: 1.65s\tremaining: 887ms\n",
            "650:\tlearn: 0.1533374\ttest: 0.4721893\tbest: 0.4493358 (273)\ttotal: 1.65s\tremaining: 884ms\n",
            "651:\tlearn: 0.1531498\ttest: 0.4725833\tbest: 0.4493358 (273)\ttotal: 1.65s\tremaining: 882ms\n",
            "652:\tlearn: 0.1527357\ttest: 0.4726071\tbest: 0.4493358 (273)\ttotal: 1.65s\tremaining: 879ms\n",
            "653:\tlearn: 0.1526251\ttest: 0.4729171\tbest: 0.4493358 (273)\ttotal: 1.66s\tremaining: 876ms\n",
            "654:\tlearn: 0.1522113\ttest: 0.4734048\tbest: 0.4493358 (273)\ttotal: 1.66s\tremaining: 874ms\n",
            "655:\tlearn: 0.1519957\ttest: 0.4737117\tbest: 0.4493358 (273)\ttotal: 1.66s\tremaining: 871ms\n",
            "656:\tlearn: 0.1518320\ttest: 0.4737553\tbest: 0.4493358 (273)\ttotal: 1.66s\tremaining: 868ms\n",
            "657:\tlearn: 0.1518203\ttest: 0.4737697\tbest: 0.4493358 (273)\ttotal: 1.67s\tremaining: 866ms\n",
            "658:\tlearn: 0.1518009\ttest: 0.4737715\tbest: 0.4493358 (273)\ttotal: 1.67s\tremaining: 863ms\n",
            "659:\tlearn: 0.1517268\ttest: 0.4739047\tbest: 0.4493358 (273)\ttotal: 1.67s\tremaining: 860ms\n",
            "660:\tlearn: 0.1514910\ttest: 0.4740271\tbest: 0.4493358 (273)\ttotal: 1.67s\tremaining: 858ms\n",
            "661:\tlearn: 0.1514437\ttest: 0.4739995\tbest: 0.4493358 (273)\ttotal: 1.67s\tremaining: 855ms\n",
            "662:\tlearn: 0.1509624\ttest: 0.4740193\tbest: 0.4493358 (273)\ttotal: 1.68s\tremaining: 853ms\n",
            "663:\tlearn: 0.1507769\ttest: 0.4741759\tbest: 0.4493358 (273)\ttotal: 1.68s\tremaining: 850ms\n",
            "664:\tlearn: 0.1506497\ttest: 0.4744444\tbest: 0.4493358 (273)\ttotal: 1.68s\tremaining: 847ms\n",
            "665:\tlearn: 0.1506287\ttest: 0.4744492\tbest: 0.4493358 (273)\ttotal: 1.68s\tremaining: 845ms\n",
            "666:\tlearn: 0.1505341\ttest: 0.4744539\tbest: 0.4493358 (273)\ttotal: 1.69s\tremaining: 842ms\n",
            "667:\tlearn: 0.1501020\ttest: 0.4749127\tbest: 0.4493358 (273)\ttotal: 1.69s\tremaining: 840ms\n",
            "668:\tlearn: 0.1499699\ttest: 0.4751132\tbest: 0.4493358 (273)\ttotal: 1.69s\tremaining: 837ms\n",
            "669:\tlearn: 0.1497965\ttest: 0.4753640\tbest: 0.4493358 (273)\ttotal: 1.69s\tremaining: 834ms\n",
            "670:\tlearn: 0.1497135\ttest: 0.4753469\tbest: 0.4493358 (273)\ttotal: 1.7s\tremaining: 832ms\n",
            "671:\tlearn: 0.1495624\ttest: 0.4753324\tbest: 0.4493358 (273)\ttotal: 1.7s\tremaining: 829ms\n",
            "672:\tlearn: 0.1495125\ttest: 0.4754365\tbest: 0.4493358 (273)\ttotal: 1.7s\tremaining: 827ms\n",
            "673:\tlearn: 0.1492127\ttest: 0.4758358\tbest: 0.4493358 (273)\ttotal: 1.7s\tremaining: 824ms\n",
            "674:\tlearn: 0.1491157\ttest: 0.4761211\tbest: 0.4493358 (273)\ttotal: 1.71s\tremaining: 822ms\n",
            "675:\tlearn: 0.1485846\ttest: 0.4761546\tbest: 0.4493358 (273)\ttotal: 1.71s\tremaining: 819ms\n",
            "676:\tlearn: 0.1484299\ttest: 0.4763149\tbest: 0.4493358 (273)\ttotal: 1.71s\tremaining: 817ms\n",
            "677:\tlearn: 0.1482203\ttest: 0.4758415\tbest: 0.4493358 (273)\ttotal: 1.71s\tremaining: 814ms\n",
            "678:\tlearn: 0.1477387\ttest: 0.4760742\tbest: 0.4493358 (273)\ttotal: 1.72s\tremaining: 811ms\n",
            "679:\tlearn: 0.1476787\ttest: 0.4759932\tbest: 0.4493358 (273)\ttotal: 1.72s\tremaining: 809ms\n",
            "680:\tlearn: 0.1475398\ttest: 0.4760965\tbest: 0.4493358 (273)\ttotal: 1.72s\tremaining: 806ms\n",
            "681:\tlearn: 0.1475286\ttest: 0.4761112\tbest: 0.4493358 (273)\ttotal: 1.72s\tremaining: 804ms\n",
            "682:\tlearn: 0.1469116\ttest: 0.4765910\tbest: 0.4493358 (273)\ttotal: 1.73s\tremaining: 801ms\n",
            "683:\tlearn: 0.1469030\ttest: 0.4765978\tbest: 0.4493358 (273)\ttotal: 1.73s\tremaining: 799ms\n",
            "684:\tlearn: 0.1466264\ttest: 0.4768708\tbest: 0.4493358 (273)\ttotal: 1.73s\tremaining: 796ms\n",
            "685:\tlearn: 0.1465033\ttest: 0.4770077\tbest: 0.4493358 (273)\ttotal: 1.73s\tremaining: 794ms\n",
            "686:\tlearn: 0.1463961\ttest: 0.4772587\tbest: 0.4493358 (273)\ttotal: 1.74s\tremaining: 792ms\n",
            "687:\tlearn: 0.1462876\ttest: 0.4773344\tbest: 0.4493358 (273)\ttotal: 1.74s\tremaining: 791ms\n",
            "688:\tlearn: 0.1462064\ttest: 0.4771862\tbest: 0.4493358 (273)\ttotal: 1.75s\tremaining: 788ms\n",
            "689:\tlearn: 0.1461974\ttest: 0.4771829\tbest: 0.4493358 (273)\ttotal: 1.75s\tremaining: 786ms\n",
            "690:\tlearn: 0.1456695\ttest: 0.4773684\tbest: 0.4493358 (273)\ttotal: 1.75s\tremaining: 783ms\n",
            "691:\tlearn: 0.1456069\ttest: 0.4773951\tbest: 0.4493358 (273)\ttotal: 1.75s\tremaining: 781ms\n",
            "692:\tlearn: 0.1453947\ttest: 0.4777851\tbest: 0.4493358 (273)\ttotal: 1.76s\tremaining: 778ms\n",
            "693:\tlearn: 0.1451692\ttest: 0.4780033\tbest: 0.4493358 (273)\ttotal: 1.76s\tremaining: 776ms\n",
            "694:\tlearn: 0.1450017\ttest: 0.4781255\tbest: 0.4493358 (273)\ttotal: 1.76s\tremaining: 773ms\n",
            "695:\tlearn: 0.1449817\ttest: 0.4781346\tbest: 0.4493358 (273)\ttotal: 1.76s\tremaining: 771ms\n",
            "696:\tlearn: 0.1449212\ttest: 0.4780118\tbest: 0.4493358 (273)\ttotal: 1.77s\tremaining: 768ms\n",
            "697:\tlearn: 0.1446508\ttest: 0.4780618\tbest: 0.4493358 (273)\ttotal: 1.77s\tremaining: 766ms\n",
            "698:\tlearn: 0.1443940\ttest: 0.4782516\tbest: 0.4493358 (273)\ttotal: 1.77s\tremaining: 763ms\n",
            "699:\tlearn: 0.1440008\ttest: 0.4783674\tbest: 0.4493358 (273)\ttotal: 1.77s\tremaining: 761ms\n",
            "700:\tlearn: 0.1439612\ttest: 0.4783747\tbest: 0.4493358 (273)\ttotal: 1.78s\tremaining: 759ms\n",
            "701:\tlearn: 0.1438220\ttest: 0.4784809\tbest: 0.4493358 (273)\ttotal: 1.78s\tremaining: 756ms\n",
            "702:\tlearn: 0.1436759\ttest: 0.4783901\tbest: 0.4493358 (273)\ttotal: 1.78s\tremaining: 753ms\n",
            "703:\tlearn: 0.1435702\ttest: 0.4787991\tbest: 0.4493358 (273)\ttotal: 1.78s\tremaining: 751ms\n",
            "704:\tlearn: 0.1435345\ttest: 0.4787421\tbest: 0.4493358 (273)\ttotal: 1.79s\tremaining: 748ms\n",
            "705:\tlearn: 0.1434811\ttest: 0.4787852\tbest: 0.4493358 (273)\ttotal: 1.79s\tremaining: 746ms\n",
            "706:\tlearn: 0.1432875\ttest: 0.4786897\tbest: 0.4493358 (273)\ttotal: 1.79s\tremaining: 743ms\n",
            "707:\tlearn: 0.1432135\ttest: 0.4787630\tbest: 0.4493358 (273)\ttotal: 1.8s\tremaining: 741ms\n",
            "708:\tlearn: 0.1430933\ttest: 0.4788156\tbest: 0.4493358 (273)\ttotal: 1.8s\tremaining: 738ms\n",
            "709:\tlearn: 0.1428388\ttest: 0.4787883\tbest: 0.4493358 (273)\ttotal: 1.8s\tremaining: 736ms\n",
            "710:\tlearn: 0.1426368\ttest: 0.4787913\tbest: 0.4493358 (273)\ttotal: 1.8s\tremaining: 733ms\n",
            "711:\tlearn: 0.1423929\ttest: 0.4792004\tbest: 0.4493358 (273)\ttotal: 1.81s\tremaining: 731ms\n",
            "712:\tlearn: 0.1421662\ttest: 0.4794653\tbest: 0.4493358 (273)\ttotal: 1.81s\tremaining: 730ms\n",
            "713:\tlearn: 0.1418909\ttest: 0.4796012\tbest: 0.4493358 (273)\ttotal: 1.82s\tremaining: 728ms\n",
            "714:\tlearn: 0.1417673\ttest: 0.4797293\tbest: 0.4493358 (273)\ttotal: 1.82s\tremaining: 725ms\n",
            "715:\tlearn: 0.1414494\ttest: 0.4794686\tbest: 0.4493358 (273)\ttotal: 1.82s\tremaining: 723ms\n",
            "716:\tlearn: 0.1412303\ttest: 0.4792142\tbest: 0.4493358 (273)\ttotal: 1.83s\tremaining: 721ms\n",
            "717:\tlearn: 0.1412122\ttest: 0.4791815\tbest: 0.4493358 (273)\ttotal: 1.83s\tremaining: 719ms\n",
            "718:\tlearn: 0.1411942\ttest: 0.4791866\tbest: 0.4493358 (273)\ttotal: 1.83s\tremaining: 717ms\n",
            "719:\tlearn: 0.1410550\ttest: 0.4795933\tbest: 0.4493358 (273)\ttotal: 1.84s\tremaining: 714ms\n",
            "720:\tlearn: 0.1409542\ttest: 0.4793671\tbest: 0.4493358 (273)\ttotal: 1.84s\tremaining: 712ms\n",
            "721:\tlearn: 0.1406144\ttest: 0.4800028\tbest: 0.4493358 (273)\ttotal: 1.84s\tremaining: 709ms\n",
            "722:\tlearn: 0.1403966\ttest: 0.4799106\tbest: 0.4493358 (273)\ttotal: 1.84s\tremaining: 707ms\n",
            "723:\tlearn: 0.1401884\ttest: 0.4801699\tbest: 0.4493358 (273)\ttotal: 1.85s\tremaining: 704ms\n",
            "724:\tlearn: 0.1401840\ttest: 0.4801750\tbest: 0.4493358 (273)\ttotal: 1.85s\tremaining: 702ms\n",
            "725:\tlearn: 0.1397617\ttest: 0.4800994\tbest: 0.4493358 (273)\ttotal: 1.85s\tremaining: 699ms\n",
            "726:\tlearn: 0.1396807\ttest: 0.4801076\tbest: 0.4493358 (273)\ttotal: 1.85s\tremaining: 697ms\n",
            "727:\tlearn: 0.1393424\ttest: 0.4802055\tbest: 0.4493358 (273)\ttotal: 1.86s\tremaining: 694ms\n",
            "728:\tlearn: 0.1391173\ttest: 0.4803845\tbest: 0.4493358 (273)\ttotal: 1.86s\tremaining: 691ms\n",
            "729:\tlearn: 0.1389278\ttest: 0.4803923\tbest: 0.4493358 (273)\ttotal: 1.86s\tremaining: 689ms\n",
            "730:\tlearn: 0.1388163\ttest: 0.4805823\tbest: 0.4493358 (273)\ttotal: 1.86s\tremaining: 686ms\n",
            "731:\tlearn: 0.1385364\ttest: 0.4806996\tbest: 0.4493358 (273)\ttotal: 1.87s\tremaining: 684ms\n",
            "732:\tlearn: 0.1382957\ttest: 0.4812457\tbest: 0.4493358 (273)\ttotal: 1.87s\tremaining: 681ms\n",
            "733:\tlearn: 0.1381894\ttest: 0.4813900\tbest: 0.4493358 (273)\ttotal: 1.87s\tremaining: 678ms\n",
            "734:\tlearn: 0.1380759\ttest: 0.4813305\tbest: 0.4493358 (273)\ttotal: 1.87s\tremaining: 676ms\n",
            "735:\tlearn: 0.1380030\ttest: 0.4813214\tbest: 0.4493358 (273)\ttotal: 1.88s\tremaining: 673ms\n",
            "736:\tlearn: 0.1378037\ttest: 0.4813595\tbest: 0.4493358 (273)\ttotal: 1.88s\tremaining: 671ms\n",
            "737:\tlearn: 0.1376282\ttest: 0.4815560\tbest: 0.4493358 (273)\ttotal: 1.88s\tremaining: 668ms\n",
            "738:\tlearn: 0.1375241\ttest: 0.4815594\tbest: 0.4493358 (273)\ttotal: 1.88s\tremaining: 665ms\n",
            "739:\tlearn: 0.1373612\ttest: 0.4816332\tbest: 0.4493358 (273)\ttotal: 1.89s\tremaining: 663ms\n",
            "740:\tlearn: 0.1372074\ttest: 0.4818723\tbest: 0.4493358 (273)\ttotal: 1.89s\tremaining: 660ms\n",
            "741:\tlearn: 0.1369481\ttest: 0.4817615\tbest: 0.4493358 (273)\ttotal: 1.89s\tremaining: 658ms\n",
            "742:\tlearn: 0.1366899\ttest: 0.4815973\tbest: 0.4493358 (273)\ttotal: 1.89s\tremaining: 655ms\n",
            "743:\tlearn: 0.1366681\ttest: 0.4815610\tbest: 0.4493358 (273)\ttotal: 1.9s\tremaining: 653ms\n",
            "744:\tlearn: 0.1363775\ttest: 0.4818480\tbest: 0.4493358 (273)\ttotal: 1.9s\tremaining: 650ms\n",
            "745:\tlearn: 0.1361047\ttest: 0.4819396\tbest: 0.4493358 (273)\ttotal: 1.9s\tremaining: 647ms\n",
            "746:\tlearn: 0.1360648\ttest: 0.4821052\tbest: 0.4493358 (273)\ttotal: 1.9s\tremaining: 645ms\n",
            "747:\tlearn: 0.1357712\ttest: 0.4821077\tbest: 0.4493358 (273)\ttotal: 1.91s\tremaining: 642ms\n",
            "748:\tlearn: 0.1357639\ttest: 0.4821087\tbest: 0.4493358 (273)\ttotal: 1.91s\tremaining: 640ms\n",
            "749:\tlearn: 0.1357358\ttest: 0.4819692\tbest: 0.4493358 (273)\ttotal: 1.91s\tremaining: 637ms\n",
            "750:\tlearn: 0.1354750\ttest: 0.4820814\tbest: 0.4493358 (273)\ttotal: 1.91s\tremaining: 634ms\n",
            "751:\tlearn: 0.1352858\ttest: 0.4824085\tbest: 0.4493358 (273)\ttotal: 1.92s\tremaining: 632ms\n",
            "752:\tlearn: 0.1350082\ttest: 0.4827543\tbest: 0.4493358 (273)\ttotal: 1.92s\tremaining: 629ms\n",
            "753:\tlearn: 0.1348318\ttest: 0.4829665\tbest: 0.4493358 (273)\ttotal: 1.92s\tremaining: 627ms\n",
            "754:\tlearn: 0.1345899\ttest: 0.4826817\tbest: 0.4493358 (273)\ttotal: 1.92s\tremaining: 624ms\n",
            "755:\tlearn: 0.1344605\ttest: 0.4826718\tbest: 0.4493358 (273)\ttotal: 1.93s\tremaining: 622ms\n",
            "756:\tlearn: 0.1343244\ttest: 0.4831341\tbest: 0.4493358 (273)\ttotal: 1.93s\tremaining: 619ms\n",
            "757:\tlearn: 0.1339419\ttest: 0.4833765\tbest: 0.4493358 (273)\ttotal: 1.93s\tremaining: 617ms\n",
            "758:\tlearn: 0.1337335\ttest: 0.4834191\tbest: 0.4493358 (273)\ttotal: 1.94s\tremaining: 615ms\n",
            "759:\tlearn: 0.1334345\ttest: 0.4836059\tbest: 0.4493358 (273)\ttotal: 1.94s\tremaining: 613ms\n",
            "760:\tlearn: 0.1333856\ttest: 0.4836118\tbest: 0.4493358 (273)\ttotal: 1.94s\tremaining: 610ms\n",
            "761:\tlearn: 0.1333456\ttest: 0.4836209\tbest: 0.4493358 (273)\ttotal: 1.95s\tremaining: 608ms\n",
            "762:\tlearn: 0.1332531\ttest: 0.4838738\tbest: 0.4493358 (273)\ttotal: 1.95s\tremaining: 605ms\n",
            "763:\tlearn: 0.1327196\ttest: 0.4832136\tbest: 0.4493358 (273)\ttotal: 1.95s\tremaining: 602ms\n",
            "764:\tlearn: 0.1325607\ttest: 0.4829642\tbest: 0.4493358 (273)\ttotal: 1.95s\tremaining: 600ms\n",
            "765:\tlearn: 0.1321573\ttest: 0.4828909\tbest: 0.4493358 (273)\ttotal: 1.96s\tremaining: 597ms\n",
            "766:\tlearn: 0.1320468\ttest: 0.4828848\tbest: 0.4493358 (273)\ttotal: 1.96s\tremaining: 595ms\n",
            "767:\tlearn: 0.1318756\ttest: 0.4830338\tbest: 0.4493358 (273)\ttotal: 1.96s\tremaining: 592ms\n",
            "768:\tlearn: 0.1318413\ttest: 0.4830318\tbest: 0.4493358 (273)\ttotal: 1.96s\tremaining: 589ms\n",
            "769:\tlearn: 0.1315117\ttest: 0.4834490\tbest: 0.4493358 (273)\ttotal: 1.96s\tremaining: 587ms\n",
            "770:\tlearn: 0.1314023\ttest: 0.4835474\tbest: 0.4493358 (273)\ttotal: 1.97s\tremaining: 584ms\n",
            "771:\tlearn: 0.1311551\ttest: 0.4837921\tbest: 0.4493358 (273)\ttotal: 1.97s\tremaining: 582ms\n",
            "772:\tlearn: 0.1311410\ttest: 0.4837632\tbest: 0.4493358 (273)\ttotal: 1.97s\tremaining: 579ms\n",
            "773:\tlearn: 0.1310277\ttest: 0.4836688\tbest: 0.4493358 (273)\ttotal: 1.98s\tremaining: 577ms\n",
            "774:\tlearn: 0.1308544\ttest: 0.4837600\tbest: 0.4493358 (273)\ttotal: 1.98s\tremaining: 574ms\n",
            "775:\tlearn: 0.1307347\ttest: 0.4839613\tbest: 0.4493358 (273)\ttotal: 1.99s\tremaining: 573ms\n",
            "776:\tlearn: 0.1304838\ttest: 0.4842406\tbest: 0.4493358 (273)\ttotal: 1.99s\tremaining: 571ms\n",
            "777:\tlearn: 0.1302136\ttest: 0.4842565\tbest: 0.4493358 (273)\ttotal: 1.99s\tremaining: 568ms\n",
            "778:\tlearn: 0.1300877\ttest: 0.4845054\tbest: 0.4493358 (273)\ttotal: 1.99s\tremaining: 566ms\n",
            "779:\tlearn: 0.1298836\ttest: 0.4841634\tbest: 0.4493358 (273)\ttotal: 2s\tremaining: 563ms\n",
            "780:\tlearn: 0.1295879\ttest: 0.4840356\tbest: 0.4493358 (273)\ttotal: 2s\tremaining: 561ms\n",
            "781:\tlearn: 0.1294904\ttest: 0.4841694\tbest: 0.4493358 (273)\ttotal: 2s\tremaining: 559ms\n",
            "782:\tlearn: 0.1294051\ttest: 0.4842826\tbest: 0.4493358 (273)\ttotal: 2.01s\tremaining: 557ms\n",
            "783:\tlearn: 0.1292495\ttest: 0.4841139\tbest: 0.4493358 (273)\ttotal: 2.01s\tremaining: 554ms\n",
            "784:\tlearn: 0.1292349\ttest: 0.4841187\tbest: 0.4493358 (273)\ttotal: 2.01s\tremaining: 552ms\n",
            "785:\tlearn: 0.1289614\ttest: 0.4842996\tbest: 0.4493358 (273)\ttotal: 2.02s\tremaining: 549ms\n",
            "786:\tlearn: 0.1286170\ttest: 0.4843460\tbest: 0.4493358 (273)\ttotal: 2.02s\tremaining: 547ms\n",
            "787:\tlearn: 0.1283831\ttest: 0.4846649\tbest: 0.4493358 (273)\ttotal: 2.02s\tremaining: 544ms\n",
            "788:\tlearn: 0.1280437\ttest: 0.4843912\tbest: 0.4493358 (273)\ttotal: 2.03s\tremaining: 542ms\n",
            "789:\tlearn: 0.1279529\ttest: 0.4844268\tbest: 0.4493358 (273)\ttotal: 2.03s\tremaining: 539ms\n",
            "790:\tlearn: 0.1277287\ttest: 0.4845715\tbest: 0.4493358 (273)\ttotal: 2.03s\tremaining: 537ms\n",
            "791:\tlearn: 0.1275272\ttest: 0.4845614\tbest: 0.4493358 (273)\ttotal: 2.03s\tremaining: 534ms\n",
            "792:\tlearn: 0.1272747\ttest: 0.4846146\tbest: 0.4493358 (273)\ttotal: 2.04s\tremaining: 532ms\n",
            "793:\tlearn: 0.1269837\ttest: 0.4845336\tbest: 0.4493358 (273)\ttotal: 2.04s\tremaining: 529ms\n",
            "794:\tlearn: 0.1269761\ttest: 0.4845464\tbest: 0.4493358 (273)\ttotal: 2.04s\tremaining: 527ms\n",
            "795:\tlearn: 0.1267708\ttest: 0.4847472\tbest: 0.4493358 (273)\ttotal: 2.04s\tremaining: 524ms\n",
            "796:\tlearn: 0.1265158\ttest: 0.4847940\tbest: 0.4493358 (273)\ttotal: 2.05s\tremaining: 521ms\n",
            "797:\tlearn: 0.1265076\ttest: 0.4848218\tbest: 0.4493358 (273)\ttotal: 2.05s\tremaining: 519ms\n",
            "798:\tlearn: 0.1264996\ttest: 0.4848218\tbest: 0.4493358 (273)\ttotal: 2.05s\tremaining: 516ms\n",
            "799:\tlearn: 0.1263086\ttest: 0.4850462\tbest: 0.4493358 (273)\ttotal: 2.05s\tremaining: 514ms\n",
            "800:\tlearn: 0.1261931\ttest: 0.4851109\tbest: 0.4493358 (273)\ttotal: 2.06s\tremaining: 511ms\n",
            "801:\tlearn: 0.1257641\ttest: 0.4852133\tbest: 0.4493358 (273)\ttotal: 2.06s\tremaining: 508ms\n",
            "802:\tlearn: 0.1255291\ttest: 0.4850857\tbest: 0.4493358 (273)\ttotal: 2.06s\tremaining: 506ms\n",
            "803:\tlearn: 0.1253760\ttest: 0.4847873\tbest: 0.4493358 (273)\ttotal: 2.06s\tremaining: 503ms\n",
            "804:\tlearn: 0.1252439\ttest: 0.4846246\tbest: 0.4493358 (273)\ttotal: 2.07s\tremaining: 501ms\n",
            "805:\tlearn: 0.1251456\ttest: 0.4847279\tbest: 0.4493358 (273)\ttotal: 2.07s\tremaining: 498ms\n",
            "806:\tlearn: 0.1249263\ttest: 0.4847171\tbest: 0.4493358 (273)\ttotal: 2.07s\tremaining: 495ms\n",
            "807:\tlearn: 0.1248062\ttest: 0.4848301\tbest: 0.4493358 (273)\ttotal: 2.07s\tremaining: 493ms\n",
            "808:\tlearn: 0.1246329\ttest: 0.4848899\tbest: 0.4493358 (273)\ttotal: 2.08s\tremaining: 490ms\n",
            "809:\tlearn: 0.1241907\ttest: 0.4849148\tbest: 0.4493358 (273)\ttotal: 2.08s\tremaining: 488ms\n",
            "810:\tlearn: 0.1239711\ttest: 0.4849580\tbest: 0.4493358 (273)\ttotal: 2.08s\tremaining: 485ms\n",
            "811:\tlearn: 0.1239376\ttest: 0.4849013\tbest: 0.4493358 (273)\ttotal: 2.08s\tremaining: 483ms\n",
            "812:\tlearn: 0.1236986\ttest: 0.4849574\tbest: 0.4493358 (273)\ttotal: 2.09s\tremaining: 480ms\n",
            "813:\tlearn: 0.1236365\ttest: 0.4851218\tbest: 0.4493358 (273)\ttotal: 2.09s\tremaining: 478ms\n",
            "814:\tlearn: 0.1235634\ttest: 0.4851527\tbest: 0.4493358 (273)\ttotal: 2.09s\tremaining: 475ms\n",
            "815:\tlearn: 0.1233702\ttest: 0.4851638\tbest: 0.4493358 (273)\ttotal: 2.1s\tremaining: 472ms\n",
            "816:\tlearn: 0.1232653\ttest: 0.4853791\tbest: 0.4493358 (273)\ttotal: 2.1s\tremaining: 470ms\n",
            "817:\tlearn: 0.1232481\ttest: 0.4853510\tbest: 0.4493358 (273)\ttotal: 2.1s\tremaining: 467ms\n",
            "818:\tlearn: 0.1231448\ttest: 0.4855998\tbest: 0.4493358 (273)\ttotal: 2.1s\tremaining: 465ms\n",
            "819:\tlearn: 0.1228747\ttest: 0.4857251\tbest: 0.4493358 (273)\ttotal: 2.1s\tremaining: 462ms\n",
            "820:\tlearn: 0.1222627\ttest: 0.4862712\tbest: 0.4493358 (273)\ttotal: 2.11s\tremaining: 460ms\n",
            "821:\tlearn: 0.1220924\ttest: 0.4862728\tbest: 0.4493358 (273)\ttotal: 2.11s\tremaining: 457ms\n",
            "822:\tlearn: 0.1220801\ttest: 0.4862446\tbest: 0.4493358 (273)\ttotal: 2.11s\tremaining: 455ms\n",
            "823:\tlearn: 0.1220074\ttest: 0.4864725\tbest: 0.4493358 (273)\ttotal: 2.12s\tremaining: 452ms\n",
            "824:\tlearn: 0.1219951\ttest: 0.4864441\tbest: 0.4493358 (273)\ttotal: 2.12s\tremaining: 449ms\n",
            "825:\tlearn: 0.1219836\ttest: 0.4864478\tbest: 0.4493358 (273)\ttotal: 2.12s\tremaining: 447ms\n",
            "826:\tlearn: 0.1217033\ttest: 0.4865155\tbest: 0.4493358 (273)\ttotal: 2.12s\tremaining: 444ms\n",
            "827:\tlearn: 0.1215247\ttest: 0.4864146\tbest: 0.4493358 (273)\ttotal: 2.13s\tremaining: 442ms\n",
            "828:\tlearn: 0.1213662\ttest: 0.4862530\tbest: 0.4493358 (273)\ttotal: 2.13s\tremaining: 440ms\n",
            "829:\tlearn: 0.1213504\ttest: 0.4861912\tbest: 0.4493358 (273)\ttotal: 2.13s\tremaining: 437ms\n",
            "830:\tlearn: 0.1210151\ttest: 0.4866407\tbest: 0.4493358 (273)\ttotal: 2.14s\tremaining: 435ms\n",
            "831:\tlearn: 0.1209140\ttest: 0.4866962\tbest: 0.4493358 (273)\ttotal: 2.14s\tremaining: 432ms\n",
            "832:\tlearn: 0.1206966\ttest: 0.4868277\tbest: 0.4493358 (273)\ttotal: 2.14s\tremaining: 429ms\n",
            "833:\tlearn: 0.1204467\ttest: 0.4870047\tbest: 0.4493358 (273)\ttotal: 2.14s\tremaining: 427ms\n",
            "834:\tlearn: 0.1198678\ttest: 0.4875359\tbest: 0.4493358 (273)\ttotal: 2.15s\tremaining: 424ms\n",
            "835:\tlearn: 0.1197186\ttest: 0.4873714\tbest: 0.4493358 (273)\ttotal: 2.15s\tremaining: 422ms\n",
            "836:\tlearn: 0.1195590\ttest: 0.4877242\tbest: 0.4493358 (273)\ttotal: 2.15s\tremaining: 419ms\n",
            "837:\tlearn: 0.1193422\ttest: 0.4880276\tbest: 0.4493358 (273)\ttotal: 2.15s\tremaining: 416ms\n",
            "838:\tlearn: 0.1191846\ttest: 0.4883859\tbest: 0.4493358 (273)\ttotal: 2.15s\tremaining: 414ms\n",
            "839:\tlearn: 0.1190915\ttest: 0.4883441\tbest: 0.4493358 (273)\ttotal: 2.16s\tremaining: 411ms\n",
            "840:\tlearn: 0.1189956\ttest: 0.4883764\tbest: 0.4493358 (273)\ttotal: 2.16s\tremaining: 409ms\n",
            "841:\tlearn: 0.1188384\ttest: 0.4886420\tbest: 0.4493358 (273)\ttotal: 2.16s\tremaining: 406ms\n",
            "842:\tlearn: 0.1184168\ttest: 0.4885365\tbest: 0.4493358 (273)\ttotal: 2.17s\tremaining: 403ms\n",
            "843:\tlearn: 0.1183650\ttest: 0.4885492\tbest: 0.4493358 (273)\ttotal: 2.17s\tremaining: 401ms\n",
            "844:\tlearn: 0.1183610\ttest: 0.4885454\tbest: 0.4493358 (273)\ttotal: 2.17s\tremaining: 398ms\n",
            "845:\tlearn: 0.1182626\ttest: 0.4889778\tbest: 0.4493358 (273)\ttotal: 2.17s\tremaining: 396ms\n",
            "846:\tlearn: 0.1182563\ttest: 0.4889902\tbest: 0.4493358 (273)\ttotal: 2.18s\tremaining: 393ms\n",
            "847:\tlearn: 0.1180404\ttest: 0.4891857\tbest: 0.4493358 (273)\ttotal: 2.18s\tremaining: 391ms\n",
            "848:\tlearn: 0.1179541\ttest: 0.4892312\tbest: 0.4493358 (273)\ttotal: 2.18s\tremaining: 388ms\n",
            "849:\tlearn: 0.1177539\ttest: 0.4894107\tbest: 0.4493358 (273)\ttotal: 2.18s\tremaining: 385ms\n",
            "850:\tlearn: 0.1175883\ttest: 0.4895669\tbest: 0.4493358 (273)\ttotal: 2.19s\tremaining: 383ms\n",
            "851:\tlearn: 0.1173642\ttest: 0.4895935\tbest: 0.4493358 (273)\ttotal: 2.19s\tremaining: 380ms\n",
            "852:\tlearn: 0.1170384\ttest: 0.4897734\tbest: 0.4493358 (273)\ttotal: 2.19s\tremaining: 378ms\n",
            "853:\tlearn: 0.1170158\ttest: 0.4898069\tbest: 0.4493358 (273)\ttotal: 2.19s\tremaining: 375ms\n",
            "854:\tlearn: 0.1166920\ttest: 0.4897784\tbest: 0.4493358 (273)\ttotal: 2.2s\tremaining: 373ms\n",
            "855:\tlearn: 0.1165604\ttest: 0.4897997\tbest: 0.4493358 (273)\ttotal: 2.2s\tremaining: 370ms\n",
            "856:\tlearn: 0.1164105\ttest: 0.4901558\tbest: 0.4493358 (273)\ttotal: 2.2s\tremaining: 367ms\n",
            "857:\tlearn: 0.1163449\ttest: 0.4902107\tbest: 0.4493358 (273)\ttotal: 2.21s\tremaining: 365ms\n",
            "858:\tlearn: 0.1160766\ttest: 0.4903182\tbest: 0.4493358 (273)\ttotal: 2.21s\tremaining: 362ms\n",
            "859:\tlearn: 0.1158829\ttest: 0.4902390\tbest: 0.4493358 (273)\ttotal: 2.21s\tremaining: 360ms\n",
            "860:\tlearn: 0.1158359\ttest: 0.4902816\tbest: 0.4493358 (273)\ttotal: 2.21s\tremaining: 357ms\n",
            "861:\tlearn: 0.1156604\ttest: 0.4908327\tbest: 0.4493358 (273)\ttotal: 2.21s\tremaining: 355ms\n",
            "862:\tlearn: 0.1155431\ttest: 0.4909893\tbest: 0.4493358 (273)\ttotal: 2.22s\tremaining: 352ms\n",
            "863:\tlearn: 0.1153240\ttest: 0.4908929\tbest: 0.4493358 (273)\ttotal: 2.22s\tremaining: 349ms\n",
            "864:\tlearn: 0.1153013\ttest: 0.4908496\tbest: 0.4493358 (273)\ttotal: 2.22s\tremaining: 347ms\n",
            "865:\tlearn: 0.1152949\ttest: 0.4908620\tbest: 0.4493358 (273)\ttotal: 2.22s\tremaining: 344ms\n",
            "866:\tlearn: 0.1151785\ttest: 0.4910387\tbest: 0.4493358 (273)\ttotal: 2.23s\tremaining: 341ms\n",
            "867:\tlearn: 0.1148927\ttest: 0.4909586\tbest: 0.4493358 (273)\ttotal: 2.23s\tremaining: 339ms\n",
            "868:\tlearn: 0.1148183\ttest: 0.4908896\tbest: 0.4493358 (273)\ttotal: 2.23s\tremaining: 336ms\n",
            "869:\tlearn: 0.1147633\ttest: 0.4910883\tbest: 0.4493358 (273)\ttotal: 2.23s\tremaining: 334ms\n",
            "870:\tlearn: 0.1146284\ttest: 0.4910495\tbest: 0.4493358 (273)\ttotal: 2.24s\tremaining: 331ms\n",
            "871:\tlearn: 0.1146080\ttest: 0.4910586\tbest: 0.4493358 (273)\ttotal: 2.24s\tremaining: 329ms\n",
            "872:\tlearn: 0.1144669\ttest: 0.4912278\tbest: 0.4493358 (273)\ttotal: 2.24s\tremaining: 326ms\n",
            "873:\tlearn: 0.1142491\ttest: 0.4907572\tbest: 0.4493358 (273)\ttotal: 2.24s\tremaining: 323ms\n",
            "874:\tlearn: 0.1141129\ttest: 0.4908777\tbest: 0.4493358 (273)\ttotal: 2.25s\tremaining: 321ms\n",
            "875:\tlearn: 0.1139497\ttest: 0.4907026\tbest: 0.4493358 (273)\ttotal: 2.25s\tremaining: 318ms\n",
            "876:\tlearn: 0.1139190\ttest: 0.4907120\tbest: 0.4493358 (273)\ttotal: 2.25s\tremaining: 316ms\n",
            "877:\tlearn: 0.1138359\ttest: 0.4908268\tbest: 0.4493358 (273)\ttotal: 2.25s\tremaining: 313ms\n",
            "878:\tlearn: 0.1136103\ttest: 0.4906931\tbest: 0.4493358 (273)\ttotal: 2.26s\tremaining: 311ms\n",
            "879:\tlearn: 0.1132538\ttest: 0.4904643\tbest: 0.4493358 (273)\ttotal: 2.26s\tremaining: 308ms\n",
            "880:\tlearn: 0.1130731\ttest: 0.4907184\tbest: 0.4493358 (273)\ttotal: 2.26s\tremaining: 305ms\n",
            "881:\tlearn: 0.1127948\ttest: 0.4904935\tbest: 0.4493358 (273)\ttotal: 2.26s\tremaining: 303ms\n",
            "882:\tlearn: 0.1125694\ttest: 0.4901379\tbest: 0.4493358 (273)\ttotal: 2.27s\tremaining: 300ms\n",
            "883:\tlearn: 0.1121628\ttest: 0.4900294\tbest: 0.4493358 (273)\ttotal: 2.27s\tremaining: 298ms\n",
            "884:\tlearn: 0.1121249\ttest: 0.4899281\tbest: 0.4493358 (273)\ttotal: 2.27s\tremaining: 295ms\n",
            "885:\tlearn: 0.1120808\ttest: 0.4899908\tbest: 0.4493358 (273)\ttotal: 2.27s\tremaining: 292ms\n",
            "886:\tlearn: 0.1117948\ttest: 0.4901307\tbest: 0.4493358 (273)\ttotal: 2.27s\tremaining: 290ms\n",
            "887:\tlearn: 0.1116572\ttest: 0.4905575\tbest: 0.4493358 (273)\ttotal: 2.28s\tremaining: 287ms\n",
            "888:\tlearn: 0.1115541\ttest: 0.4907061\tbest: 0.4493358 (273)\ttotal: 2.28s\tremaining: 285ms\n",
            "889:\tlearn: 0.1115159\ttest: 0.4907373\tbest: 0.4493358 (273)\ttotal: 2.28s\tremaining: 282ms\n",
            "890:\tlearn: 0.1112687\ttest: 0.4911337\tbest: 0.4493358 (273)\ttotal: 2.29s\tremaining: 280ms\n",
            "891:\tlearn: 0.1111794\ttest: 0.4913313\tbest: 0.4493358 (273)\ttotal: 2.29s\tremaining: 277ms\n",
            "892:\tlearn: 0.1111662\ttest: 0.4913080\tbest: 0.4493358 (273)\ttotal: 2.29s\tremaining: 274ms\n",
            "893:\tlearn: 0.1110339\ttest: 0.4916657\tbest: 0.4493358 (273)\ttotal: 2.29s\tremaining: 272ms\n",
            "894:\tlearn: 0.1109573\ttest: 0.4917447\tbest: 0.4493358 (273)\ttotal: 2.29s\tremaining: 269ms\n",
            "895:\tlearn: 0.1109262\ttest: 0.4917679\tbest: 0.4493358 (273)\ttotal: 2.3s\tremaining: 267ms\n",
            "896:\tlearn: 0.1107784\ttest: 0.4921214\tbest: 0.4493358 (273)\ttotal: 2.3s\tremaining: 264ms\n",
            "897:\tlearn: 0.1105798\ttest: 0.4919826\tbest: 0.4493358 (273)\ttotal: 2.3s\tremaining: 262ms\n",
            "898:\tlearn: 0.1104813\ttest: 0.4924297\tbest: 0.4493358 (273)\ttotal: 2.31s\tremaining: 259ms\n",
            "899:\tlearn: 0.1103779\ttest: 0.4928947\tbest: 0.4493358 (273)\ttotal: 2.31s\tremaining: 256ms\n",
            "900:\tlearn: 0.1100537\ttest: 0.4927749\tbest: 0.4493358 (273)\ttotal: 2.31s\tremaining: 254ms\n",
            "901:\tlearn: 0.1098444\ttest: 0.4930024\tbest: 0.4493358 (273)\ttotal: 2.31s\tremaining: 251ms\n",
            "902:\tlearn: 0.1096749\ttest: 0.4927652\tbest: 0.4493358 (273)\ttotal: 2.32s\tremaining: 250ms\n",
            "903:\tlearn: 0.1095942\ttest: 0.4927467\tbest: 0.4493358 (273)\ttotal: 2.33s\tremaining: 247ms\n",
            "904:\tlearn: 0.1095530\ttest: 0.4927831\tbest: 0.4493358 (273)\ttotal: 2.33s\tremaining: 245ms\n",
            "905:\tlearn: 0.1093954\ttest: 0.4927563\tbest: 0.4493358 (273)\ttotal: 2.33s\tremaining: 242ms\n",
            "906:\tlearn: 0.1093704\ttest: 0.4926969\tbest: 0.4493358 (273)\ttotal: 2.33s\tremaining: 239ms\n",
            "907:\tlearn: 0.1092396\ttest: 0.4928677\tbest: 0.4493358 (273)\ttotal: 2.34s\tremaining: 237ms\n",
            "908:\tlearn: 0.1090509\ttest: 0.4928725\tbest: 0.4493358 (273)\ttotal: 2.34s\tremaining: 234ms\n",
            "909:\tlearn: 0.1089070\ttest: 0.4927726\tbest: 0.4493358 (273)\ttotal: 2.34s\tremaining: 232ms\n",
            "910:\tlearn: 0.1084497\ttest: 0.4927357\tbest: 0.4493358 (273)\ttotal: 2.35s\tremaining: 229ms\n",
            "911:\tlearn: 0.1083687\ttest: 0.4932100\tbest: 0.4493358 (273)\ttotal: 2.35s\tremaining: 227ms\n",
            "912:\tlearn: 0.1080506\ttest: 0.4936541\tbest: 0.4493358 (273)\ttotal: 2.35s\tremaining: 224ms\n",
            "913:\tlearn: 0.1079852\ttest: 0.4935062\tbest: 0.4493358 (273)\ttotal: 2.35s\tremaining: 221ms\n",
            "914:\tlearn: 0.1077490\ttest: 0.4933301\tbest: 0.4493358 (273)\ttotal: 2.36s\tremaining: 219ms\n",
            "915:\tlearn: 0.1076013\ttest: 0.4935060\tbest: 0.4493358 (273)\ttotal: 2.36s\tremaining: 216ms\n",
            "916:\tlearn: 0.1075183\ttest: 0.4939133\tbest: 0.4493358 (273)\ttotal: 2.36s\tremaining: 214ms\n",
            "917:\tlearn: 0.1075051\ttest: 0.4939539\tbest: 0.4493358 (273)\ttotal: 2.36s\tremaining: 211ms\n",
            "918:\tlearn: 0.1073619\ttest: 0.4942335\tbest: 0.4493358 (273)\ttotal: 2.37s\tremaining: 209ms\n",
            "919:\tlearn: 0.1071993\ttest: 0.4942689\tbest: 0.4493358 (273)\ttotal: 2.37s\tremaining: 206ms\n",
            "920:\tlearn: 0.1071781\ttest: 0.4942952\tbest: 0.4493358 (273)\ttotal: 2.37s\tremaining: 203ms\n",
            "921:\tlearn: 0.1070926\ttest: 0.4945416\tbest: 0.4493358 (273)\ttotal: 2.37s\tremaining: 201ms\n",
            "922:\tlearn: 0.1068223\ttest: 0.4947967\tbest: 0.4493358 (273)\ttotal: 2.38s\tremaining: 198ms\n",
            "923:\tlearn: 0.1067765\ttest: 0.4948436\tbest: 0.4493358 (273)\ttotal: 2.38s\tremaining: 196ms\n",
            "924:\tlearn: 0.1067606\ttest: 0.4947946\tbest: 0.4493358 (273)\ttotal: 2.38s\tremaining: 193ms\n",
            "925:\tlearn: 0.1066024\ttest: 0.4950234\tbest: 0.4493358 (273)\ttotal: 2.38s\tremaining: 191ms\n",
            "926:\tlearn: 0.1064981\ttest: 0.4950663\tbest: 0.4493358 (273)\ttotal: 2.39s\tremaining: 188ms\n",
            "927:\tlearn: 0.1063830\ttest: 0.4951615\tbest: 0.4493358 (273)\ttotal: 2.39s\tremaining: 186ms\n",
            "928:\tlearn: 0.1060594\ttest: 0.4953298\tbest: 0.4493358 (273)\ttotal: 2.39s\tremaining: 183ms\n",
            "929:\tlearn: 0.1059079\ttest: 0.4951034\tbest: 0.4493358 (273)\ttotal: 2.4s\tremaining: 180ms\n",
            "930:\tlearn: 0.1058668\ttest: 0.4951424\tbest: 0.4493358 (273)\ttotal: 2.4s\tremaining: 178ms\n",
            "931:\tlearn: 0.1057066\ttest: 0.4952354\tbest: 0.4493358 (273)\ttotal: 2.4s\tremaining: 175ms\n",
            "932:\tlearn: 0.1056917\ttest: 0.4952711\tbest: 0.4493358 (273)\ttotal: 2.4s\tremaining: 173ms\n",
            "933:\tlearn: 0.1056658\ttest: 0.4952255\tbest: 0.4493358 (273)\ttotal: 2.41s\tremaining: 170ms\n",
            "934:\tlearn: 0.1056265\ttest: 0.4951412\tbest: 0.4493358 (273)\ttotal: 2.41s\tremaining: 168ms\n",
            "935:\tlearn: 0.1055438\ttest: 0.4949197\tbest: 0.4493358 (273)\ttotal: 2.41s\tremaining: 165ms\n",
            "936:\tlearn: 0.1054630\ttest: 0.4949900\tbest: 0.4493358 (273)\ttotal: 2.41s\tremaining: 162ms\n",
            "937:\tlearn: 0.1052971\ttest: 0.4950919\tbest: 0.4493358 (273)\ttotal: 2.42s\tremaining: 160ms\n",
            "938:\tlearn: 0.1052167\ttest: 0.4950337\tbest: 0.4493358 (273)\ttotal: 2.42s\tremaining: 157ms\n",
            "939:\tlearn: 0.1050967\ttest: 0.4951520\tbest: 0.4493358 (273)\ttotal: 2.42s\tremaining: 155ms\n",
            "940:\tlearn: 0.1049782\ttest: 0.4951809\tbest: 0.4493358 (273)\ttotal: 2.42s\tremaining: 152ms\n",
            "941:\tlearn: 0.1048557\ttest: 0.4952001\tbest: 0.4493358 (273)\ttotal: 2.43s\tremaining: 149ms\n",
            "942:\tlearn: 0.1047006\ttest: 0.4950677\tbest: 0.4493358 (273)\ttotal: 2.43s\tremaining: 147ms\n",
            "943:\tlearn: 0.1045177\ttest: 0.4950878\tbest: 0.4493358 (273)\ttotal: 2.43s\tremaining: 144ms\n",
            "944:\tlearn: 0.1042653\ttest: 0.4952294\tbest: 0.4493358 (273)\ttotal: 2.43s\tremaining: 142ms\n",
            "945:\tlearn: 0.1041776\ttest: 0.4952456\tbest: 0.4493358 (273)\ttotal: 2.44s\tremaining: 139ms\n",
            "946:\tlearn: 0.1041410\ttest: 0.4953984\tbest: 0.4493358 (273)\ttotal: 2.44s\tremaining: 137ms\n",
            "947:\tlearn: 0.1040709\ttest: 0.4955882\tbest: 0.4493358 (273)\ttotal: 2.44s\tremaining: 134ms\n",
            "948:\tlearn: 0.1037861\ttest: 0.4962095\tbest: 0.4493358 (273)\ttotal: 2.44s\tremaining: 131ms\n",
            "949:\tlearn: 0.1035073\ttest: 0.4961740\tbest: 0.4493358 (273)\ttotal: 2.45s\tremaining: 129ms\n",
            "950:\tlearn: 0.1034888\ttest: 0.4960322\tbest: 0.4493358 (273)\ttotal: 2.45s\tremaining: 126ms\n",
            "951:\tlearn: 0.1034592\ttest: 0.4959852\tbest: 0.4493358 (273)\ttotal: 2.45s\tremaining: 124ms\n",
            "952:\tlearn: 0.1034109\ttest: 0.4958897\tbest: 0.4493358 (273)\ttotal: 2.46s\tremaining: 121ms\n",
            "953:\tlearn: 0.1033918\ttest: 0.4958880\tbest: 0.4493358 (273)\ttotal: 2.46s\tremaining: 119ms\n",
            "954:\tlearn: 0.1032383\ttest: 0.4958023\tbest: 0.4493358 (273)\ttotal: 2.46s\tremaining: 116ms\n",
            "955:\tlearn: 0.1031506\ttest: 0.4959873\tbest: 0.4493358 (273)\ttotal: 2.46s\tremaining: 113ms\n",
            "956:\tlearn: 0.1029854\ttest: 0.4960524\tbest: 0.4493358 (273)\ttotal: 2.46s\tremaining: 111ms\n",
            "957:\tlearn: 0.1029182\ttest: 0.4960715\tbest: 0.4493358 (273)\ttotal: 2.47s\tremaining: 108ms\n",
            "958:\tlearn: 0.1027206\ttest: 0.4959980\tbest: 0.4493358 (273)\ttotal: 2.47s\tremaining: 106ms\n",
            "959:\tlearn: 0.1026727\ttest: 0.4960559\tbest: 0.4493358 (273)\ttotal: 2.47s\tremaining: 103ms\n",
            "960:\tlearn: 0.1026674\ttest: 0.4960559\tbest: 0.4493358 (273)\ttotal: 2.47s\tremaining: 100ms\n",
            "961:\tlearn: 0.1024318\ttest: 0.4959982\tbest: 0.4493358 (273)\ttotal: 2.48s\tremaining: 97.8ms\n",
            "962:\tlearn: 0.1022523\ttest: 0.4964568\tbest: 0.4493358 (273)\ttotal: 2.48s\tremaining: 95.3ms\n",
            "963:\tlearn: 0.1021604\ttest: 0.4966359\tbest: 0.4493358 (273)\ttotal: 2.48s\tremaining: 92.7ms\n",
            "964:\tlearn: 0.1020093\ttest: 0.4970191\tbest: 0.4493358 (273)\ttotal: 2.48s\tremaining: 90.1ms\n",
            "965:\tlearn: 0.1018929\ttest: 0.4971257\tbest: 0.4493358 (273)\ttotal: 2.49s\tremaining: 87.5ms\n",
            "966:\tlearn: 0.1018612\ttest: 0.4971930\tbest: 0.4493358 (273)\ttotal: 2.49s\tremaining: 85ms\n",
            "967:\tlearn: 0.1016839\ttest: 0.4971948\tbest: 0.4493358 (273)\ttotal: 2.49s\tremaining: 82.4ms\n",
            "968:\tlearn: 0.1015375\ttest: 0.4975762\tbest: 0.4493358 (273)\ttotal: 2.49s\tremaining: 79.8ms\n",
            "969:\tlearn: 0.1015122\ttest: 0.4975348\tbest: 0.4493358 (273)\ttotal: 2.5s\tremaining: 77.2ms\n",
            "970:\tlearn: 0.1012743\ttest: 0.4973404\tbest: 0.4493358 (273)\ttotal: 2.5s\tremaining: 74.7ms\n",
            "971:\tlearn: 0.1011979\ttest: 0.4971896\tbest: 0.4493358 (273)\ttotal: 2.5s\tremaining: 72.1ms\n",
            "972:\tlearn: 0.1011275\ttest: 0.4973530\tbest: 0.4493358 (273)\ttotal: 2.5s\tremaining: 69.5ms\n",
            "973:\tlearn: 0.1011023\ttest: 0.4974680\tbest: 0.4493358 (273)\ttotal: 2.51s\tremaining: 66.9ms\n",
            "974:\tlearn: 0.1008634\ttest: 0.4975195\tbest: 0.4493358 (273)\ttotal: 2.51s\tremaining: 64.4ms\n",
            "975:\tlearn: 0.1008574\ttest: 0.4975632\tbest: 0.4493358 (273)\ttotal: 2.51s\tremaining: 61.8ms\n",
            "976:\tlearn: 0.1008522\ttest: 0.4975736\tbest: 0.4493358 (273)\ttotal: 2.52s\tremaining: 59.3ms\n",
            "977:\tlearn: 0.1008180\ttest: 0.4976239\tbest: 0.4493358 (273)\ttotal: 2.52s\tremaining: 56.7ms\n",
            "978:\tlearn: 0.1006098\ttest: 0.4977493\tbest: 0.4493358 (273)\ttotal: 2.52s\tremaining: 54.2ms\n",
            "979:\tlearn: 0.1005329\ttest: 0.4978992\tbest: 0.4493358 (273)\ttotal: 2.53s\tremaining: 51.6ms\n",
            "980:\tlearn: 0.1004161\ttest: 0.4980188\tbest: 0.4493358 (273)\ttotal: 2.53s\tremaining: 49ms\n",
            "981:\tlearn: 0.1003863\ttest: 0.4980376\tbest: 0.4493358 (273)\ttotal: 2.53s\tremaining: 46.4ms\n",
            "982:\tlearn: 0.1001792\ttest: 0.4981305\tbest: 0.4493358 (273)\ttotal: 2.54s\tremaining: 43.8ms\n",
            "983:\tlearn: 0.1000291\ttest: 0.4982292\tbest: 0.4493358 (273)\ttotal: 2.54s\tremaining: 41.3ms\n",
            "984:\tlearn: 0.0999705\ttest: 0.4984945\tbest: 0.4493358 (273)\ttotal: 2.54s\tremaining: 38.7ms\n",
            "985:\tlearn: 0.0998923\ttest: 0.4984031\tbest: 0.4493358 (273)\ttotal: 2.54s\tremaining: 36.1ms\n",
            "986:\tlearn: 0.0998216\ttest: 0.4986377\tbest: 0.4493358 (273)\ttotal: 2.54s\tremaining: 33.5ms\n",
            "987:\tlearn: 0.0996857\ttest: 0.4987325\tbest: 0.4493358 (273)\ttotal: 2.55s\tremaining: 30.9ms\n",
            "988:\tlearn: 0.0992385\ttest: 0.4992942\tbest: 0.4493358 (273)\ttotal: 2.55s\tremaining: 28.4ms\n",
            "989:\tlearn: 0.0991302\ttest: 0.4991388\tbest: 0.4493358 (273)\ttotal: 2.55s\tremaining: 25.8ms\n",
            "990:\tlearn: 0.0990052\ttest: 0.4990091\tbest: 0.4493358 (273)\ttotal: 2.56s\tremaining: 23.2ms\n",
            "991:\tlearn: 0.0989276\ttest: 0.4994010\tbest: 0.4493358 (273)\ttotal: 2.56s\tremaining: 20.6ms\n",
            "992:\tlearn: 0.0988283\ttest: 0.4994399\tbest: 0.4493358 (273)\ttotal: 2.56s\tremaining: 18ms\n",
            "993:\tlearn: 0.0985078\ttest: 0.4994516\tbest: 0.4493358 (273)\ttotal: 2.56s\tremaining: 15.5ms\n",
            "994:\tlearn: 0.0983624\ttest: 0.4995021\tbest: 0.4493358 (273)\ttotal: 2.56s\tremaining: 12.9ms\n",
            "995:\tlearn: 0.0983166\ttest: 0.4994255\tbest: 0.4493358 (273)\ttotal: 2.57s\tremaining: 10.3ms\n",
            "996:\tlearn: 0.0981542\ttest: 0.4994562\tbest: 0.4493358 (273)\ttotal: 2.57s\tremaining: 7.74ms\n",
            "997:\tlearn: 0.0979490\ttest: 0.4993520\tbest: 0.4493358 (273)\ttotal: 2.57s\tremaining: 5.16ms\n",
            "998:\tlearn: 0.0979426\ttest: 0.4993616\tbest: 0.4493358 (273)\ttotal: 2.58s\tremaining: 2.58ms\n",
            "999:\tlearn: 0.0978378\ttest: 0.4994557\tbest: 0.4493358 (273)\ttotal: 2.58s\tremaining: 0us\n",
            "\n",
            "bestTest = 0.4493357652\n",
            "bestIteration = 273\n",
            "\n",
            "Shrink model to first 274 iterations.\n"
          ],
          "name": "stdout"
        },
        {
          "output_type": "execute_result",
          "data": {
            "text/plain": [
              "0.8162162162162162"
            ]
          },
          "metadata": {
            "tags": []
          },
          "execution_count": 22
        }
      ]
    },
    {
      "cell_type": "markdown",
      "metadata": {
        "id": "T2H7SsJCCtUJ"
      },
      "source": [
        "#### MaxVoting "
      ]
    },
    {
      "cell_type": "code",
      "metadata": {
        "id": "pHLr0Mt6CtUK",
        "colab": {
          "base_uri": "https://localhost:8080/"
        },
        "outputId": "b1768003-b39a-4eae-c737-899fb9bc2d40"
      },
      "source": [
        "model1 = LogisticRegression(random_state=1)\n",
        "model2 = tree.DecisionTreeClassifier(random_state=1)\n",
        "model3 = GaussianNB()\n",
        "model = VotingClassifier(estimators=[('lr', model1), ('dt', model2), ('NB', model3)])\n",
        "model.fit(x_train,y_train)\n",
        "model.score(x_test,y_test)"
      ],
      "execution_count": null,
      "outputs": [
        {
          "output_type": "stream",
          "text": [
            "/usr/local/lib/python3.6/dist-packages/sklearn/linear_model/_logistic.py:940: ConvergenceWarning: lbfgs failed to converge (status=1):\n",
            "STOP: TOTAL NO. of ITERATIONS REACHED LIMIT.\n",
            "\n",
            "Increase the number of iterations (max_iter) or scale the data as shown in:\n",
            "    https://scikit-learn.org/stable/modules/preprocessing.html\n",
            "Please also refer to the documentation for alternative solver options:\n",
            "    https://scikit-learn.org/stable/modules/linear_model.html#logistic-regression\n",
            "  extra_warning_msg=_LOGISTIC_SOLVER_CONVERGENCE_MSG)\n"
          ],
          "name": "stderr"
        },
        {
          "output_type": "execute_result",
          "data": {
            "text/plain": [
              "0.827027027027027"
            ]
          },
          "metadata": {
            "tags": []
          },
          "execution_count": 23
        }
      ]
    },
    {
      "cell_type": "markdown",
      "metadata": {
        "id": "Fafs-kGLCtUT"
      },
      "source": [
        "#### Weighted Averaging "
      ]
    },
    {
      "cell_type": "code",
      "metadata": {
        "id": "u9r7s2SiCtUV",
        "colab": {
          "base_uri": "https://localhost:8080/"
        },
        "outputId": "85e2dd98-2910-4630-e604-679dcc06b214"
      },
      "source": [
        "model1 = tree.DecisionTreeClassifier()\n",
        "model2 = GaussianNB()\n",
        "model3= LogisticRegression()\n",
        "\n",
        "\n",
        "model1.fit(x_train,y_train)\n",
        "model2.fit(x_train,y_train)\n",
        "model3.fit(x_train,y_train)\n",
        "\n",
        "pred1 = model1.predict_proba(x_test)\n",
        "pred2 = model2.predict_proba(x_test)\n",
        "pred3 = model3.predict_proba(x_test)\n",
        "\n",
        "weighted_prediction = (0.2*pred1)+(0.4*pred2)+(0.4*pred3)\n",
        "labelprediction = np.argmax(weighted_prediction, axis = 1)\n",
        "\n",
        "accuracy_score(labelprediction, y_test)"
      ],
      "execution_count": null,
      "outputs": [
        {
          "output_type": "stream",
          "text": [
            "/usr/local/lib/python3.6/dist-packages/sklearn/linear_model/_logistic.py:940: ConvergenceWarning: lbfgs failed to converge (status=1):\n",
            "STOP: TOTAL NO. of ITERATIONS REACHED LIMIT.\n",
            "\n",
            "Increase the number of iterations (max_iter) or scale the data as shown in:\n",
            "    https://scikit-learn.org/stable/modules/preprocessing.html\n",
            "Please also refer to the documentation for alternative solver options:\n",
            "    https://scikit-learn.org/stable/modules/linear_model.html#logistic-regression\n",
            "  extra_warning_msg=_LOGISTIC_SOLVER_CONVERGENCE_MSG)\n"
          ],
          "name": "stderr"
        },
        {
          "output_type": "execute_result",
          "data": {
            "text/plain": [
              "0.827027027027027"
            ]
          },
          "metadata": {
            "tags": []
          },
          "execution_count": 24
        }
      ]
    },
    {
      "cell_type": "markdown",
      "metadata": {
        "id": "5OYZ0yVqCtUd"
      },
      "source": [
        "#### Stacking "
      ]
    },
    {
      "cell_type": "code",
      "metadata": {
        "id": "g9vccO9uCtUe"
      },
      "source": [
        "def Stacking(model,train,y,test,n_fold):\n",
        "    folds=StratifiedKFold(n_splits=n_fold,random_state=1)\n",
        "    test_pred=np.empty((test.shape[0],1),float)\n",
        "    train_pred=np.empty((0,1),float)\n",
        "    \n",
        "    for train_indices,val_indices in folds.split(train,y.values):\n",
        "        x_train,x_val=train.iloc[train_indices],train.iloc[val_indices]\n",
        "        y_train,y_val=y.iloc[train_indices],y.iloc[val_indices]\n",
        "\n",
        "        model.fit(X=x_train,y=y_train)\n",
        "        train_pred=np.append(train_pred,model.predict(x_val))\n",
        "        \n",
        "    model.fit(train, y)\n",
        "    test_pred=model.predict(test)\n",
        "    return test_pred.reshape(-1,1),train_pred"
      ],
      "execution_count": null,
      "outputs": []
    },
    {
      "cell_type": "code",
      "metadata": {
        "id": "pAnbRU6jCtUo",
        "colab": {
          "base_uri": "https://localhost:8080/"
        },
        "outputId": "0f557648-c59c-4d8e-c9f4-31516e4e521e"
      },
      "source": [
        "model1 = tree.DecisionTreeClassifier(random_state=1)\n",
        "\n",
        "test_pred1 ,train_pred1=Stacking(model=model1,n_fold=10, train=x_train,test=x_test,y=y_train)\n",
        "\n",
        "train_pred1=pd.DataFrame(train_pred1)\n",
        "test_pred1=pd.DataFrame(test_pred1)"
      ],
      "execution_count": null,
      "outputs": [
        {
          "output_type": "stream",
          "text": [
            "/usr/local/lib/python3.6/dist-packages/sklearn/model_selection/_split.py:296: FutureWarning: Setting a random_state has no effect since shuffle is False. This will raise an error in 0.24. You should leave random_state to its default (None), or set shuffle=True.\n",
            "  FutureWarning\n"
          ],
          "name": "stderr"
        }
      ]
    },
    {
      "cell_type": "code",
      "metadata": {
        "id": "qe5jV2IwCtUw"
      },
      "source": [
        ""
      ],
      "execution_count": null,
      "outputs": []
    },
    {
      "cell_type": "code",
      "metadata": {
        "id": "lYz19EKzCtU-",
        "colab": {
          "base_uri": "https://localhost:8080/"
        },
        "outputId": "503bb996-dc86-41d9-e64b-b900aa6bfcd6"
      },
      "source": [
        "model2 = LogisticRegression()\n",
        "\n",
        "test_pred2 ,train_pred2=Stacking(model=model2,n_fold=10,train=x_train,test=x_test,y=y_train)\n",
        "\n",
        "train_pred2=pd.DataFrame(train_pred2)\n",
        "test_pred2=pd.DataFrame(test_pred2)"
      ],
      "execution_count": null,
      "outputs": [
        {
          "output_type": "stream",
          "text": [
            "/usr/local/lib/python3.6/dist-packages/sklearn/model_selection/_split.py:296: FutureWarning: Setting a random_state has no effect since shuffle is False. This will raise an error in 0.24. You should leave random_state to its default (None), or set shuffle=True.\n",
            "  FutureWarning\n",
            "/usr/local/lib/python3.6/dist-packages/sklearn/linear_model/_logistic.py:940: ConvergenceWarning: lbfgs failed to converge (status=1):\n",
            "STOP: TOTAL NO. of ITERATIONS REACHED LIMIT.\n",
            "\n",
            "Increase the number of iterations (max_iter) or scale the data as shown in:\n",
            "    https://scikit-learn.org/stable/modules/preprocessing.html\n",
            "Please also refer to the documentation for alternative solver options:\n",
            "    https://scikit-learn.org/stable/modules/linear_model.html#logistic-regression\n",
            "  extra_warning_msg=_LOGISTIC_SOLVER_CONVERGENCE_MSG)\n",
            "/usr/local/lib/python3.6/dist-packages/sklearn/linear_model/_logistic.py:940: ConvergenceWarning: lbfgs failed to converge (status=1):\n",
            "STOP: TOTAL NO. of ITERATIONS REACHED LIMIT.\n",
            "\n",
            "Increase the number of iterations (max_iter) or scale the data as shown in:\n",
            "    https://scikit-learn.org/stable/modules/preprocessing.html\n",
            "Please also refer to the documentation for alternative solver options:\n",
            "    https://scikit-learn.org/stable/modules/linear_model.html#logistic-regression\n",
            "  extra_warning_msg=_LOGISTIC_SOLVER_CONVERGENCE_MSG)\n",
            "/usr/local/lib/python3.6/dist-packages/sklearn/linear_model/_logistic.py:940: ConvergenceWarning: lbfgs failed to converge (status=1):\n",
            "STOP: TOTAL NO. of ITERATIONS REACHED LIMIT.\n",
            "\n",
            "Increase the number of iterations (max_iter) or scale the data as shown in:\n",
            "    https://scikit-learn.org/stable/modules/preprocessing.html\n",
            "Please also refer to the documentation for alternative solver options:\n",
            "    https://scikit-learn.org/stable/modules/linear_model.html#logistic-regression\n",
            "  extra_warning_msg=_LOGISTIC_SOLVER_CONVERGENCE_MSG)\n",
            "/usr/local/lib/python3.6/dist-packages/sklearn/linear_model/_logistic.py:940: ConvergenceWarning: lbfgs failed to converge (status=1):\n",
            "STOP: TOTAL NO. of ITERATIONS REACHED LIMIT.\n",
            "\n",
            "Increase the number of iterations (max_iter) or scale the data as shown in:\n",
            "    https://scikit-learn.org/stable/modules/preprocessing.html\n",
            "Please also refer to the documentation for alternative solver options:\n",
            "    https://scikit-learn.org/stable/modules/linear_model.html#logistic-regression\n",
            "  extra_warning_msg=_LOGISTIC_SOLVER_CONVERGENCE_MSG)\n",
            "/usr/local/lib/python3.6/dist-packages/sklearn/linear_model/_logistic.py:940: ConvergenceWarning: lbfgs failed to converge (status=1):\n",
            "STOP: TOTAL NO. of ITERATIONS REACHED LIMIT.\n",
            "\n",
            "Increase the number of iterations (max_iter) or scale the data as shown in:\n",
            "    https://scikit-learn.org/stable/modules/preprocessing.html\n",
            "Please also refer to the documentation for alternative solver options:\n",
            "    https://scikit-learn.org/stable/modules/linear_model.html#logistic-regression\n",
            "  extra_warning_msg=_LOGISTIC_SOLVER_CONVERGENCE_MSG)\n",
            "/usr/local/lib/python3.6/dist-packages/sklearn/linear_model/_logistic.py:940: ConvergenceWarning: lbfgs failed to converge (status=1):\n",
            "STOP: TOTAL NO. of ITERATIONS REACHED LIMIT.\n",
            "\n",
            "Increase the number of iterations (max_iter) or scale the data as shown in:\n",
            "    https://scikit-learn.org/stable/modules/preprocessing.html\n",
            "Please also refer to the documentation for alternative solver options:\n",
            "    https://scikit-learn.org/stable/modules/linear_model.html#logistic-regression\n",
            "  extra_warning_msg=_LOGISTIC_SOLVER_CONVERGENCE_MSG)\n"
          ],
          "name": "stderr"
        }
      ]
    },
    {
      "cell_type": "code",
      "metadata": {
        "id": "gJ9PEKg2CtVG"
      },
      "source": [
        ""
      ],
      "execution_count": null,
      "outputs": []
    },
    {
      "cell_type": "code",
      "metadata": {
        "id": "aof3Y9lvCtVP",
        "colab": {
          "base_uri": "https://localhost:8080/"
        },
        "outputId": "0bfbb0d8-e943-4470-c73d-58081b2c0e75"
      },
      "source": [
        "df = pd.concat([train_pred1, train_pred2], axis=1)\n",
        "df_test = pd.concat([test_pred1, test_pred2], axis=1)\n",
        "\n",
        "model = LogisticRegression(random_state=1)\n",
        "model.fit(df,y_train)\n",
        "model.score(df_test, y_test)"
      ],
      "execution_count": null,
      "outputs": [
        {
          "output_type": "execute_result",
          "data": {
            "text/plain": [
              "0.8324324324324325"
            ]
          },
          "metadata": {
            "tags": []
          },
          "execution_count": 28
        }
      ]
    },
    {
      "cell_type": "markdown",
      "metadata": {
        "id": "MW9b5nhPCtVb"
      },
      "source": [
        "#### Blending "
      ]
    },
    {
      "cell_type": "code",
      "metadata": {
        "id": "14KSkIqiCtVd",
        "colab": {
          "base_uri": "https://localhost:8080/"
        },
        "outputId": "469c5255-5abc-43b1-e9a2-6d566ca32d25"
      },
      "source": [
        "train, test = train_test_split(train, test_size=0.2, random_state=0)\n",
        "\n",
        "x_train=train.drop(['Loan_Status', 'Loan_ID'], axis=1)\n",
        "y_train=train['Loan_Status']\n",
        "\n",
        "x_val=test.drop(['Loan_Status', 'Loan_ID'], axis=1)\n",
        "y_val=test['Loan_Status']\n",
        "\n",
        "x_val = x_val.reset_index(drop = True)\n",
        "x_test = x_test.reset_index(drop = True)\n",
        "\n",
        "model1 = tree.DecisionTreeClassifier()\n",
        "model1.fit(x_train, y_train)\n",
        "\n",
        "val_pred1=model1.predict(x_val)\n",
        "test_pred1=model1.predict(x_test)\n",
        "\n",
        "val_pred1=pd.DataFrame(val_pred1)\n",
        "test_pred1=pd.DataFrame(test_pred1)\n",
        "\n",
        "model2 = LogisticRegression()\n",
        "model2.fit(x_train,y_train)\n",
        "\n",
        "val_pred2=model2.predict(x_val)\n",
        "test_pred2=model2.predict(x_test)\n",
        "\n",
        "val_pred2=pd.DataFrame(val_pred2)\n",
        "test_pred2=pd.DataFrame(test_pred2)"
      ],
      "execution_count": null,
      "outputs": [
        {
          "output_type": "stream",
          "text": [
            "/usr/local/lib/python3.6/dist-packages/sklearn/linear_model/_logistic.py:940: ConvergenceWarning: lbfgs failed to converge (status=1):\n",
            "STOP: TOTAL NO. of ITERATIONS REACHED LIMIT.\n",
            "\n",
            "Increase the number of iterations (max_iter) or scale the data as shown in:\n",
            "    https://scikit-learn.org/stable/modules/preprocessing.html\n",
            "Please also refer to the documentation for alternative solver options:\n",
            "    https://scikit-learn.org/stable/modules/linear_model.html#logistic-regression\n",
            "  extra_warning_msg=_LOGISTIC_SOLVER_CONVERGENCE_MSG)\n"
          ],
          "name": "stderr"
        }
      ]
    },
    {
      "cell_type": "code",
      "metadata": {
        "id": "Jk_hgwHSCtVo",
        "colab": {
          "base_uri": "https://localhost:8080/"
        },
        "outputId": "f334bd99-e4b2-4e67-ea7a-dfbff21fc866"
      },
      "source": [
        "df_val = pd.concat([x_val, val_pred1,val_pred2],axis=1)\n",
        "df_test = pd.concat([x_test, test_pred1,test_pred2],axis=1)\n",
        "\n",
        "model = LogisticRegression(random_state=1)\n",
        "model.fit(df_val,y_val)\n",
        "model.score(df_test,y_test)"
      ],
      "execution_count": null,
      "outputs": [
        {
          "output_type": "execute_result",
          "data": {
            "text/plain": [
              "0.8162162162162162"
            ]
          },
          "metadata": {
            "tags": []
          },
          "execution_count": 30
        }
      ]
    },
    {
      "cell_type": "markdown",
      "metadata": {
        "collapsed": true,
        "id": "sfH5h6SnCtVv"
      },
      "source": [
        "References:\n",
        "\n",
        "    1. https://www.analyticsvidhya.com/blog/2018/06/comprehensive-guide-for-ensemble-models/\n",
        "    2. https://mlwave.com/kaggle-ensembling-guide/\n",
        "    3. https://www.analyticsvidhya.com/blog/2017/06/which-algorithm-takes-the-crown-light-gbm-vs-xgboost/\n",
        "    4. https://medium.com/@pushkarmandot/https-medium-com-pushkarmandot-what-is-lightgbm-how-to-implement-it-how-to-fine-tune-the-parameters-60347819b7fc\n",
        "    5. https://www.analyticsvidhya.com/blog/2017/08/catboost-automated-categorical-data/"
      ]
    },
    {
      "cell_type": "code",
      "metadata": {
        "id": "kEYrz3MdCtVw"
      },
      "source": [
        ""
      ],
      "execution_count": null,
      "outputs": []
    }
  ]
}